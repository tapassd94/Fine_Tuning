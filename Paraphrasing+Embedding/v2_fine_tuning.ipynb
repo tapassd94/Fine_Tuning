{
 "cells": [
  {
   "cell_type": "code",
   "execution_count": 1,
   "id": "cf836720-053e-4247-8386-2c933e9af3e5",
   "metadata": {},
   "outputs": [],
   "source": [
    "#!pip install openai"
   ]
  },
  {
   "cell_type": "code",
   "execution_count": 3,
   "id": "f6e21dae-1afb-44de-a49c-b3c494c89ebf",
   "metadata": {},
   "outputs": [],
   "source": [
    "#!pip install git+https://github.com/PrithivirajDamodaran/Parrot_Paraphraser.git"
   ]
  },
  {
   "cell_type": "code",
   "execution_count": 3,
   "id": "7808c850-5497-47fd-a5af-587d608ee0d7",
   "metadata": {},
   "outputs": [],
   "source": [
    "#!pip install --upgrade transformers sentencepiece sacremoses"
   ]
  },
  {
   "cell_type": "code",
   "execution_count": 26,
   "id": "2e6e0ae6-3ab5-450e-a107-4bed58d065a4",
   "metadata": {},
   "outputs": [],
   "source": [
    "#!pip install sentence-transformers"
   ]
  },
  {
   "cell_type": "code",
   "execution_count": 1,
   "id": "441b19c8-77ca-4cd5-abfd-c8fd78ca893c",
   "metadata": {},
   "outputs": [],
   "source": [
    "import pandas as pd\n",
    "import json\n",
    "import openai\n",
    "import numpy as np\n",
    "import re"
   ]
  },
  {
   "cell_type": "code",
   "execution_count": 2,
   "id": "4c2d0973-2927-4e36-9acb-cbf9cf8c4f2f",
   "metadata": {},
   "outputs": [],
   "source": [
    "import warnings\n",
    "warnings.filterwarnings(\"ignore\")"
   ]
  },
  {
   "cell_type": "code",
   "execution_count": 3,
   "id": "49cf6a5a-d658-4c56-bdfe-2a55228c5e2d",
   "metadata": {},
   "outputs": [],
   "source": [
    "pd.set_option('max_colwidth', None)\n",
    "pd.set_option('display.max_columns', None)"
   ]
  },
  {
   "cell_type": "code",
   "execution_count": 7,
   "id": "02ea5626-d9a6-4a36-a7f8-cd37956f61cc",
   "metadata": {},
   "outputs": [],
   "source": [
    "chat = pd.read_parquet('chat_history.parquet')"
   ]
  },
  {
   "cell_type": "code",
   "execution_count": 8,
   "id": "ad64c350-7c33-42bd-8286-f75184d91e82",
   "metadata": {},
   "outputs": [],
   "source": [
    "emb = pd.read_parquet('embedding.parquet')"
   ]
  },
  {
   "cell_type": "code",
   "execution_count": 18,
   "id": "72612848-9b6b-402e-a473-948827ba556c",
   "metadata": {},
   "outputs": [
    {
     "data": {
      "text/html": [
       "<div>\n",
       "<style scoped>\n",
       "    .dataframe tbody tr th:only-of-type {\n",
       "        vertical-align: middle;\n",
       "    }\n",
       "\n",
       "    .dataframe tbody tr th {\n",
       "        vertical-align: top;\n",
       "    }\n",
       "\n",
       "    .dataframe thead th {\n",
       "        text-align: right;\n",
       "    }\n",
       "</style>\n",
       "<table border=\"1\" class=\"dataframe\">\n",
       "  <thead>\n",
       "    <tr style=\"text-align: right;\">\n",
       "      <th></th>\n",
       "      <th>utterance</th>\n",
       "      <th>embedding</th>\n",
       "    </tr>\n",
       "  </thead>\n",
       "  <tbody>\n",
       "    <tr>\n",
       "      <th>0</th>\n",
       "      <td>\"totalprice\"</td>\n",
       "      <td>[-0.018974246457219124, 0.018123384565114975, 0.0051902648992836475, -0.00875679962337017, -0.02558261714875698, 0.015811871737241745, -0.03650202602148056, -0.029695121571421623, -0.003181873355060816, -0.021058861166238785, 0.014223594218492508, 0.02118649147450924, -0.018180107697844505, -0.007544319611042738, 0.02178209461271763, 0.0027156714349985123, 0.01813756488263607, 0.01084850449115038, 0.00011422394163673744, 0.0015191450947895646, -0.024646667763590813, 0.004151502624154091, -0.006572917569428682, -0.02315765619277954, -0.005094542633742094, -0.00885606650263071, 0.007501776330173016, -0.024533219635486603, -0.02284567430615425, 0.014407948590815067, 0.0016201850958168507, 0.0046655661426484585, -0.006331839598715305, -0.039082977920770645, -0.02814938686788082, -0.004584024660289288, 0.0017806083196774125, 0.00017958972603082657, 0.02013709396123886, 0.0038572459015995264, 0.023739080876111984, 0.000271655764663592, 0.004108959808945656, 0.00507681630551815, -0.04503902047872543, -0.0008774525485932827, 0.0315953828394413, -0.01613803580403328, -0.018917523324489594, -0.0006735999486409128, -0.014478853903710842, 0.038345564156770706, -0.03185064345598221, -0.01901678927242756, -0.004637203644961119, 0.005463249981403351, 0.024504857137799263, 0.019428040832281113, -0.004594660829752684, 0.019413858652114868, 0.007076344918459654, -0.0015785283176228404, -0.04634367674589157, -0.003640984883531928, -0.01591113954782486, -0.015131182037293911, -0.008934061974287033, 0.0020722062326967716, -0.012330424040555954, 0.00040726206498220563, -0.006689911242574453, 0.03624676913022995, 0.0003106536460109055, -0.03258805721998215, 0.026929816231131554, 0.01267786044627428, -0.0045485724695026875, 0.013670533895492554, 0.006984167732298374, 0.02392343431711197, 0.03088632971048355, -0.0024231872521340847, -0.004874736536294222, 0.005580243654549122, 0.02406524494290352, 0.02332782931625843, -0.014251956716179848, 0.02403688244521618, -0.015216268599033356, -0.01420232281088829, 0.012344605289399624, 0.002779486123472452, 0.0034708124585449696, 0.028447188436985016, -0.011444108560681343, 0.017499417066574097, -0.015982044860720634, 0.05014419928193092, -0.014890103600919247, -0.020746877416968346, ...]</td>\n",
       "    </tr>\n",
       "  </tbody>\n",
       "</table>\n",
       "</div>"
      ],
      "text/plain": [
       "      utterance  \\\n",
       "0  \"totalprice\"   \n",
       "\n",
       "                                                                                                                                                                                                                                                                                                                                                                                                                                                                                                                                                                                                                                                                                                                                                                                                                                                                                                                                                                                                                                                                                                                                                                                                                                                                                                                                                                                                                                                                                                                                                                                                                                                                                                                                                                                                                                                                                                                                                                                                                                                                                                                                                                                                                                                                                                                              embedding  \n",
       "0  [-0.018974246457219124, 0.018123384565114975, 0.0051902648992836475, -0.00875679962337017, -0.02558261714875698, 0.015811871737241745, -0.03650202602148056, -0.029695121571421623, -0.003181873355060816, -0.021058861166238785, 0.014223594218492508, 0.02118649147450924, -0.018180107697844505, -0.007544319611042738, 0.02178209461271763, 0.0027156714349985123, 0.01813756488263607, 0.01084850449115038, 0.00011422394163673744, 0.0015191450947895646, -0.024646667763590813, 0.004151502624154091, -0.006572917569428682, -0.02315765619277954, -0.005094542633742094, -0.00885606650263071, 0.007501776330173016, -0.024533219635486603, -0.02284567430615425, 0.014407948590815067, 0.0016201850958168507, 0.0046655661426484585, -0.006331839598715305, -0.039082977920770645, -0.02814938686788082, -0.004584024660289288, 0.0017806083196774125, 0.00017958972603082657, 0.02013709396123886, 0.0038572459015995264, 0.023739080876111984, 0.000271655764663592, 0.004108959808945656, 0.00507681630551815, -0.04503902047872543, -0.0008774525485932827, 0.0315953828394413, -0.01613803580403328, -0.018917523324489594, -0.0006735999486409128, -0.014478853903710842, 0.038345564156770706, -0.03185064345598221, -0.01901678927242756, -0.004637203644961119, 0.005463249981403351, 0.024504857137799263, 0.019428040832281113, -0.004594660829752684, 0.019413858652114868, 0.007076344918459654, -0.0015785283176228404, -0.04634367674589157, -0.003640984883531928, -0.01591113954782486, -0.015131182037293911, -0.008934061974287033, 0.0020722062326967716, -0.012330424040555954, 0.00040726206498220563, -0.006689911242574453, 0.03624676913022995, 0.0003106536460109055, -0.03258805721998215, 0.026929816231131554, 0.01267786044627428, -0.0045485724695026875, 0.013670533895492554, 0.006984167732298374, 0.02392343431711197, 0.03088632971048355, -0.0024231872521340847, -0.004874736536294222, 0.005580243654549122, 0.02406524494290352, 0.02332782931625843, -0.014251956716179848, 0.02403688244521618, -0.015216268599033356, -0.01420232281088829, 0.012344605289399624, 0.002779486123472452, 0.0034708124585449696, 0.028447188436985016, -0.011444108560681343, 0.017499417066574097, -0.015982044860720634, 0.05014419928193092, -0.014890103600919247, -0.020746877416968346, ...]  "
      ]
     },
     "execution_count": 18,
     "metadata": {},
     "output_type": "execute_result"
    }
   ],
   "source": [
    "emb.head(1)"
   ]
  },
  {
   "cell_type": "code",
   "execution_count": 9,
   "id": "0494f1b9-891e-417c-afc1-707a8d3572b4",
   "metadata": {},
   "outputs": [
    {
     "data": {
      "text/html": [
       "<div>\n",
       "<style scoped>\n",
       "    .dataframe tbody tr th:only-of-type {\n",
       "        vertical-align: middle;\n",
       "    }\n",
       "\n",
       "    .dataframe tbody tr th {\n",
       "        vertical-align: top;\n",
       "    }\n",
       "\n",
       "    .dataframe thead th {\n",
       "        text-align: right;\n",
       "    }\n",
       "</style>\n",
       "<table border=\"1\" class=\"dataframe\">\n",
       "  <thead>\n",
       "    <tr style=\"text-align: right;\">\n",
       "      <th></th>\n",
       "      <th>processedUtterance</th>\n",
       "      <th>utterance</th>\n",
       "      <th>semantics</th>\n",
       "      <th>sqlForm</th>\n",
       "      <th>status</th>\n",
       "      <th>dataset</th>\n",
       "      <th>tags</th>\n",
       "      <th>createdAt</th>\n",
       "      <th>length</th>\n",
       "    </tr>\n",
       "  </thead>\n",
       "  <tbody>\n",
       "    <tr>\n",
       "      <th>0</th>\n",
       "      <td>Customer_Monthly_Smart_View.totalprice</td>\n",
       "      <td>\"totalprice\"</td>\n",
       "      <td>{'domain': 'Metric', 'filter': [], 'columns': ['Customer_Monthly_Smart_View.totalprice'], 'type': None, 'select': [('sum', 'currency/metrics/Customer_Monthly_Smart_View.totalprice')]}</td>\n",
       "      <td>SELECT round(sum(coalesce(subquery.\"label_Customer_Monthly_Smart_View.totalprice\", 0)), 2) AS \"label_Customer_Monthly_Smart_View.totalprice\" \\nFROM (SELECT round(sum(coalesce(@Customer_Monthly_Smart_View.totalprice, 0)), 2) AS \"label_Customer_Monthly_Smart_View.totalprice\" \\nFROM (#)Customer_Monthly_Smart_View) AS subquery</td>\n",
       "      <td>success</td>\n",
       "      <td>3740fcb3-de4f-42cd-a14d-caba82b1cbcc</td>\n",
       "      <td>[[\"$Metrics\", [\"\\\"totalprice\\\"\"]]]</td>\n",
       "      <td>1675057540502</td>\n",
       "      <td>1</td>\n",
       "    </tr>\n",
       "  </tbody>\n",
       "</table>\n",
       "</div>"
      ],
      "text/plain": [
       "                       processedUtterance     utterance  \\\n",
       "0  Customer_Monthly_Smart_View.totalprice  \"totalprice\"   \n",
       "\n",
       "                                                                                                                                                                                 semantics  \\\n",
       "0  {'domain': 'Metric', 'filter': [], 'columns': ['Customer_Monthly_Smart_View.totalprice'], 'type': None, 'select': [('sum', 'currency/metrics/Customer_Monthly_Smart_View.totalprice')]}   \n",
       "\n",
       "                                                                                                                                                                                                                                                                                                                                sqlForm  \\\n",
       "0  SELECT round(sum(coalesce(subquery.\"label_Customer_Monthly_Smart_View.totalprice\", 0)), 2) AS \"label_Customer_Monthly_Smart_View.totalprice\" \\nFROM (SELECT round(sum(coalesce(@Customer_Monthly_Smart_View.totalprice, 0)), 2) AS \"label_Customer_Monthly_Smart_View.totalprice\" \\nFROM (#)Customer_Monthly_Smart_View) AS subquery   \n",
       "\n",
       "    status                               dataset  \\\n",
       "0  success  3740fcb3-de4f-42cd-a14d-caba82b1cbcc   \n",
       "\n",
       "                                 tags      createdAt  length  \n",
       "0  [[\"$Metrics\", [\"\\\"totalprice\\\"\"]]]  1675057540502       1  "
      ]
     },
     "execution_count": 9,
     "metadata": {},
     "output_type": "execute_result"
    }
   ],
   "source": [
    "chat.head(1)"
   ]
  },
  {
   "cell_type": "code",
   "execution_count": 10,
   "id": "aae3f7db-228b-4087-9359-b4c90939c0d0",
   "metadata": {},
   "outputs": [],
   "source": [
    "chat = chat[['utterance','tags']]"
   ]
  },
  {
   "cell_type": "code",
   "execution_count": 11,
   "id": "1e16a265-73c3-434d-ba3c-b7d66bea0b15",
   "metadata": {},
   "outputs": [
    {
     "data": {
      "text/html": [
       "<div>\n",
       "<style scoped>\n",
       "    .dataframe tbody tr th:only-of-type {\n",
       "        vertical-align: middle;\n",
       "    }\n",
       "\n",
       "    .dataframe tbody tr th {\n",
       "        vertical-align: top;\n",
       "    }\n",
       "\n",
       "    .dataframe thead th {\n",
       "        text-align: right;\n",
       "    }\n",
       "</style>\n",
       "<table border=\"1\" class=\"dataframe\">\n",
       "  <thead>\n",
       "    <tr style=\"text-align: right;\">\n",
       "      <th></th>\n",
       "      <th>utterance</th>\n",
       "      <th>tags</th>\n",
       "    </tr>\n",
       "  </thead>\n",
       "  <tbody>\n",
       "    <tr>\n",
       "      <th>0</th>\n",
       "      <td>\"totalprice\"</td>\n",
       "      <td>[[\"$Metrics\", [\"\\\"totalprice\\\"\"]]]</td>\n",
       "    </tr>\n",
       "    <tr>\n",
       "      <th>1</th>\n",
       "      <td>+ve revenue</td>\n",
       "      <td>[[\"$UOps\", [\"+ve\"]], [\"$Metrics\", [\"revenue\"]]]</td>\n",
       "    </tr>\n",
       "    <tr>\n",
       "      <th>2</th>\n",
       "      <td>, on_hand_qty, customer, product number, product description, uom code, date</td>\n",
       "      <td>[[\"$Metrics\", [\"on_hand_qty\"]], [\"$Dimensions\", [\"customer\"]], [\"$Dimensions\", [\"product number\"]], [\"$Dimensions\", [\"product description\"]], [\"$Dimensions\", [\"uom code\"]], [\"$Datum\", [\"date\"]]]</td>\n",
       "    </tr>\n",
       "    <tr>\n",
       "      <th>3</th>\n",
       "      <td>-ve revenue</td>\n",
       "      <td>[[\"$UOps\", [\"-ve\"]], [\"$Metrics\", [\"revenue\"]]]</td>\n",
       "    </tr>\n",
       "    <tr>\n",
       "      <th>4</th>\n",
       "      <td>1)\\tlines per day for last 3 months</td>\n",
       "      <td>[[\"$MultiTableDate\", [\"1)\"]], [\"$Dimensions\", [\"lines\"]], [\"$Per\", [\"per\"]], [\"$TrendPeriod\", [\"day\"]], [\"$Filter\", [\"for\"]], [\"$Period\", [\"last\", \"3\", \"months\"]]]</td>\n",
       "    </tr>\n",
       "    <tr>\n",
       "      <th>...</th>\n",
       "      <td>...</td>\n",
       "      <td>...</td>\n",
       "    </tr>\n",
       "    <tr>\n",
       "      <th>3868</th>\n",
       "      <td>ytd spend by vendor top 5</td>\n",
       "      <td>[[\"$Period\", [\"ytd\"]], [\"$Metrics\", [\"spend\"]], [\"$GroupBy\", [\"by\"]], [\"$Dimensions\", [\"vendor\"]], [\"$Super\", [\"top\"]], [\"$Number\", [\"5\"]]]</td>\n",
       "    </tr>\n",
       "    <tr>\n",
       "      <th>3869</th>\n",
       "      <td>ytd spend by week</td>\n",
       "      <td>[[\"$Period\", [\"ytd\"]], [\"$Metrics\", [\"spend\"]], [\"$GroupBy\", [\"by\"]], [\"$TrendPeriod\", [\"week\"]]]</td>\n",
       "    </tr>\n",
       "    <tr>\n",
       "      <th>3870</th>\n",
       "      <td>ytd spend this calendar year</td>\n",
       "      <td>[[\"$Period\", [\"ytd\"]], [\"$Metrics\", [\"spend\"]], [\"$Period\", [\"this\", \"calendar year\"]]]</td>\n",
       "    </tr>\n",
       "    <tr>\n",
       "      <th>3871</th>\n",
       "      <td>ytd spend top 5 vendors</td>\n",
       "      <td>[[\"$Period\", [\"ytd\"]], [\"$Metrics\", [\"spend\"]], [\"$Super\", [\"top\"]], [\"$Number\", [\"5\"]], [\"$Dimensions\", [\"vendors\"]]]</td>\n",
       "    </tr>\n",
       "    <tr>\n",
       "      <th>3872</th>\n",
       "      <td>ytd totalprice</td>\n",
       "      <td>[[\"$Period\", [\"ytd\"]], [\"$Metrics\", [\"totalprice\"]]]</td>\n",
       "    </tr>\n",
       "  </tbody>\n",
       "</table>\n",
       "<p>3873 rows × 2 columns</p>\n",
       "</div>"
      ],
      "text/plain": [
       "                                                                         utterance  \\\n",
       "0                                                                     \"totalprice\"   \n",
       "1                                                                      +ve revenue   \n",
       "2     , on_hand_qty, customer, product number, product description, uom code, date   \n",
       "3                                                                      -ve revenue   \n",
       "4                                              1)\\tlines per day for last 3 months   \n",
       "...                                                                            ...   \n",
       "3868                                                     ytd spend by vendor top 5   \n",
       "3869                                                             ytd spend by week   \n",
       "3870                                                  ytd spend this calendar year   \n",
       "3871                                                       ytd spend top 5 vendors   \n",
       "3872                                                                ytd totalprice   \n",
       "\n",
       "                                                                                                                                                                                                    tags  \n",
       "0                                                                                                                                                                     [[\"$Metrics\", [\"\\\"totalprice\\\"\"]]]  \n",
       "1                                                                                                                                                        [[\"$UOps\", [\"+ve\"]], [\"$Metrics\", [\"revenue\"]]]  \n",
       "2     [[\"$Metrics\", [\"on_hand_qty\"]], [\"$Dimensions\", [\"customer\"]], [\"$Dimensions\", [\"product number\"]], [\"$Dimensions\", [\"product description\"]], [\"$Dimensions\", [\"uom code\"]], [\"$Datum\", [\"date\"]]]  \n",
       "3                                                                                                                                                        [[\"$UOps\", [\"-ve\"]], [\"$Metrics\", [\"revenue\"]]]  \n",
       "4                                    [[\"$MultiTableDate\", [\"1)\"]], [\"$Dimensions\", [\"lines\"]], [\"$Per\", [\"per\"]], [\"$TrendPeriod\", [\"day\"]], [\"$Filter\", [\"for\"]], [\"$Period\", [\"last\", \"3\", \"months\"]]]  \n",
       "...                                                                                                                                                                                                  ...  \n",
       "3868                                                         [[\"$Period\", [\"ytd\"]], [\"$Metrics\", [\"spend\"]], [\"$GroupBy\", [\"by\"]], [\"$Dimensions\", [\"vendor\"]], [\"$Super\", [\"top\"]], [\"$Number\", [\"5\"]]]  \n",
       "3869                                                                                                   [[\"$Period\", [\"ytd\"]], [\"$Metrics\", [\"spend\"]], [\"$GroupBy\", [\"by\"]], [\"$TrendPeriod\", [\"week\"]]]  \n",
       "3870                                                                                                             [[\"$Period\", [\"ytd\"]], [\"$Metrics\", [\"spend\"]], [\"$Period\", [\"this\", \"calendar year\"]]]  \n",
       "3871                                                                              [[\"$Period\", [\"ytd\"]], [\"$Metrics\", [\"spend\"]], [\"$Super\", [\"top\"]], [\"$Number\", [\"5\"]], [\"$Dimensions\", [\"vendors\"]]]  \n",
       "3872                                                                                                                                                [[\"$Period\", [\"ytd\"]], [\"$Metrics\", [\"totalprice\"]]]  \n",
       "\n",
       "[3873 rows x 2 columns]"
      ]
     },
     "execution_count": 11,
     "metadata": {},
     "output_type": "execute_result"
    }
   ],
   "source": [
    "chat"
   ]
  },
  {
   "cell_type": "code",
   "execution_count": 12,
   "id": "932f4c91-1a73-4472-9430-d6c32b929604",
   "metadata": {},
   "outputs": [],
   "source": [
    "#chat['utterance'] = chat['utterance'].str.replace(r'\\d+\\)', '', regex=True).str.replace('\\t|\\\\\\\\', '', regex=True)\n",
    "#chat['utterance'] = chat['utterance'].replace(', ', ' ', regex=True).replace('\"', '', regex=True).replace('\\t|\\\\\\\\', '', regex=True)\n",
    "chat['utterance'] = chat['utterance'].replace('\"', '', regex=True).replace('\\t|\\\\\\\\', '', regex=True)\n",
    "chat['utterance'] = chat['utterance'].str.strip(\",\")\n",
    "chat['utterance'] = chat['utterance'].str.strip()"
   ]
  },
  {
   "cell_type": "code",
   "execution_count": 13,
   "id": "8afd5540-a93f-45f2-82ec-2efc6b295bab",
   "metadata": {},
   "outputs": [],
   "source": [
    "chat['tags'] = chat['tags'].str.replace('\" ', '\"')\n",
    "chat['tags'] = chat['tags'].str.strip()"
   ]
  },
  {
   "cell_type": "code",
   "execution_count": 14,
   "id": "7a3ac95e-55d4-4de6-9b8a-315ceb7a5a3c",
   "metadata": {},
   "outputs": [
    {
     "data": {
      "text/html": [
       "<div>\n",
       "<style scoped>\n",
       "    .dataframe tbody tr th:only-of-type {\n",
       "        vertical-align: middle;\n",
       "    }\n",
       "\n",
       "    .dataframe tbody tr th {\n",
       "        vertical-align: top;\n",
       "    }\n",
       "\n",
       "    .dataframe thead th {\n",
       "        text-align: right;\n",
       "    }\n",
       "</style>\n",
       "<table border=\"1\" class=\"dataframe\">\n",
       "  <thead>\n",
       "    <tr style=\"text-align: right;\">\n",
       "      <th></th>\n",
       "      <th>utterance</th>\n",
       "      <th>tags</th>\n",
       "    </tr>\n",
       "  </thead>\n",
       "  <tbody>\n",
       "    <tr>\n",
       "      <th>0</th>\n",
       "      <td>totalprice</td>\n",
       "      <td>[[\"$Metrics\", [\"\\\"totalprice\\\"\"]]]</td>\n",
       "    </tr>\n",
       "    <tr>\n",
       "      <th>1</th>\n",
       "      <td>+ve revenue</td>\n",
       "      <td>[[\"$UOps\", [\"+ve\"]], [\"$Metrics\", [\"revenue\"]]]</td>\n",
       "    </tr>\n",
       "    <tr>\n",
       "      <th>2</th>\n",
       "      <td>on_hand_qty, customer, product number, product description, uom code, date</td>\n",
       "      <td>[[\"$Metrics\", [\"on_hand_qty\"]], [\"$Dimensions\", [\"customer\"]], [\"$Dimensions\", [\"product number\"]], [\"$Dimensions\", [\"product description\"]], [\"$Dimensions\", [\"uom code\"]], [\"$Datum\", [\"date\"]]]</td>\n",
       "    </tr>\n",
       "    <tr>\n",
       "      <th>3</th>\n",
       "      <td>-ve revenue</td>\n",
       "      <td>[[\"$UOps\", [\"-ve\"]], [\"$Metrics\", [\"revenue\"]]]</td>\n",
       "    </tr>\n",
       "    <tr>\n",
       "      <th>4</th>\n",
       "      <td>1)lines per day for last 3 months</td>\n",
       "      <td>[[\"$MultiTableDate\", [\"1)\"]], [\"$Dimensions\", [\"lines\"]], [\"$Per\", [\"per\"]], [\"$TrendPeriod\", [\"day\"]], [\"$Filter\", [\"for\"]], [\"$Period\", [\"last\", \"3\", \"months\"]]]</td>\n",
       "    </tr>\n",
       "    <tr>\n",
       "      <th>...</th>\n",
       "      <td>...</td>\n",
       "      <td>...</td>\n",
       "    </tr>\n",
       "    <tr>\n",
       "      <th>3868</th>\n",
       "      <td>ytd spend by vendor top 5</td>\n",
       "      <td>[[\"$Period\", [\"ytd\"]], [\"$Metrics\", [\"spend\"]], [\"$GroupBy\", [\"by\"]], [\"$Dimensions\", [\"vendor\"]], [\"$Super\", [\"top\"]], [\"$Number\", [\"5\"]]]</td>\n",
       "    </tr>\n",
       "    <tr>\n",
       "      <th>3869</th>\n",
       "      <td>ytd spend by week</td>\n",
       "      <td>[[\"$Period\", [\"ytd\"]], [\"$Metrics\", [\"spend\"]], [\"$GroupBy\", [\"by\"]], [\"$TrendPeriod\", [\"week\"]]]</td>\n",
       "    </tr>\n",
       "    <tr>\n",
       "      <th>3870</th>\n",
       "      <td>ytd spend this calendar year</td>\n",
       "      <td>[[\"$Period\", [\"ytd\"]], [\"$Metrics\", [\"spend\"]], [\"$Period\", [\"this\", \"calendar year\"]]]</td>\n",
       "    </tr>\n",
       "    <tr>\n",
       "      <th>3871</th>\n",
       "      <td>ytd spend top 5 vendors</td>\n",
       "      <td>[[\"$Period\", [\"ytd\"]], [\"$Metrics\", [\"spend\"]], [\"$Super\", [\"top\"]], [\"$Number\", [\"5\"]], [\"$Dimensions\", [\"vendors\"]]]</td>\n",
       "    </tr>\n",
       "    <tr>\n",
       "      <th>3872</th>\n",
       "      <td>ytd totalprice</td>\n",
       "      <td>[[\"$Period\", [\"ytd\"]], [\"$Metrics\", [\"totalprice\"]]]</td>\n",
       "    </tr>\n",
       "  </tbody>\n",
       "</table>\n",
       "<p>3873 rows × 2 columns</p>\n",
       "</div>"
      ],
      "text/plain": [
       "                                                                       utterance  \\\n",
       "0                                                                     totalprice   \n",
       "1                                                                    +ve revenue   \n",
       "2     on_hand_qty, customer, product number, product description, uom code, date   \n",
       "3                                                                    -ve revenue   \n",
       "4                                              1)lines per day for last 3 months   \n",
       "...                                                                          ...   \n",
       "3868                                                   ytd spend by vendor top 5   \n",
       "3869                                                           ytd spend by week   \n",
       "3870                                                ytd spend this calendar year   \n",
       "3871                                                     ytd spend top 5 vendors   \n",
       "3872                                                              ytd totalprice   \n",
       "\n",
       "                                                                                                                                                                                                    tags  \n",
       "0                                                                                                                                                                     [[\"$Metrics\", [\"\\\"totalprice\\\"\"]]]  \n",
       "1                                                                                                                                                        [[\"$UOps\", [\"+ve\"]], [\"$Metrics\", [\"revenue\"]]]  \n",
       "2     [[\"$Metrics\", [\"on_hand_qty\"]], [\"$Dimensions\", [\"customer\"]], [\"$Dimensions\", [\"product number\"]], [\"$Dimensions\", [\"product description\"]], [\"$Dimensions\", [\"uom code\"]], [\"$Datum\", [\"date\"]]]  \n",
       "3                                                                                                                                                        [[\"$UOps\", [\"-ve\"]], [\"$Metrics\", [\"revenue\"]]]  \n",
       "4                                    [[\"$MultiTableDate\", [\"1)\"]], [\"$Dimensions\", [\"lines\"]], [\"$Per\", [\"per\"]], [\"$TrendPeriod\", [\"day\"]], [\"$Filter\", [\"for\"]], [\"$Period\", [\"last\", \"3\", \"months\"]]]  \n",
       "...                                                                                                                                                                                                  ...  \n",
       "3868                                                         [[\"$Period\", [\"ytd\"]], [\"$Metrics\", [\"spend\"]], [\"$GroupBy\", [\"by\"]], [\"$Dimensions\", [\"vendor\"]], [\"$Super\", [\"top\"]], [\"$Number\", [\"5\"]]]  \n",
       "3869                                                                                                   [[\"$Period\", [\"ytd\"]], [\"$Metrics\", [\"spend\"]], [\"$GroupBy\", [\"by\"]], [\"$TrendPeriod\", [\"week\"]]]  \n",
       "3870                                                                                                             [[\"$Period\", [\"ytd\"]], [\"$Metrics\", [\"spend\"]], [\"$Period\", [\"this\", \"calendar year\"]]]  \n",
       "3871                                                                              [[\"$Period\", [\"ytd\"]], [\"$Metrics\", [\"spend\"]], [\"$Super\", [\"top\"]], [\"$Number\", [\"5\"]], [\"$Dimensions\", [\"vendors\"]]]  \n",
       "3872                                                                                                                                                [[\"$Period\", [\"ytd\"]], [\"$Metrics\", [\"totalprice\"]]]  \n",
       "\n",
       "[3873 rows x 2 columns]"
      ]
     },
     "execution_count": 14,
     "metadata": {},
     "output_type": "execute_result"
    }
   ],
   "source": [
    "chat"
   ]
  },
  {
   "cell_type": "code",
   "execution_count": null,
   "id": "d5226f93-1d7a-4651-b5e7-ff65cc41df03",
   "metadata": {},
   "outputs": [],
   "source": []
  },
  {
   "cell_type": "markdown",
   "id": "ac91a66c-2245-4031-bacc-1655beabe89e",
   "metadata": {},
   "source": [
    "## Genrate paraphases"
   ]
  },
  {
   "cell_type": "code",
   "execution_count": 12,
   "id": "d09609b3-6c12-437d-be9c-82f45a5d4a3d",
   "metadata": {},
   "outputs": [],
   "source": [
    "from parrot import Parrot\n",
    "import torch\n",
    "import warnings\n",
    "warnings.filterwarnings(\"ignore\")"
   ]
  },
  {
   "cell_type": "code",
   "execution_count": 13,
   "id": "15442071-9182-4d35-8d66-7157bfcff8c4",
   "metadata": {},
   "outputs": [],
   "source": [
    "import warnings\n",
    "warnings.filterwarnings(\"ignore\")"
   ]
  },
  {
   "cell_type": "code",
   "execution_count": 14,
   "id": "ff7ca705-26df-464d-b8b2-5669dd64ee36",
   "metadata": {},
   "outputs": [],
   "source": [
    "def random_state(seed):\n",
    "    np.random.seed(seed)\n",
    "    torch.manual_seed(seed)\n",
    "    if torch.cuda.is_available():\n",
    "        torch.cuda.manual_seed_all(seed)\n",
    "\n",
    "random_state(42)"
   ]
  },
  {
   "cell_type": "code",
   "execution_count": 15,
   "id": "8d7edfa3-3fa0-44a2-b5b8-6cf12c529731",
   "metadata": {},
   "outputs": [
    {
     "data": {
      "application/vnd.jupyter.widget-view+json": {
       "model_id": "aae3f5e491e84db586f37b06dc2e2480",
       "version_major": 2,
       "version_minor": 0
      },
      "text/plain": [
       "Downloading (…)okenizer_config.json:   0%|          | 0.00/1.89k [00:00<?, ?B/s]"
      ]
     },
     "metadata": {},
     "output_type": "display_data"
    },
    {
     "data": {
      "application/vnd.jupyter.widget-view+json": {
       "model_id": "69ee9d36a5984b3480ac89bd2ee6abb5",
       "version_major": 2,
       "version_minor": 0
      },
      "text/plain": [
       "Downloading (…)lve/main/config.json:   0%|          | 0.00/1.37k [00:00<?, ?B/s]"
      ]
     },
     "metadata": {},
     "output_type": "display_data"
    },
    {
     "data": {
      "application/vnd.jupyter.widget-view+json": {
       "model_id": "591919c0ea5741f3bb653a100ee35a82",
       "version_major": 2,
       "version_minor": 0
      },
      "text/plain": [
       "Downloading spiece.model:   0%|          | 0.00/792k [00:00<?, ?B/s]"
      ]
     },
     "metadata": {},
     "output_type": "display_data"
    },
    {
     "data": {
      "application/vnd.jupyter.widget-view+json": {
       "model_id": "324ec65505304e6a981748a725f2917d",
       "version_major": 2,
       "version_minor": 0
      },
      "text/plain": [
       "Downloading (…)cial_tokens_map.json:   0%|          | 0.00/1.79k [00:00<?, ?B/s]"
      ]
     },
     "metadata": {},
     "output_type": "display_data"
    },
    {
     "data": {
      "application/vnd.jupyter.widget-view+json": {
       "model_id": "7bc01c2bef164c3e8eff89538cdffd60",
       "version_major": 2,
       "version_minor": 0
      },
      "text/plain": [
       "Downloading pytorch_model.bin:   0%|          | 0.00/892M [00:00<?, ?B/s]"
      ]
     },
     "metadata": {},
     "output_type": "display_data"
    },
    {
     "data": {
      "application/vnd.jupyter.widget-view+json": {
       "model_id": "d1262e14605f4255968976981ea404e2",
       "version_major": 2,
       "version_minor": 0
      },
      "text/plain": [
       "Downloading (…)lve/main/config.json:   0%|          | 0.00/913 [00:00<?, ?B/s]"
      ]
     },
     "metadata": {},
     "output_type": "display_data"
    },
    {
     "data": {
      "application/vnd.jupyter.widget-view+json": {
       "model_id": "17b27a62789a4e3a975e184c7bbdaee2",
       "version_major": 2,
       "version_minor": 0
      },
      "text/plain": [
       "Downloading pytorch_model.bin:   0%|          | 0.00/1.42G [00:00<?, ?B/s]"
      ]
     },
     "metadata": {},
     "output_type": "display_data"
    },
    {
     "data": {
      "application/vnd.jupyter.widget-view+json": {
       "model_id": "00beab52f28f4986b4795d85ea86e359",
       "version_major": 2,
       "version_minor": 0
      },
      "text/plain": [
       "Downloading (…)olve/main/vocab.json:   0%|          | 0.00/899k [00:00<?, ?B/s]"
      ]
     },
     "metadata": {},
     "output_type": "display_data"
    },
    {
     "data": {
      "application/vnd.jupyter.widget-view+json": {
       "model_id": "3335c5bfd2da495a83b785198d2710eb",
       "version_major": 2,
       "version_minor": 0
      },
      "text/plain": [
       "Downloading (…)olve/main/merges.txt:   0%|          | 0.00/456k [00:00<?, ?B/s]"
      ]
     },
     "metadata": {},
     "output_type": "display_data"
    },
    {
     "data": {
      "application/vnd.jupyter.widget-view+json": {
       "model_id": "0a38d3dd5e9840d1b0bacacc06ab864f",
       "version_major": 2,
       "version_minor": 0
      },
      "text/plain": [
       "Downloading (…)/main/tokenizer.json:   0%|          | 0.00/1.36M [00:00<?, ?B/s]"
      ]
     },
     "metadata": {},
     "output_type": "display_data"
    },
    {
     "data": {
      "application/vnd.jupyter.widget-view+json": {
       "model_id": "a0177326742e43c48adf3f3cdccf094b",
       "version_major": 2,
       "version_minor": 0
      },
      "text/plain": [
       "Downloading (…)cial_tokens_map.json:   0%|          | 0.00/772 [00:00<?, ?B/s]"
      ]
     },
     "metadata": {},
     "output_type": "display_data"
    },
    {
     "data": {
      "application/vnd.jupyter.widget-view+json": {
       "model_id": "4d0a5f80c34549f28b2ba6914ad042b5",
       "version_major": 2,
       "version_minor": 0
      },
      "text/plain": [
       "Downloading (…)lve/main/config.json:   0%|          | 0.00/476 [00:00<?, ?B/s]"
      ]
     },
     "metadata": {},
     "output_type": "display_data"
    },
    {
     "data": {
      "application/vnd.jupyter.widget-view+json": {
       "model_id": "a68401f41f8044b382b5f6ae701fab9b",
       "version_major": 2,
       "version_minor": 0
      },
      "text/plain": [
       "Downloading pytorch_model.bin:   0%|          | 0.00/438M [00:00<?, ?B/s]"
      ]
     },
     "metadata": {},
     "output_type": "display_data"
    },
    {
     "data": {
      "application/vnd.jupyter.widget-view+json": {
       "model_id": "acc71539d9c441a6a89c3cf484fd9284",
       "version_major": 2,
       "version_minor": 0
      },
      "text/plain": [
       "Downloading (…)okenizer_config.json:   0%|          | 0.00/48.0 [00:00<?, ?B/s]"
      ]
     },
     "metadata": {},
     "output_type": "display_data"
    },
    {
     "data": {
      "application/vnd.jupyter.widget-view+json": {
       "model_id": "8ad859366a9749cf83958843f71dadf9",
       "version_major": 2,
       "version_minor": 0
      },
      "text/plain": [
       "Downloading (…)solve/main/vocab.txt:   0%|          | 0.00/232k [00:00<?, ?B/s]"
      ]
     },
     "metadata": {},
     "output_type": "display_data"
    },
    {
     "data": {
      "application/vnd.jupyter.widget-view+json": {
       "model_id": "4095062009354baba473fc1c4d6723ad",
       "version_major": 2,
       "version_minor": 0
      },
      "text/plain": [
       "Downloading (…)cial_tokens_map.json:   0%|          | 0.00/112 [00:00<?, ?B/s]"
      ]
     },
     "metadata": {},
     "output_type": "display_data"
    },
    {
     "data": {
      "application/vnd.jupyter.widget-view+json": {
       "model_id": "0d31014f8623470a93348acbc3477f32",
       "version_major": 2,
       "version_minor": 0
      },
      "text/plain": [
       "Downloading (…)2b9e5/.gitattributes:   0%|          | 0.00/736 [00:00<?, ?B/s]"
      ]
     },
     "metadata": {},
     "output_type": "display_data"
    },
    {
     "data": {
      "application/vnd.jupyter.widget-view+json": {
       "model_id": "cbd40ec0d5b94a539d686a2ddba18608",
       "version_major": 2,
       "version_minor": 0
      },
      "text/plain": [
       "Downloading (…)_Pooling/config.json:   0%|          | 0.00/190 [00:00<?, ?B/s]"
      ]
     },
     "metadata": {},
     "output_type": "display_data"
    },
    {
     "data": {
      "application/vnd.jupyter.widget-view+json": {
       "model_id": "15774ff8e20d4bfd82f98057bb20b453",
       "version_major": 2,
       "version_minor": 0
      },
      "text/plain": [
       "Downloading (…)3c1ed2b9e5/README.md:   0%|          | 0.00/3.74k [00:00<?, ?B/s]"
      ]
     },
     "metadata": {},
     "output_type": "display_data"
    },
    {
     "data": {
      "application/vnd.jupyter.widget-view+json": {
       "model_id": "839c9070532e42008cc45c433129e570",
       "version_major": 2,
       "version_minor": 0
      },
      "text/plain": [
       "Downloading (…)1ed2b9e5/config.json:   0%|          | 0.00/686 [00:00<?, ?B/s]"
      ]
     },
     "metadata": {},
     "output_type": "display_data"
    },
    {
     "data": {
      "application/vnd.jupyter.widget-view+json": {
       "model_id": "cecdb449ac1a44daaccedf1eb48420f5",
       "version_major": 2,
       "version_minor": 0
      },
      "text/plain": [
       "Downloading (…)ce_transformers.json:   0%|          | 0.00/122 [00:00<?, ?B/s]"
      ]
     },
     "metadata": {},
     "output_type": "display_data"
    },
    {
     "data": {
      "application/vnd.jupyter.widget-view+json": {
       "model_id": "9dac54565b124470b60a11679f89b25b",
       "version_major": 2,
       "version_minor": 0
      },
      "text/plain": [
       "Downloading (…)c1ed2b9e5/merges.txt:   0%|          | 0.00/456k [00:00<?, ?B/s]"
      ]
     },
     "metadata": {},
     "output_type": "display_data"
    },
    {
     "data": {
      "application/vnd.jupyter.widget-view+json": {
       "model_id": "8b3c8d6df5ed43da9affafe623a5b38a",
       "version_major": 2,
       "version_minor": 0
      },
      "text/plain": [
       "Downloading pytorch_model.bin:   0%|          | 0.00/329M [00:00<?, ?B/s]"
      ]
     },
     "metadata": {},
     "output_type": "display_data"
    },
    {
     "data": {
      "application/vnd.jupyter.widget-view+json": {
       "model_id": "9101a3f81a7c4894923f08931291b0cc",
       "version_major": 2,
       "version_minor": 0
      },
      "text/plain": [
       "Downloading (…)nce_bert_config.json:   0%|          | 0.00/53.0 [00:00<?, ?B/s]"
      ]
     },
     "metadata": {},
     "output_type": "display_data"
    },
    {
     "data": {
      "application/vnd.jupyter.widget-view+json": {
       "model_id": "d941ecf2861543f79f157957dc15b907",
       "version_major": 2,
       "version_minor": 0
      },
      "text/plain": [
       "Downloading (…)cial_tokens_map.json:   0%|          | 0.00/239 [00:00<?, ?B/s]"
      ]
     },
     "metadata": {},
     "output_type": "display_data"
    },
    {
     "data": {
      "application/vnd.jupyter.widget-view+json": {
       "model_id": "241da8a2040f491ba0283f602286c6b7",
       "version_major": 2,
       "version_minor": 0
      },
      "text/plain": [
       "Downloading (…)2b9e5/tokenizer.json:   0%|          | 0.00/1.36M [00:00<?, ?B/s]"
      ]
     },
     "metadata": {},
     "output_type": "display_data"
    },
    {
     "data": {
      "application/vnd.jupyter.widget-view+json": {
       "model_id": "e1da7865baeb446289b84732b91ddd85",
       "version_major": 2,
       "version_minor": 0
      },
      "text/plain": [
       "Downloading (…)okenizer_config.json:   0%|          | 0.00/1.12k [00:00<?, ?B/s]"
      ]
     },
     "metadata": {},
     "output_type": "display_data"
    },
    {
     "data": {
      "application/vnd.jupyter.widget-view+json": {
       "model_id": "78a64405def64ef698152f0b1f125538",
       "version_major": 2,
       "version_minor": 0
      },
      "text/plain": [
       "Downloading (…)c1ed2b9e5/vocab.json:   0%|          | 0.00/798k [00:00<?, ?B/s]"
      ]
     },
     "metadata": {},
     "output_type": "display_data"
    },
    {
     "data": {
      "application/vnd.jupyter.widget-view+json": {
       "model_id": "fe61c62480fb45aea2766ef4a40bf8ef",
       "version_major": 2,
       "version_minor": 0
      },
      "text/plain": [
       "Downloading (…)ed2b9e5/modules.json:   0%|          | 0.00/229 [00:00<?, ?B/s]"
      ]
     },
     "metadata": {},
     "output_type": "display_data"
    }
   ],
   "source": [
    "parrot = Parrot(model_tag=\"prithivida/parrot_paraphraser_on_T5\", use_gpu=False)"
   ]
  },
  {
   "cell_type": "code",
   "execution_count": 72,
   "id": "3da672d6-4362-4270-98ee-2a0b12e3f4d9",
   "metadata": {},
   "outputs": [
    {
     "name": "stdout",
     "output_type": "stream",
     "text": [
      "completed 200 items\n"
     ]
    }
   ],
   "source": [
    "question = list(chat['utterance'])\n",
    "\n",
    "q_langs = [\"can you give me\", \"can you get me\", \"give me\", \"Could you provide\", \"Get me\",\n",
    "           \"Give me that\", \"Provide details on\", \"Tell me about\", \"Share information about\", \"Update me the\",\n",
    "           \"Need info on\", \"Brief me on\", \"What is the\"]\n",
    "\n",
    "paraphrase = []\n",
    "iter_ = 0\n",
    "# chunked, n = question[494:500], 1\n",
    "\n",
    "# for chunk in [chunked[i * n:(i + 1) * n] for i in range((len(chunked) + n - 1) // n )]:\n",
    "for phrase in question[3500:]:\n",
    "    contains_q_word = False\n",
    "    for q_word in q_langs:\n",
    "        if q_word in phrase:\n",
    "            contains_q_word = True\n",
    "            break\n",
    "\n",
    "    if contains_q_word:\n",
    "        input_phrase = phrase\n",
    "    else:\n",
    "        q_word = np.random.choice(q_langs)\n",
    "        input_phrase = \" \".join([q_word, phrase])\n",
    "\n",
    "    para_phrases = parrot.augment(input_phrase= input_phrase,\n",
    "                                use_gpu=False,\n",
    "                                diversity_ranker=\"levenshtein\",\n",
    "                                do_diverse=True, \n",
    "                                max_return_phrases = 10, \n",
    "                                max_length=300, \n",
    "                                adequacy_threshold = 0.40, \n",
    "                                fluency_threshold = 0.40)\n",
    "\n",
    "    para_sent = []\n",
    "    if para_phrases is None:\n",
    "        paraphrase.append('')\n",
    "    else:\n",
    "        for para in para_phrases:                                  \n",
    "            para_sent.append(para[0])\n",
    "        paraphrase.append(', '.join(para_sent))\n",
    "\n",
    "    iter_ += 1\n",
    "    if iter_ % 200 == 0:\n",
    "        print(f\"completed {iter_} items\")"
   ]
  },
  {
   "cell_type": "code",
   "execution_count": 74,
   "id": "fb777148-6c36-4ffc-a176-e4e8e9405819",
   "metadata": {},
   "outputs": [
    {
     "data": {
      "text/plain": [
       "373"
      ]
     },
     "execution_count": 74,
     "metadata": {},
     "output_type": "execute_result"
    }
   ],
   "source": [
    "len(paraphrase)"
   ]
  },
  {
   "cell_type": "code",
   "execution_count": 75,
   "id": "19b2ba6e-8612-48a5-9d5b-8eb327153535",
   "metadata": {},
   "outputs": [
    {
     "data": {
      "text/html": [
       "<div>\n",
       "<style scoped>\n",
       "    .dataframe tbody tr th:only-of-type {\n",
       "        vertical-align: middle;\n",
       "    }\n",
       "\n",
       "    .dataframe tbody tr th {\n",
       "        vertical-align: top;\n",
       "    }\n",
       "\n",
       "    .dataframe thead th {\n",
       "        text-align: right;\n",
       "    }\n",
       "</style>\n",
       "<table border=\"1\" class=\"dataframe\">\n",
       "  <thead>\n",
       "    <tr style=\"text-align: right;\">\n",
       "      <th></th>\n",
       "      <th>paraphrase</th>\n",
       "    </tr>\n",
       "  </thead>\n",
       "  <tbody>\n",
       "    <tr>\n",
       "      <th>0</th>\n",
       "      <td>give me a supplier, give me the vendor, give me a vendor</td>\n",
       "    </tr>\n",
       "    <tr>\n",
       "      <th>1</th>\n",
       "      <td>provide details on the vendor contact page, give details on vendor contact, provide details on the vendor contact, give details on vendorcontact, provide details on vendor contact, provide details on vendorcontact</td>\n",
       "    </tr>\n",
       "    <tr>\n",
       "      <th>2</th>\n",
       "      <td>update vendor id, update vendorid, update my vendor id</td>\n",
       "    </tr>\n",
       "    <tr>\n",
       "      <th>3</th>\n",
       "      <td>bring me vendorpartnum, get me vendorpartnum</td>\n",
       "    </tr>\n",
       "    <tr>\n",
       "      <th>4</th>\n",
       "      <td>tell me about the vendorpo?, talk about vendorpo, tell me about the vendorpo, tell me more about vendorpo, tell me about vendorpo?, tell me about vendorpo</td>\n",
       "    </tr>\n",
       "    <tr>\n",
       "      <th>...</th>\n",
       "      <td>...</td>\n",
       "    </tr>\n",
       "    <tr>\n",
       "      <th>368</th>\n",
       "      <td>what are top 5 vendors ytd spends?, what are top 5 vendors' ytd spending?, what are top 5 vendors' ytd spend?, what are top 5 vendors ytd spend?</td>\n",
       "    </tr>\n",
       "    <tr>\n",
       "      <th>369</th>\n",
       "      <td>give details on the ytd spend by week, provide details on the ytd spend by week, provide details on ytd spend by week</td>\n",
       "    </tr>\n",
       "    <tr>\n",
       "      <th>370</th>\n",
       "      <td>Tell me about ytd spend this calendar year</td>\n",
       "    </tr>\n",
       "    <tr>\n",
       "      <th>371</th>\n",
       "      <td>please describe the top 5 vendors on ytd spend, please describe the top 5 vendors on the list, please describe the top 5 vendors on ytd, please tell me about the top 5 vendors</td>\n",
       "    </tr>\n",
       "    <tr>\n",
       "      <th>372</th>\n",
       "      <td>give me the ytd total price, give me that ytd total price, give me that ytd totalprice</td>\n",
       "    </tr>\n",
       "  </tbody>\n",
       "</table>\n",
       "<p>373 rows × 1 columns</p>\n",
       "</div>"
      ],
      "text/plain": [
       "                                                                                                                                                                                                                paraphrase\n",
       "0                                                                                                                                                                 give me a supplier, give me the vendor, give me a vendor\n",
       "1    provide details on the vendor contact page, give details on vendor contact, provide details on the vendor contact, give details on vendorcontact, provide details on vendor contact, provide details on vendorcontact\n",
       "2                                                                                                                                                                   update vendor id, update vendorid, update my vendor id\n",
       "3                                                                                                                                                                             bring me vendorpartnum, get me vendorpartnum\n",
       "4                                                               tell me about the vendorpo?, talk about vendorpo, tell me about the vendorpo, tell me more about vendorpo, tell me about vendorpo?, tell me about vendorpo\n",
       "..                                                                                                                                                                                                                     ...\n",
       "368                                                                       what are top 5 vendors ytd spends?, what are top 5 vendors' ytd spending?, what are top 5 vendors' ytd spend?, what are top 5 vendors ytd spend?\n",
       "369                                                                                                  give details on the ytd spend by week, provide details on the ytd spend by week, provide details on ytd spend by week\n",
       "370                                                                                                                                                                             Tell me about ytd spend this calendar year\n",
       "371                                        please describe the top 5 vendors on ytd spend, please describe the top 5 vendors on the list, please describe the top 5 vendors on ytd, please tell me about the top 5 vendors\n",
       "372                                                                                                                                 give me the ytd total price, give me that ytd total price, give me that ytd totalprice\n",
       "\n",
       "[373 rows x 1 columns]"
      ]
     },
     "execution_count": 75,
     "metadata": {},
     "output_type": "execute_result"
    }
   ],
   "source": [
    "df1 = pd.DataFrame({'paraphrase':paraphrase})\n",
    "df1"
   ]
  },
  {
   "cell_type": "code",
   "execution_count": 15,
   "id": "de75f890-a868-4eb9-91c4-23000cf3fb0b",
   "metadata": {},
   "outputs": [],
   "source": [
    "df = pd.read_excel('paraphrased.xlsx')"
   ]
  },
  {
   "cell_type": "code",
   "execution_count": 77,
   "id": "b6fe9f0a-9481-4736-8453-55918de6be46",
   "metadata": {},
   "outputs": [],
   "source": [
    "df = pd.concat([df, df1], ignore_index=True)"
   ]
  },
  {
   "cell_type": "code",
   "execution_count": 81,
   "id": "800d951a-5307-46d8-8b08-a1f14ad4111b",
   "metadata": {},
   "outputs": [
    {
     "data": {
      "text/html": [
       "<div>\n",
       "<style scoped>\n",
       "    .dataframe tbody tr th:only-of-type {\n",
       "        vertical-align: middle;\n",
       "    }\n",
       "\n",
       "    .dataframe tbody tr th {\n",
       "        vertical-align: top;\n",
       "    }\n",
       "\n",
       "    .dataframe thead th {\n",
       "        text-align: right;\n",
       "    }\n",
       "</style>\n",
       "<table border=\"1\" class=\"dataframe\">\n",
       "  <thead>\n",
       "    <tr style=\"text-align: right;\">\n",
       "      <th></th>\n",
       "      <th>paraphrase</th>\n",
       "    </tr>\n",
       "  </thead>\n",
       "  <tbody>\n",
       "    <tr>\n",
       "      <th>0</th>\n",
       "      <td>give details about the total price, give details on the total price, give details on total price, provide details on the total price, provide details on total price</td>\n",
       "    </tr>\n",
       "    <tr>\n",
       "      <th>1</th>\n",
       "      <td>could you provide me with ve income, could you provide me with ve revenue, can you provide ve revenue?, could you provide some revenue?, could you provide revenue?, how can you provide ve revenue, could you provide ve revenue?</td>\n",
       "    </tr>\n",
       "    <tr>\n",
       "      <th>2</th>\n",
       "      <td>tell me the onhandqty customer product number product description uom code date?, show me the onhandqty customer product number product description uom code date?, tell me the onhandqty customer product number product description uom code date, what is onhandqty customer product number product description uom code date, what's the onhandqty customer product number product description uom code date, what is the onhandqty customer product number product description uom code date?, what is the onhandqty customer product number product description uom code date</td>\n",
       "    </tr>\n",
       "    <tr>\n",
       "      <th>3</th>\n",
       "      <td>need information on the revenue, need information on ve revenue, need information on revenue, need information on -ve revenues, need information on -ve revenue, need info on -ve revenue</td>\n",
       "    </tr>\n",
       "    <tr>\n",
       "      <th>4</th>\n",
       "      <td>tell me about 1 line a day for the last 3 months?, tell me about 1 line a day for the last 3 months, tell me about 1 line per day for the last 3 months?, tell me about 1 line per day for the last 3 months, tell me about 1line per day for the last 3 months</td>\n",
       "    </tr>\n",
       "    <tr>\n",
       "      <th>...</th>\n",
       "      <td>...</td>\n",
       "    </tr>\n",
       "    <tr>\n",
       "      <th>3868</th>\n",
       "      <td>what are top 5 vendors ytd spends?, what are top 5 vendors' ytd spending?, what are top 5 vendors' ytd spend?, what are top 5 vendors ytd spend?</td>\n",
       "    </tr>\n",
       "    <tr>\n",
       "      <th>3869</th>\n",
       "      <td>give details on the ytd spend by week, provide details on the ytd spend by week, provide details on ytd spend by week</td>\n",
       "    </tr>\n",
       "    <tr>\n",
       "      <th>3870</th>\n",
       "      <td>Tell me about ytd spend this calendar year</td>\n",
       "    </tr>\n",
       "    <tr>\n",
       "      <th>3871</th>\n",
       "      <td>please describe the top 5 vendors on ytd spend, please describe the top 5 vendors on the list, please describe the top 5 vendors on ytd, please tell me about the top 5 vendors</td>\n",
       "    </tr>\n",
       "    <tr>\n",
       "      <th>3872</th>\n",
       "      <td>give me the ytd total price, give me that ytd total price, give me that ytd totalprice</td>\n",
       "    </tr>\n",
       "  </tbody>\n",
       "</table>\n",
       "<p>3873 rows × 1 columns</p>\n",
       "</div>"
      ],
      "text/plain": [
       "                                                                                                                                                                                                                                                                                                                                                                                                                                                                                                                                                                               paraphrase\n",
       "0                                                                                                                                                                                                                                                                                                                                                                                                                    give details about the total price, give details on the total price, give details on total price, provide details on the total price, provide details on total price\n",
       "1                                                                                                                                                                                                                                                                                                                                                      could you provide me with ve income, could you provide me with ve revenue, can you provide ve revenue?, could you provide some revenue?, could you provide revenue?, how can you provide ve revenue, could you provide ve revenue?\n",
       "2     tell me the onhandqty customer product number product description uom code date?, show me the onhandqty customer product number product description uom code date?, tell me the onhandqty customer product number product description uom code date, what is onhandqty customer product number product description uom code date, what's the onhandqty customer product number product description uom code date, what is the onhandqty customer product number product description uom code date?, what is the onhandqty customer product number product description uom code date\n",
       "3                                                                                                                                                                                                                                                                                                                                                                                               need information on the revenue, need information on ve revenue, need information on revenue, need information on -ve revenues, need information on -ve revenue, need info on -ve revenue\n",
       "4                                                                                                                                                                                                                                                                                                                         tell me about 1 line a day for the last 3 months?, tell me about 1 line a day for the last 3 months, tell me about 1 line per day for the last 3 months?, tell me about 1 line per day for the last 3 months, tell me about 1line per day for the last 3 months\n",
       "...                                                                                                                                                                                                                                                                                                                                                                                                                                                                                                                                                                                   ...\n",
       "3868                                                                                                                                                                                                                                                                                                                                                                                                                                     what are top 5 vendors ytd spends?, what are top 5 vendors' ytd spending?, what are top 5 vendors' ytd spend?, what are top 5 vendors ytd spend?\n",
       "3869                                                                                                                                                                                                                                                                                                                                                                                                                                                                give details on the ytd spend by week, provide details on the ytd spend by week, provide details on ytd spend by week\n",
       "3870                                                                                                                                                                                                                                                                                                                                                                                                                                                                                                                                           Tell me about ytd spend this calendar year\n",
       "3871                                                                                                                                                                                                                                                                                                                                                                                                      please describe the top 5 vendors on ytd spend, please describe the top 5 vendors on the list, please describe the top 5 vendors on ytd, please tell me about the top 5 vendors\n",
       "3872                                                                                                                                                                                                                                                                                                                                                                                                                                                                                               give me the ytd total price, give me that ytd total price, give me that ytd totalprice\n",
       "\n",
       "[3873 rows x 1 columns]"
      ]
     },
     "execution_count": 81,
     "metadata": {},
     "output_type": "execute_result"
    }
   ],
   "source": [
    "df"
   ]
  },
  {
   "cell_type": "code",
   "execution_count": 79,
   "id": "c4fe3709-d673-4140-87d2-c43f6d1ff222",
   "metadata": {},
   "outputs": [],
   "source": [
    "df.to_excel('paraphrased.xlsx', index = False)"
   ]
  },
  {
   "cell_type": "code",
   "execution_count": 13,
   "id": "98129675-f047-439e-8123-05e8dc911dc0",
   "metadata": {},
   "outputs": [],
   "source": [
    "chat['paraphrase'] = df['paraphrase']"
   ]
  },
  {
   "cell_type": "code",
   "execution_count": 16,
   "id": "dd567ccc-3497-4892-8abc-8703d38d4acd",
   "metadata": {},
   "outputs": [
    {
     "data": {
      "text/html": [
       "<div>\n",
       "<style scoped>\n",
       "    .dataframe tbody tr th:only-of-type {\n",
       "        vertical-align: middle;\n",
       "    }\n",
       "\n",
       "    .dataframe tbody tr th {\n",
       "        vertical-align: top;\n",
       "    }\n",
       "\n",
       "    .dataframe thead th {\n",
       "        text-align: right;\n",
       "    }\n",
       "</style>\n",
       "<table border=\"1\" class=\"dataframe\">\n",
       "  <thead>\n",
       "    <tr style=\"text-align: right;\">\n",
       "      <th></th>\n",
       "      <th>utterance</th>\n",
       "      <th>tags</th>\n",
       "      <th>paraphrase</th>\n",
       "    </tr>\n",
       "  </thead>\n",
       "  <tbody>\n",
       "    <tr>\n",
       "      <th>0</th>\n",
       "      <td>totalprice</td>\n",
       "      <td>[[\"$Metrics\", [\"\\\"totalprice\\\"\"]]]</td>\n",
       "      <td>give details about the total price, give details on the total price, give details on total price, provide details on the total price, provide details on total price</td>\n",
       "    </tr>\n",
       "  </tbody>\n",
       "</table>\n",
       "</div>"
      ],
      "text/plain": [
       "    utterance                                tags  \\\n",
       "0  totalprice  [[\"$Metrics\", [\"\\\"totalprice\\\"\"]]]   \n",
       "\n",
       "                                                                                                                                                             paraphrase  \n",
       "0  give details about the total price, give details on the total price, give details on total price, provide details on the total price, provide details on total price  "
      ]
     },
     "execution_count": 16,
     "metadata": {},
     "output_type": "execute_result"
    }
   ],
   "source": [
    "chat.head(1)"
   ]
  },
  {
   "cell_type": "code",
   "execution_count": 17,
   "id": "db066f6d-c5f8-45ca-ac7e-36256389c1d7",
   "metadata": {},
   "outputs": [],
   "source": [
    "# Create prompt and completion pairs\n",
    "pairs = []\n",
    "for index, ques in chat.iterrows():\n",
    "    prompt = f\"Question: {ques['utterance']} \\Paraphrase: {ques['paraphrase']}\"\n",
    "    completion = f\"Tags: {ques['tags']}\"\n",
    "    pairs.append({\"prompt\":prompt, \"completion\":completion})"
   ]
  },
  {
   "cell_type": "code",
   "execution_count": 18,
   "id": "fd2aa693-0263-4ead-8e2b-41c4ffed8140",
   "metadata": {},
   "outputs": [],
   "source": [
    "# Export to JSON file\n",
    "with open('final_pairs.json', 'w') as jf:\n",
    "    json.dump(pairs, jf, indent=1)"
   ]
  },
  {
   "cell_type": "code",
   "execution_count": 19,
   "id": "dfba5034-7311-4bd0-b00f-41223132e6a1",
   "metadata": {},
   "outputs": [],
   "source": [
    "with open('final_pairs.jsonl', 'w') as f:\n",
    "    for pair in pairs:\n",
    "        f.write(json.dumps(pair) + '\\n')"
   ]
  },
  {
   "cell_type": "markdown",
   "id": "265d7c6f-13a0-4b1c-b705-1cb394344d1f",
   "metadata": {},
   "source": [
    "### embadding"
   ]
  },
  {
   "cell_type": "code",
   "execution_count": 65,
   "id": "98449a9b-419a-40be-b0b4-e3f886f329ae",
   "metadata": {},
   "outputs": [],
   "source": [
    "df1 = pd.read_excel('final_data.xlsx')"
   ]
  },
  {
   "cell_type": "code",
   "execution_count": 66,
   "id": "fa29f9b9-64c6-45fd-990c-2c8c853bd7a0",
   "metadata": {},
   "outputs": [
    {
     "data": {
      "text/plain": [
       "(3873, 2)"
      ]
     },
     "execution_count": 66,
     "metadata": {},
     "output_type": "execute_result"
    }
   ],
   "source": [
    "df1.shape"
   ]
  },
  {
   "cell_type": "code",
   "execution_count": 8,
   "id": "d4da8561-df03-4fca-8178-6007401861ed",
   "metadata": {},
   "outputs": [
    {
     "data": {
      "text/html": [
       "<div>\n",
       "<style scoped>\n",
       "    .dataframe tbody tr th:only-of-type {\n",
       "        vertical-align: middle;\n",
       "    }\n",
       "\n",
       "    .dataframe tbody tr th {\n",
       "        vertical-align: top;\n",
       "    }\n",
       "\n",
       "    .dataframe thead th {\n",
       "        text-align: right;\n",
       "    }\n",
       "</style>\n",
       "<table border=\"1\" class=\"dataframe\">\n",
       "  <thead>\n",
       "    <tr style=\"text-align: right;\">\n",
       "      <th></th>\n",
       "      <th>utterance</th>\n",
       "      <th>paraphrase</th>\n",
       "    </tr>\n",
       "  </thead>\n",
       "  <tbody>\n",
       "    <tr>\n",
       "      <th>0</th>\n",
       "      <td>totalprice</td>\n",
       "      <td>give details about the total price, give details on the total price, give details on total price, provide details on the total price, provide details on total price</td>\n",
       "    </tr>\n",
       "    <tr>\n",
       "      <th>1</th>\n",
       "      <td>+ve revenue</td>\n",
       "      <td>could you provide me with ve income, could you provide me with ve revenue, can you provide ve revenue?, could you provide some revenue?, could you provide revenue?, how can you provide ve revenue, could you provide ve revenue?</td>\n",
       "    </tr>\n",
       "    <tr>\n",
       "      <th>2</th>\n",
       "      <td>on_hand_qty, customer, product number, product description, uom code, date</td>\n",
       "      <td>tell me the onhandqty customer product number product description uom code date?, show me the onhandqty customer product number product description uom code date?, tell me the onhandqty customer product number product description uom code date, what is onhandqty customer product number product description uom code date, what's the onhandqty customer product number product description uom code date, what is the onhandqty customer product number product description uom code date?, what is the onhandqty customer product number product description uom code date</td>\n",
       "    </tr>\n",
       "    <tr>\n",
       "      <th>3</th>\n",
       "      <td>-ve revenue</td>\n",
       "      <td>need information on the revenue, need information on ve revenue, need information on revenue, need information on -ve revenues, need information on -ve revenue, need info on -ve revenue</td>\n",
       "    </tr>\n",
       "    <tr>\n",
       "      <th>4</th>\n",
       "      <td>1)lines per day for last 3 months</td>\n",
       "      <td>tell me about 1 line a day for the last 3 months?, tell me about 1 line a day for the last 3 months, tell me about 1 line per day for the last 3 months?, tell me about 1 line per day for the last 3 months, tell me about 1line per day for the last 3 months</td>\n",
       "    </tr>\n",
       "  </tbody>\n",
       "</table>\n",
       "</div>"
      ],
      "text/plain": [
       "                                                                    utterance  \\\n",
       "0                                                                  totalprice   \n",
       "1                                                                 +ve revenue   \n",
       "2  on_hand_qty, customer, product number, product description, uom code, date   \n",
       "3                                                                 -ve revenue   \n",
       "4                                           1)lines per day for last 3 months   \n",
       "\n",
       "                                                                                                                                                                                                                                                                                                                                                                                                                                                                                                                                                                            paraphrase  \n",
       "0                                                                                                                                                                                                                                                                                                                                                                                                                 give details about the total price, give details on the total price, give details on total price, provide details on the total price, provide details on total price  \n",
       "1                                                                                                                                                                                                                                                                                                                                                   could you provide me with ve income, could you provide me with ve revenue, can you provide ve revenue?, could you provide some revenue?, could you provide revenue?, how can you provide ve revenue, could you provide ve revenue?  \n",
       "2  tell me the onhandqty customer product number product description uom code date?, show me the onhandqty customer product number product description uom code date?, tell me the onhandqty customer product number product description uom code date, what is onhandqty customer product number product description uom code date, what's the onhandqty customer product number product description uom code date, what is the onhandqty customer product number product description uom code date?, what is the onhandqty customer product number product description uom code date  \n",
       "3                                                                                                                                                                                                                                                                                                                                                                                            need information on the revenue, need information on ve revenue, need information on revenue, need information on -ve revenues, need information on -ve revenue, need info on -ve revenue  \n",
       "4                                                                                                                                                                                                                                                                                                                      tell me about 1 line a day for the last 3 months?, tell me about 1 line a day for the last 3 months, tell me about 1 line per day for the last 3 months?, tell me about 1 line per day for the last 3 months, tell me about 1line per day for the last 3 months  "
      ]
     },
     "execution_count": 8,
     "metadata": {},
     "output_type": "execute_result"
    }
   ],
   "source": [
    "df1.head()"
   ]
  },
  {
   "cell_type": "code",
   "execution_count": 4,
   "id": "30a51077-a9c0-4b3a-b03f-2ab63ed27430",
   "metadata": {},
   "outputs": [],
   "source": [
    "from tqdm.notebook import tqdm\n",
    "from sentence_transformers import SentenceTransformer\n",
    "import torch"
   ]
  },
  {
   "cell_type": "code",
   "execution_count": 25,
   "id": "b04cb019-0fba-40f1-af70-62b54ad22630",
   "metadata": {},
   "outputs": [],
   "source": [
    "#model_name = 'msmarco-distilbert-base-v4'\n",
    "model_name = 'sentence-transformers/all-MiniLM-L6-v2'\n",
    "torch_device = 'cuda' if torch.cuda.is_available() else 'cpu'"
   ]
  },
  {
   "cell_type": "code",
   "execution_count": 26,
   "id": "b2b7a9db-4fc0-4223-8cf4-e2d365c8906d",
   "metadata": {},
   "outputs": [
    {
     "data": {
      "application/vnd.jupyter.widget-view+json": {
       "model_id": "3e52e7fbc7ce4ab6888d69ac9ba0d76e",
       "version_major": 2,
       "version_minor": 0
      },
      "text/plain": [
       "Downloading (…)e9125/.gitattributes:   0%|          | 0.00/1.18k [00:00<?, ?B/s]"
      ]
     },
     "metadata": {},
     "output_type": "display_data"
    },
    {
     "data": {
      "application/vnd.jupyter.widget-view+json": {
       "model_id": "d1e06638942c402fb2fee2d995652c02",
       "version_major": 2,
       "version_minor": 0
      },
      "text/plain": [
       "Downloading (…)_Pooling/config.json:   0%|          | 0.00/190 [00:00<?, ?B/s]"
      ]
     },
     "metadata": {},
     "output_type": "display_data"
    },
    {
     "data": {
      "application/vnd.jupyter.widget-view+json": {
       "model_id": "4edceb2b45784648a39e20ec59cc6102",
       "version_major": 2,
       "version_minor": 0
      },
      "text/plain": [
       "Downloading (…)7e55de9125/README.md:   0%|          | 0.00/10.6k [00:00<?, ?B/s]"
      ]
     },
     "metadata": {},
     "output_type": "display_data"
    },
    {
     "data": {
      "application/vnd.jupyter.widget-view+json": {
       "model_id": "b246e2944a8f4205949f54eee9ec2713",
       "version_major": 2,
       "version_minor": 0
      },
      "text/plain": [
       "Downloading (…)55de9125/config.json:   0%|          | 0.00/612 [00:00<?, ?B/s]"
      ]
     },
     "metadata": {},
     "output_type": "display_data"
    },
    {
     "data": {
      "application/vnd.jupyter.widget-view+json": {
       "model_id": "8f3f383e9ac240d58656a31cc58ec3a1",
       "version_major": 2,
       "version_minor": 0
      },
      "text/plain": [
       "Downloading (…)ce_transformers.json:   0%|          | 0.00/116 [00:00<?, ?B/s]"
      ]
     },
     "metadata": {},
     "output_type": "display_data"
    },
    {
     "data": {
      "application/vnd.jupyter.widget-view+json": {
       "model_id": "6b97c49e55314ff48c0c893c06ced04e",
       "version_major": 2,
       "version_minor": 0
      },
      "text/plain": [
       "Downloading (…)125/data_config.json:   0%|          | 0.00/39.3k [00:00<?, ?B/s]"
      ]
     },
     "metadata": {},
     "output_type": "display_data"
    },
    {
     "data": {
      "application/vnd.jupyter.widget-view+json": {
       "model_id": "5e2b38f6d9f44da088526803c296f1ea",
       "version_major": 2,
       "version_minor": 0
      },
      "text/plain": [
       "Downloading pytorch_model.bin:   0%|          | 0.00/90.9M [00:00<?, ?B/s]"
      ]
     },
     "metadata": {},
     "output_type": "display_data"
    },
    {
     "data": {
      "application/vnd.jupyter.widget-view+json": {
       "model_id": "4091d6ca5652469bac5db6f12b372cbc",
       "version_major": 2,
       "version_minor": 0
      },
      "text/plain": [
       "Downloading (…)nce_bert_config.json:   0%|          | 0.00/53.0 [00:00<?, ?B/s]"
      ]
     },
     "metadata": {},
     "output_type": "display_data"
    },
    {
     "data": {
      "application/vnd.jupyter.widget-view+json": {
       "model_id": "dcaee3b4071444158d5e45feab11a7d5",
       "version_major": 2,
       "version_minor": 0
      },
      "text/plain": [
       "Downloading (…)cial_tokens_map.json:   0%|          | 0.00/112 [00:00<?, ?B/s]"
      ]
     },
     "metadata": {},
     "output_type": "display_data"
    },
    {
     "data": {
      "application/vnd.jupyter.widget-view+json": {
       "model_id": "fd3fce908c2b40b9ada0410a01206041",
       "version_major": 2,
       "version_minor": 0
      },
      "text/plain": [
       "Downloading (…)e9125/tokenizer.json:   0%|          | 0.00/466k [00:00<?, ?B/s]"
      ]
     },
     "metadata": {},
     "output_type": "display_data"
    },
    {
     "data": {
      "application/vnd.jupyter.widget-view+json": {
       "model_id": "db133cd58d2744a291bf754ed3d1b86c",
       "version_major": 2,
       "version_minor": 0
      },
      "text/plain": [
       "Downloading (…)okenizer_config.json:   0%|          | 0.00/350 [00:00<?, ?B/s]"
      ]
     },
     "metadata": {},
     "output_type": "display_data"
    },
    {
     "data": {
      "application/vnd.jupyter.widget-view+json": {
       "model_id": "d6f89b36f13441c483a39bca61d2d7fe",
       "version_major": 2,
       "version_minor": 0
      },
      "text/plain": [
       "Downloading (…)9125/train_script.py:   0%|          | 0.00/13.2k [00:00<?, ?B/s]"
      ]
     },
     "metadata": {},
     "output_type": "display_data"
    },
    {
     "data": {
      "application/vnd.jupyter.widget-view+json": {
       "model_id": "81ea4c8878914c4fa641bbbb5e9161c9",
       "version_major": 2,
       "version_minor": 0
      },
      "text/plain": [
       "Downloading (…)7e55de9125/vocab.txt:   0%|          | 0.00/232k [00:00<?, ?B/s]"
      ]
     },
     "metadata": {},
     "output_type": "display_data"
    },
    {
     "data": {
      "application/vnd.jupyter.widget-view+json": {
       "model_id": "3bd80eaa83a44acea5b60f4b85c64a2d",
       "version_major": 2,
       "version_minor": 0
      },
      "text/plain": [
       "Downloading (…)5de9125/modules.json:   0%|          | 0.00/349 [00:00<?, ?B/s]"
      ]
     },
     "metadata": {},
     "output_type": "display_data"
    }
   ],
   "source": [
    "model = SentenceTransformer(model_name, device=torch_device)"
   ]
  },
  {
   "cell_type": "code",
   "execution_count": 9,
   "id": "a20f9f1e-345c-4858-a445-902d675d250f",
   "metadata": {},
   "outputs": [],
   "source": [
    "df11 = df1.head()"
   ]
  },
  {
   "cell_type": "code",
   "execution_count": 27,
   "id": "7616b403-e5d7-428a-823a-a5e0bc15b707",
   "metadata": {},
   "outputs": [],
   "source": [
    "# utterance_vectors = []\n",
    "# batch_size = 64\n",
    "# batch = []\n",
    "# for row in tqdm(df1.itertuples()):\n",
    "#     description =row.utterance\n",
    "#     batch.append(description)\n",
    "#     if len(batch) >= batch_size:\n",
    "#         utterance_vectors.append(model.encode(batch))\n",
    "#         batch = []\n",
    "\n",
    "# if len(batch) > 0:\n",
    "#     utterance_vectors.append(model.encode(batch))\n",
    "#     batch = []\n",
    "\n",
    "# vectors = np.concatenate(utterance_vectors)\n",
    "# vectors.shape"
   ]
  },
  {
   "cell_type": "code",
   "execution_count": 40,
   "id": "7e0b2ed3-1202-468d-bc6f-62a97160a872",
   "metadata": {},
   "outputs": [
    {
     "data": {
      "application/vnd.jupyter.widget-view+json": {
       "model_id": "ca9745d44ca148e6866cbc2f649245de",
       "version_major": 2,
       "version_minor": 0
      },
      "text/plain": [
       "0it [00:00, ?it/s]"
      ]
     },
     "metadata": {},
     "output_type": "display_data"
    }
   ],
   "source": [
    "utterance_vectors = []\n",
    "for row in tqdm(df1.itertuples()):\n",
    "    description =row.utterance\n",
    "    utterance_vectors.append(model.encode(description))"
   ]
  },
  {
   "cell_type": "code",
   "execution_count": null,
   "id": "f5be118d-9b1f-4daf-9382-7dc551f7fec3",
   "metadata": {},
   "outputs": [],
   "source": [
    "df1[df1['paraphrase'].isnull()]#.shape"
   ]
  },
  {
   "cell_type": "code",
   "execution_count": 56,
   "id": "12008c43-6d37-431f-b983-b5c230c6f6fe",
   "metadata": {},
   "outputs": [],
   "source": [
    "df1['paraphrase'] = df1['paraphrase'].fillna('')"
   ]
  },
  {
   "cell_type": "code",
   "execution_count": 59,
   "id": "a69045d1-0d89-4772-8378-61e6fbc0c7aa",
   "metadata": {},
   "outputs": [
    {
     "data": {
      "application/vnd.jupyter.widget-view+json": {
       "model_id": "491e6562f0bf4551a13ad70f7ec17ca9",
       "version_major": 2,
       "version_minor": 0
      },
      "text/plain": [
       "0it [00:00, ?it/s]"
      ]
     },
     "metadata": {},
     "output_type": "display_data"
    }
   ],
   "source": [
    "para_vectors = []\n",
    "for row in tqdm(df1.itertuples()):\n",
    "    description =row.paraphrase\n",
    "    sen = description.split(',')\n",
    "    para_ = []\n",
    "    for s in sen:\n",
    "        para_.append(model.encode(s))\n",
    "    para_vectors.append(para_)"
   ]
  },
  {
   "cell_type": "code",
   "execution_count": 39,
   "id": "76517922-bf88-4a0f-919b-9692bcc8d1cb",
   "metadata": {},
   "outputs": [
    {
     "data": {
      "text/plain": [
       "384"
      ]
     },
     "execution_count": 39,
     "metadata": {},
     "output_type": "execute_result"
    }
   ],
   "source": [
    "len(utterance_vectors[4])"
   ]
  },
  {
   "cell_type": "code",
   "execution_count": 62,
   "id": "00471b73-af5e-4418-816e-8caefa23c877",
   "metadata": {},
   "outputs": [
    {
     "data": {
      "text/plain": [
       "384"
      ]
     },
     "execution_count": 62,
     "metadata": {},
     "output_type": "execute_result"
    }
   ],
   "source": [
    "len(para_vectors[0][0])"
   ]
  },
  {
   "cell_type": "code",
   "execution_count": 63,
   "id": "647efee7-2ab5-4992-9c27-95796645e8d4",
   "metadata": {},
   "outputs": [],
   "source": [
    "df1['utterance_emb'] = utterance_vectors\n",
    "df1['paraphrase_emb'] = para_vectors"
   ]
  },
  {
   "cell_type": "code",
   "execution_count": 64,
   "id": "fc5c4fb9-eb65-4272-b364-00653fd7a310",
   "metadata": {},
   "outputs": [
    {
     "data": {
      "text/html": [
       "<div>\n",
       "<style scoped>\n",
       "    .dataframe tbody tr th:only-of-type {\n",
       "        vertical-align: middle;\n",
       "    }\n",
       "\n",
       "    .dataframe tbody tr th {\n",
       "        vertical-align: top;\n",
       "    }\n",
       "\n",
       "    .dataframe thead th {\n",
       "        text-align: right;\n",
       "    }\n",
       "</style>\n",
       "<table border=\"1\" class=\"dataframe\">\n",
       "  <thead>\n",
       "    <tr style=\"text-align: right;\">\n",
       "      <th></th>\n",
       "      <th>utterance</th>\n",
       "      <th>paraphrase</th>\n",
       "      <th>utterance_emb</th>\n",
       "      <th>paraphrase_emb</th>\n",
       "    </tr>\n",
       "  </thead>\n",
       "  <tbody>\n",
       "    <tr>\n",
       "      <th>0</th>\n",
       "      <td>totalprice</td>\n",
       "      <td>give details about the total price, give details on the total price, give details on total price, provide details on the total price, provide details on total price</td>\n",
       "      <td>[1.239465e-05, 0.023100434, -0.018898621, -0.0046917275, -0.059613224, -0.03898938, 0.042270295, 0.11776524, 0.074706666, 0.040492382, 0.032677364, -0.040878844, -0.0078399945, 0.009263733, -0.008205963, 0.030697908, 0.040175997, -0.0071107605, -0.10568312, -0.04188914, -0.049506564, -0.07267244, -0.028211283, -0.005321294, 0.07237665, 0.08059314, 0.005633787, 0.024946736, 0.065832585, 0.021558186, -0.06967778, 0.042800687, 0.07881511, -0.07175112, 0.05525981, -0.09782893, -0.056527704, 0.027202144, -0.053356152, 0.049043663, -0.008305837, -0.05106206, -0.10977852, -0.01565476, -0.004137913, -0.01678138, -0.006171615, 0.072478876, 0.06683653, 0.102945305, 0.022325268, 0.0042813797, -0.036560092, 0.0035883274, 0.053280804, -0.05390082, -0.008821404, -0.03209273, 0.010621838, -0.0070576523, -0.017126907, -0.030752389, -0.02388984, 0.039094422, 0.14425384, -0.034058932, 0.041576445, -0.010596893, -0.04711764, 0.041406054, 0.021924129, 0.048492447, 0.051639464, -0.048626076, 0.026404886, -0.015528862, 0.15151915, -0.034131978, 0.014053866, -0.022791587, 0.04472535, -0.089069024, -0.06515232, -0.041649174, 0.0001774244, 0.02485707, 0.08499074, -0.010503007, 0.037111793, -0.024629446, -0.046494987, -0.03172179, -0.07186385, -0.033378348, -0.0911621, 0.1163163, -0.04410818, -0.077048525, 0.006640728, 0.11869003, ...]</td>\n",
       "      <td>[[0.01893174, 0.07348564, -0.038605474, 0.016451959, -0.028498594, -0.03418547, 0.05790684, 0.13909923, 0.051803127, 0.040033724, -0.0063241743, -0.08565104, 0.00637484, -0.03996353, -0.058740616, -0.003068075, 0.028021699, -0.015593983, -0.04402353, -0.07623192, -0.07376969, 0.0014121693, -0.00017240277, 0.020248126, -0.014222971, 0.054566626, -0.0032540592, 0.0043743053, 0.039601617, -0.030673282, -0.033652816, 0.015202267, 0.032967534, 0.030292664, -0.041373737, -0.09527751, -0.009276832, 0.00059683324, 0.0077838595, -0.0021596157, -0.013816504, -0.046077844, -0.08634276, 0.0055227005, 0.07333058, 0.02763602, 0.000527042, 0.038939387, 0.0948691, 0.08999077, 0.0017911609, -0.0076073683, -0.018842498, 0.017278286, 0.039071433, -0.009420801, -0.08326968, -0.026879163, 0.069829196, 0.020954687, 0.026988, -0.019208848, -0.05698333, 0.05880349, 0.10022165, -0.1096897, -0.041242022, -0.073734276, 0.009029805, -0.031889662, 0.028459081, 0.0035541707, 0.07371635, -0.05856431, -0.048814274, -0.028156051, 0.08768032, 0.0036289073, -0.002323049, 0.0150135895, 0.024673345, -0.075623766, -0.05977668, 0.00026026086, 0.058232423, -0.002741481, 0.03655679, 0.09225535, -0.009480164, -0.04374721, 0.073452026, -0.020556612, -0.106712185, -0.005801683, -0.041255247, 0.05460917, 0.027580578, 0.02152291, 0.050415702, 0.047065407, ...], [0.0144594265, 0.07446248, -0.045089927, 0.010138627, -0.034851722, -0.036879677, 0.048160028, 0.14061287, 0.046941016, 0.046499144, -0.010896524, -0.087858796, -0.0026145747, -0.031793404, -0.06671994, 0.00656845, 0.0324722, -0.020678006, -0.042415444, -0.08510687, -0.07663203, -0.0046774545, 0.00011906121, 0.013923222, -0.009405074, 0.059420504, -0.0014765491, 0.0035615498, 0.029002849, -0.03671453, -0.03331588, 0.009782221, 0.03529159, 0.032256372, -0.04659554, -0.09001991, -0.014965714, 0.0045377146, 0.008853889, -0.0069016, -0.012169992, -0.051500868, -0.084315546, 0.005645857, 0.07342624, 0.030641079, -0.0012401349, 0.037945732, 0.09277048, 0.08577744, 0.003312034, -0.010563949, -0.013705617, 0.01427397, 0.036015417, -0.008151873, -0.08675024, -0.023165474, 0.073484674, 0.015958315, 0.033551503, -0.02111545, -0.050720815, 0.06421366, 0.10430484, -0.1044622, -0.04143136, -0.07806301, 0.015246597, -0.028744053, 0.035415035, 0.0040899925, 0.073089436, -0.064180195, -0.0510076, -0.02624805, 0.079248175, 0.0077738115, -0.0043854676, 0.00697004, 0.014901195, -0.07388265, -0.055412114, -0.0010091965, 0.055152, -0.004756789, 0.030294502, 0.09864996, -0.008534996, -0.041932564, 0.07112803, -0.0132370675, -0.10923344, -0.011673619, -0.044813108, 0.052469417, 0.034506727, 0.022505017, 0.04320939, 0.049039226, ...], [0.012473745, 0.06579259, -0.04696793, 0.016379284, -0.041451313, -0.0365743, 0.047863375, 0.13000238, 0.047087315, 0.046284944, -0.0036601124, -0.07684406, -0.0012273779, -0.029116841, -0.06706382, 0.010055521, 0.033135824, -0.011259467, -0.046851218, -0.08528558, -0.0734531, -0.009745515, 0.008790029, 0.0080478005, -0.004219973, 0.06299036, -0.0024507628, 0.0037192802, 0.02802964, -0.04273661, -0.05019838, 0.008903722, 0.036041357, 0.029238308, -0.041796587, -0.08952268, -0.009353062, 0.004932315, 0.009820928, -0.0068022385, -0.029477663, -0.042715818, -0.08207347, -0.000111769594, 0.07306785, 0.03356356, -0.0034681223, 0.046710845, 0.085301764, 0.08549196, -0.008712032, -0.0006476908, -0.0047323564, 0.012899689, 0.048625477, -0.00020444066, -0.09193167, -0.031104593, 0.076287046, 0.008059028, 0.026209503, -0.013192187, -0.041777324, 0.053493146, 0.11035554, -0.09052111, -0.047015145, -0.06213644, 0.008033342, -0.0354297, 0.04217474, 0.010595037, 0.083028585, -0.074330226, -0.05419141, -0.019226864, 0.085322, 0.0064728875, -0.018850919, 0.015509345, 0.009128851, -0.069232315, -0.052366294, -0.0011053169, 0.0461028, -0.009720813, 0.04845201, 0.09121311, -0.017622788, -0.04380565, 0.06471692, -0.008616418, -0.10498432, -0.018757835, -0.041755866, 0.054272734, 0.040302306, 0.020016132, 0.045784164, 0.050511274, ...], [0.0042971163, 0.07917878, -0.036968634, 0.014669648, -0.03255535, -0.017453598, 0.035509545, 0.14517605, 0.04293879, 0.034596946, -0.018665602, -0.09382877, 0.0066579897, -0.03191192, -0.057614468, -0.0009696346, 0.037493616, -0.020478262, -0.051003326, -0.06498188, -0.05394629, -0.01068856, 0.017273365, 0.012021616, 0.011350456, 0.0335281, 0.004421039, 0.0072482713, 0.03406816, -0.02527687, -0.04445384, 0.011479322, 0.036715046, 0.023907572, -0.03023376, -0.09098249, -0.027252408, 0.0010803599, 0.008514112, -0.009261953, -0.015787795, -0.071951695, -0.081408374, 0.0035700037, 0.060071364, 0.038168643, 0.0036080675, 0.058288127, 0.08545772, 0.087005936, -0.015037052, 0.0037634557, -0.013710145, 0.018364137, 0.03362563, -0.0023921824, -0.07789831, -0.02569974, 0.06940596, 0.03166729, 0.030997293, -0.02653244, -0.057044722, 0.0673576, 0.099804625, -0.093351424, -0.039345983, -0.07232557, -0.013224823, -0.035992756, 0.038248967, -0.009850676, 0.07129331, -0.059725925, -0.059225522, -0.033115532, 0.09661314, 0.015431129, -0.0029974834, -0.00961688, 0.025891136, -0.046969533, -0.060908306, -0.0052239317, 0.054547295, -0.007346235, 0.052961994, 0.08765566, -0.004863077, -0.037369933, 0.061844513, -0.021058211, -0.10133061, -0.014948059, -0.028164271, 0.069722846, 0.018830955, -0.0007761301, 0.048489455, 0.04153579, ...], [0.0034707957, 0.07423818, -0.037024885, 0.021162301, -0.041024387, -0.014201529, 0.03334594, 0.13204467, 0.041209694, 0.03576353, -0.0084021455, -0.08924523, 0.007502367, -0.028539287, -0.05812206, 0.0002711495, 0.036131594, -0.005105305, -0.05338072, -0.064741015, -0.048964344, -0.018417763, 0.025933452, 0.007689722, 0.020898378, 0.030851396, 0.005659126, 0.009877739, 0.03609824, -0.024659116, -0.05925969, 0.0124707315, 0.038981143, 0.023866797, -0.025346268, -0.09141507, -0.020502372, 0.0037399943, 0.0064385217, -0.0046837376, -0.03274632, -0.06209302, -0.08145869, -0.0034971861, 0.05528409, 0.040783156, 0.00077216106, 0.065927856, 0.07671157, 0.09070287, -0.02738432, 0.01246515, -0.0062200013, 0.016539354, 0.040876403, 0.0057990253, -0.078247994, -0.034117233, 0.06653544, 0.022964379, 0.020046312, -0.017628618, -0.04973462, 0.058003988, 0.10693254, -0.08080575, -0.04365386, -0.046060245, -0.021276038, -0.043945413, 0.045457855, -0.010714103, 0.08186474, -0.06792321, -0.06480261, -0.02443672, 0.105228715, 0.014481605, -0.01838395, -0.0026657367, 0.024164785, -0.04116889, -0.058279153, -0.0029009574, 0.041115887, -0.008282564, 0.07301608, 0.079064555, -0.017042222, -0.040468473, 0.060454212, -0.016422005, -0.098260544, -0.018199641, -0.019799072, 0.06699195, 0.022182954, -0.007009928, 0.05181568, 0.039474998, ...]]</td>\n",
       "    </tr>\n",
       "  </tbody>\n",
       "</table>\n",
       "</div>"
      ],
      "text/plain": [
       "    utterance  \\\n",
       "0  totalprice   \n",
       "\n",
       "                                                                                                                                                             paraphrase  \\\n",
       "0  give details about the total price, give details on the total price, give details on total price, provide details on the total price, provide details on total price   \n",
       "\n",
       "                                                                                                                                                                                                                                                                                                                                                                                                                                                                                                                                                                                                                                                                                                                                                                                                                                                                                                                                                                                                                                                                                                                                                                                                                                                                                                                                                                         utterance_emb  \\\n",
       "0  [1.239465e-05, 0.023100434, -0.018898621, -0.0046917275, -0.059613224, -0.03898938, 0.042270295, 0.11776524, 0.074706666, 0.040492382, 0.032677364, -0.040878844, -0.0078399945, 0.009263733, -0.008205963, 0.030697908, 0.040175997, -0.0071107605, -0.10568312, -0.04188914, -0.049506564, -0.07267244, -0.028211283, -0.005321294, 0.07237665, 0.08059314, 0.005633787, 0.024946736, 0.065832585, 0.021558186, -0.06967778, 0.042800687, 0.07881511, -0.07175112, 0.05525981, -0.09782893, -0.056527704, 0.027202144, -0.053356152, 0.049043663, -0.008305837, -0.05106206, -0.10977852, -0.01565476, -0.004137913, -0.01678138, -0.006171615, 0.072478876, 0.06683653, 0.102945305, 0.022325268, 0.0042813797, -0.036560092, 0.0035883274, 0.053280804, -0.05390082, -0.008821404, -0.03209273, 0.010621838, -0.0070576523, -0.017126907, -0.030752389, -0.02388984, 0.039094422, 0.14425384, -0.034058932, 0.041576445, -0.010596893, -0.04711764, 0.041406054, 0.021924129, 0.048492447, 0.051639464, -0.048626076, 0.026404886, -0.015528862, 0.15151915, -0.034131978, 0.014053866, -0.022791587, 0.04472535, -0.089069024, -0.06515232, -0.041649174, 0.0001774244, 0.02485707, 0.08499074, -0.010503007, 0.037111793, -0.024629446, -0.046494987, -0.03172179, -0.07186385, -0.033378348, -0.0911621, 0.1163163, -0.04410818, -0.077048525, 0.006640728, 0.11869003, ...]   \n",
       "\n",
       "                                                                                                                                                                                                                                                                                                                                                                                                                                                                                                                                                                                                                                                                                                                                                                                                                                                                                                                                                                                                                                                                                                                                                                                                                                                                                                                                                                                                                                                                                                                                                                                                                                                                                                                                                                                                                                                                                                                                                                                                                                                                                                                                                                                                                                                                                                                                                                                                                                                                                                                                                                                                                                                                                                                                                                                                                                                                                                                                                                                                                                                                                                                                                                                                                                                                                                                                                                                                                                                                                                                                                                                                                                                                                                                                                                                                                                                                                                                                                                                                                                                                                                                                                                                                                                                                                                                                                                                                                                                                                                                                                                                                                                                                                                                                                                                                                                                                                                                                                                                                                                                                                                                                                                                                                                                                                                                                                                                                                                                                                                                                                                                                                                                                                                                                                                                                                                                                                                                                                                                                                                                                                                                                                                                                                                                                                                                                                                                                                                                                                                                                                                                                                                                                                                                                                                                                                                                                                                                                                 paraphrase_emb  \n",
       "0  [[0.01893174, 0.07348564, -0.038605474, 0.016451959, -0.028498594, -0.03418547, 0.05790684, 0.13909923, 0.051803127, 0.040033724, -0.0063241743, -0.08565104, 0.00637484, -0.03996353, -0.058740616, -0.003068075, 0.028021699, -0.015593983, -0.04402353, -0.07623192, -0.07376969, 0.0014121693, -0.00017240277, 0.020248126, -0.014222971, 0.054566626, -0.0032540592, 0.0043743053, 0.039601617, -0.030673282, -0.033652816, 0.015202267, 0.032967534, 0.030292664, -0.041373737, -0.09527751, -0.009276832, 0.00059683324, 0.0077838595, -0.0021596157, -0.013816504, -0.046077844, -0.08634276, 0.0055227005, 0.07333058, 0.02763602, 0.000527042, 0.038939387, 0.0948691, 0.08999077, 0.0017911609, -0.0076073683, -0.018842498, 0.017278286, 0.039071433, -0.009420801, -0.08326968, -0.026879163, 0.069829196, 0.020954687, 0.026988, -0.019208848, -0.05698333, 0.05880349, 0.10022165, -0.1096897, -0.041242022, -0.073734276, 0.009029805, -0.031889662, 0.028459081, 0.0035541707, 0.07371635, -0.05856431, -0.048814274, -0.028156051, 0.08768032, 0.0036289073, -0.002323049, 0.0150135895, 0.024673345, -0.075623766, -0.05977668, 0.00026026086, 0.058232423, -0.002741481, 0.03655679, 0.09225535, -0.009480164, -0.04374721, 0.073452026, -0.020556612, -0.106712185, -0.005801683, -0.041255247, 0.05460917, 0.027580578, 0.02152291, 0.050415702, 0.047065407, ...], [0.0144594265, 0.07446248, -0.045089927, 0.010138627, -0.034851722, -0.036879677, 0.048160028, 0.14061287, 0.046941016, 0.046499144, -0.010896524, -0.087858796, -0.0026145747, -0.031793404, -0.06671994, 0.00656845, 0.0324722, -0.020678006, -0.042415444, -0.08510687, -0.07663203, -0.0046774545, 0.00011906121, 0.013923222, -0.009405074, 0.059420504, -0.0014765491, 0.0035615498, 0.029002849, -0.03671453, -0.03331588, 0.009782221, 0.03529159, 0.032256372, -0.04659554, -0.09001991, -0.014965714, 0.0045377146, 0.008853889, -0.0069016, -0.012169992, -0.051500868, -0.084315546, 0.005645857, 0.07342624, 0.030641079, -0.0012401349, 0.037945732, 0.09277048, 0.08577744, 0.003312034, -0.010563949, -0.013705617, 0.01427397, 0.036015417, -0.008151873, -0.08675024, -0.023165474, 0.073484674, 0.015958315, 0.033551503, -0.02111545, -0.050720815, 0.06421366, 0.10430484, -0.1044622, -0.04143136, -0.07806301, 0.015246597, -0.028744053, 0.035415035, 0.0040899925, 0.073089436, -0.064180195, -0.0510076, -0.02624805, 0.079248175, 0.0077738115, -0.0043854676, 0.00697004, 0.014901195, -0.07388265, -0.055412114, -0.0010091965, 0.055152, -0.004756789, 0.030294502, 0.09864996, -0.008534996, -0.041932564, 0.07112803, -0.0132370675, -0.10923344, -0.011673619, -0.044813108, 0.052469417, 0.034506727, 0.022505017, 0.04320939, 0.049039226, ...], [0.012473745, 0.06579259, -0.04696793, 0.016379284, -0.041451313, -0.0365743, 0.047863375, 0.13000238, 0.047087315, 0.046284944, -0.0036601124, -0.07684406, -0.0012273779, -0.029116841, -0.06706382, 0.010055521, 0.033135824, -0.011259467, -0.046851218, -0.08528558, -0.0734531, -0.009745515, 0.008790029, 0.0080478005, -0.004219973, 0.06299036, -0.0024507628, 0.0037192802, 0.02802964, -0.04273661, -0.05019838, 0.008903722, 0.036041357, 0.029238308, -0.041796587, -0.08952268, -0.009353062, 0.004932315, 0.009820928, -0.0068022385, -0.029477663, -0.042715818, -0.08207347, -0.000111769594, 0.07306785, 0.03356356, -0.0034681223, 0.046710845, 0.085301764, 0.08549196, -0.008712032, -0.0006476908, -0.0047323564, 0.012899689, 0.048625477, -0.00020444066, -0.09193167, -0.031104593, 0.076287046, 0.008059028, 0.026209503, -0.013192187, -0.041777324, 0.053493146, 0.11035554, -0.09052111, -0.047015145, -0.06213644, 0.008033342, -0.0354297, 0.04217474, 0.010595037, 0.083028585, -0.074330226, -0.05419141, -0.019226864, 0.085322, 0.0064728875, -0.018850919, 0.015509345, 0.009128851, -0.069232315, -0.052366294, -0.0011053169, 0.0461028, -0.009720813, 0.04845201, 0.09121311, -0.017622788, -0.04380565, 0.06471692, -0.008616418, -0.10498432, -0.018757835, -0.041755866, 0.054272734, 0.040302306, 0.020016132, 0.045784164, 0.050511274, ...], [0.0042971163, 0.07917878, -0.036968634, 0.014669648, -0.03255535, -0.017453598, 0.035509545, 0.14517605, 0.04293879, 0.034596946, -0.018665602, -0.09382877, 0.0066579897, -0.03191192, -0.057614468, -0.0009696346, 0.037493616, -0.020478262, -0.051003326, -0.06498188, -0.05394629, -0.01068856, 0.017273365, 0.012021616, 0.011350456, 0.0335281, 0.004421039, 0.0072482713, 0.03406816, -0.02527687, -0.04445384, 0.011479322, 0.036715046, 0.023907572, -0.03023376, -0.09098249, -0.027252408, 0.0010803599, 0.008514112, -0.009261953, -0.015787795, -0.071951695, -0.081408374, 0.0035700037, 0.060071364, 0.038168643, 0.0036080675, 0.058288127, 0.08545772, 0.087005936, -0.015037052, 0.0037634557, -0.013710145, 0.018364137, 0.03362563, -0.0023921824, -0.07789831, -0.02569974, 0.06940596, 0.03166729, 0.030997293, -0.02653244, -0.057044722, 0.0673576, 0.099804625, -0.093351424, -0.039345983, -0.07232557, -0.013224823, -0.035992756, 0.038248967, -0.009850676, 0.07129331, -0.059725925, -0.059225522, -0.033115532, 0.09661314, 0.015431129, -0.0029974834, -0.00961688, 0.025891136, -0.046969533, -0.060908306, -0.0052239317, 0.054547295, -0.007346235, 0.052961994, 0.08765566, -0.004863077, -0.037369933, 0.061844513, -0.021058211, -0.10133061, -0.014948059, -0.028164271, 0.069722846, 0.018830955, -0.0007761301, 0.048489455, 0.04153579, ...], [0.0034707957, 0.07423818, -0.037024885, 0.021162301, -0.041024387, -0.014201529, 0.03334594, 0.13204467, 0.041209694, 0.03576353, -0.0084021455, -0.08924523, 0.007502367, -0.028539287, -0.05812206, 0.0002711495, 0.036131594, -0.005105305, -0.05338072, -0.064741015, -0.048964344, -0.018417763, 0.025933452, 0.007689722, 0.020898378, 0.030851396, 0.005659126, 0.009877739, 0.03609824, -0.024659116, -0.05925969, 0.0124707315, 0.038981143, 0.023866797, -0.025346268, -0.09141507, -0.020502372, 0.0037399943, 0.0064385217, -0.0046837376, -0.03274632, -0.06209302, -0.08145869, -0.0034971861, 0.05528409, 0.040783156, 0.00077216106, 0.065927856, 0.07671157, 0.09070287, -0.02738432, 0.01246515, -0.0062200013, 0.016539354, 0.040876403, 0.0057990253, -0.078247994, -0.034117233, 0.06653544, 0.022964379, 0.020046312, -0.017628618, -0.04973462, 0.058003988, 0.10693254, -0.08080575, -0.04365386, -0.046060245, -0.021276038, -0.043945413, 0.045457855, -0.010714103, 0.08186474, -0.06792321, -0.06480261, -0.02443672, 0.105228715, 0.014481605, -0.01838395, -0.0026657367, 0.024164785, -0.04116889, -0.058279153, -0.0029009574, 0.041115887, -0.008282564, 0.07301608, 0.079064555, -0.017042222, -0.040468473, 0.060454212, -0.016422005, -0.098260544, -0.018199641, -0.019799072, 0.06699195, 0.022182954, -0.007009928, 0.05181568, 0.039474998, ...]]  "
      ]
     },
     "execution_count": 64,
     "metadata": {},
     "output_type": "execute_result"
    }
   ],
   "source": [
    "df1.head(1)"
   ]
  },
  {
   "cell_type": "code",
   "execution_count": 71,
   "id": "b559412e-3134-4b95-9603-59ab164974c4",
   "metadata": {},
   "outputs": [
    {
     "data": {
      "application/vnd.jupyter.widget-view+json": {
       "model_id": "2d354abaa30f4772a87e7b1fab295fbb",
       "version_major": 2,
       "version_minor": 0
      },
      "text/plain": [
       "0it [00:00, ?it/s]"
      ]
     },
     "metadata": {},
     "output_type": "display_data"
    }
   ],
   "source": [
    "para_vectors = []\n",
    "para_ = []\n",
    "for row in tqdm(df1.itertuples()):\n",
    "    description = row.paraphrase\n",
    "    if description is not None:\n",
    "        sen = description.split(',')\n",
    "        for s in sen:\n",
    "            para_.append(s)\n",
    "            para_vectors.append(model.encode(s))"
   ]
  },
  {
   "cell_type": "code",
   "execution_count": 73,
   "id": "6ff8052b-fae1-450e-a486-4d3f79d61618",
   "metadata": {},
   "outputs": [],
   "source": [
    "df2 = pd.DataFrame({\n",
    "    'paraphrase': para_,\n",
    "    'embedding': para_vectors\n",
    "})"
   ]
  },
  {
   "cell_type": "code",
   "execution_count": 74,
   "id": "8a3d3c5b-3007-44fa-bb5b-0c0614256ea7",
   "metadata": {},
   "outputs": [
    {
     "data": {
      "text/html": [
       "<div>\n",
       "<style scoped>\n",
       "    .dataframe tbody tr th:only-of-type {\n",
       "        vertical-align: middle;\n",
       "    }\n",
       "\n",
       "    .dataframe tbody tr th {\n",
       "        vertical-align: top;\n",
       "    }\n",
       "\n",
       "    .dataframe thead th {\n",
       "        text-align: right;\n",
       "    }\n",
       "</style>\n",
       "<table border=\"1\" class=\"dataframe\">\n",
       "  <thead>\n",
       "    <tr style=\"text-align: right;\">\n",
       "      <th></th>\n",
       "      <th>paraphrase</th>\n",
       "      <th>embedding</th>\n",
       "    </tr>\n",
       "  </thead>\n",
       "  <tbody>\n",
       "    <tr>\n",
       "      <th>0</th>\n",
       "      <td>give details about the total price</td>\n",
       "      <td>[0.01893174, 0.07348564, -0.038605474, 0.016451959, -0.028498594, -0.03418547, 0.05790684, 0.13909923, 0.051803127, 0.040033724, -0.0063241743, -0.08565104, 0.00637484, -0.03996353, -0.058740616, -0.003068075, 0.028021699, -0.015593983, -0.04402353, -0.07623192, -0.07376969, 0.0014121693, -0.00017240277, 0.020248126, -0.014222971, 0.054566626, -0.0032540592, 0.0043743053, 0.039601617, -0.030673282, -0.033652816, 0.015202267, 0.032967534, 0.030292664, -0.041373737, -0.09527751, -0.009276832, 0.00059683324, 0.0077838595, -0.0021596157, -0.013816504, -0.046077844, -0.08634276, 0.0055227005, 0.07333058, 0.02763602, 0.000527042, 0.038939387, 0.0948691, 0.08999077, 0.0017911609, -0.0076073683, -0.018842498, 0.017278286, 0.039071433, -0.009420801, -0.08326968, -0.026879163, 0.069829196, 0.020954687, 0.026988, -0.019208848, -0.05698333, 0.05880349, 0.10022165, -0.1096897, -0.041242022, -0.073734276, 0.009029805, -0.031889662, 0.028459081, 0.0035541707, 0.07371635, -0.05856431, -0.048814274, -0.028156051, 0.08768032, 0.0036289073, -0.002323049, 0.0150135895, 0.024673345, -0.075623766, -0.05977668, 0.00026026086, 0.058232423, -0.002741481, 0.03655679, 0.09225535, -0.009480164, -0.04374721, 0.073452026, -0.020556612, -0.106712185, -0.005801683, -0.041255247, 0.05460917, 0.027580578, 0.02152291, 0.050415702, 0.047065407, ...]</td>\n",
       "    </tr>\n",
       "  </tbody>\n",
       "</table>\n",
       "</div>"
      ],
      "text/plain": [
       "                           paraphrase  \\\n",
       "0  give details about the total price   \n",
       "\n",
       "                                                                                                                                                                                                                                                                                                                                                                                                                                                                                                                                                                                                                                                                                                                                                                                                                                                                                                                                                                                                                                                                                                                                                                                                                                                                                                                                                                                 embedding  \n",
       "0  [0.01893174, 0.07348564, -0.038605474, 0.016451959, -0.028498594, -0.03418547, 0.05790684, 0.13909923, 0.051803127, 0.040033724, -0.0063241743, -0.08565104, 0.00637484, -0.03996353, -0.058740616, -0.003068075, 0.028021699, -0.015593983, -0.04402353, -0.07623192, -0.07376969, 0.0014121693, -0.00017240277, 0.020248126, -0.014222971, 0.054566626, -0.0032540592, 0.0043743053, 0.039601617, -0.030673282, -0.033652816, 0.015202267, 0.032967534, 0.030292664, -0.041373737, -0.09527751, -0.009276832, 0.00059683324, 0.0077838595, -0.0021596157, -0.013816504, -0.046077844, -0.08634276, 0.0055227005, 0.07333058, 0.02763602, 0.000527042, 0.038939387, 0.0948691, 0.08999077, 0.0017911609, -0.0076073683, -0.018842498, 0.017278286, 0.039071433, -0.009420801, -0.08326968, -0.026879163, 0.069829196, 0.020954687, 0.026988, -0.019208848, -0.05698333, 0.05880349, 0.10022165, -0.1096897, -0.041242022, -0.073734276, 0.009029805, -0.031889662, 0.028459081, 0.0035541707, 0.07371635, -0.05856431, -0.048814274, -0.028156051, 0.08768032, 0.0036289073, -0.002323049, 0.0150135895, 0.024673345, -0.075623766, -0.05977668, 0.00026026086, 0.058232423, -0.002741481, 0.03655679, 0.09225535, -0.009480164, -0.04374721, 0.073452026, -0.020556612, -0.106712185, -0.005801683, -0.041255247, 0.05460917, 0.027580578, 0.02152291, 0.050415702, 0.047065407, ...]  "
      ]
     },
     "execution_count": 74,
     "metadata": {},
     "output_type": "execute_result"
    }
   ],
   "source": [
    "df2.head(1)"
   ]
  },
  {
   "cell_type": "code",
   "execution_count": 91,
   "id": "cbfff674-3f5e-433b-b254-5b03f162cc4c",
   "metadata": {},
   "outputs": [],
   "source": [
    "df2.to_parquet('embedding_para.parquet', engine='pyarrow')"
   ]
  },
  {
   "cell_type": "code",
   "execution_count": null,
   "id": "e4d2df60-672c-490b-94c1-954dd12312a5",
   "metadata": {},
   "outputs": [],
   "source": []
  },
  {
   "cell_type": "code",
   "execution_count": null,
   "id": "3f2e4cc8-5eb7-451b-b42c-454ad09916a9",
   "metadata": {},
   "outputs": [],
   "source": []
  },
  {
   "cell_type": "code",
   "execution_count": null,
   "id": "ee3108a8-fb44-491c-9348-6eb427b0aa5b",
   "metadata": {},
   "outputs": [],
   "source": []
  },
  {
   "cell_type": "code",
   "execution_count": null,
   "id": "79c29aae-c691-4ac9-8560-2add4e33eb55",
   "metadata": {},
   "outputs": [],
   "source": []
  },
  {
   "cell_type": "code",
   "execution_count": 75,
   "id": "3aa58abc-141a-44bf-98f4-e3d2b0f924da",
   "metadata": {},
   "outputs": [],
   "source": [
    "from sklearn.metrics.pairwise import cosine_similarity"
   ]
  },
  {
   "cell_type": "code",
   "execution_count": 78,
   "id": "f622f34a-d156-4968-a731-5f56c7fa8fb7",
   "metadata": {},
   "outputs": [
    {
     "name": "stdout",
     "output_type": "stream",
     "text": [
      " give details on revenue for the last year by month\n"
     ]
    }
   ],
   "source": [
    "sample_query = df2.iloc[12345].paraphrase\n",
    "print(sample_query)"
   ]
  },
  {
   "cell_type": "code",
   "execution_count": 79,
   "id": "fb0e12fc-9177-4772-a731-9b2cdf9fe5d8",
   "metadata": {},
   "outputs": [],
   "source": [
    "query_vector = model.encode(sample_query)  "
   ]
  },
  {
   "cell_type": "code",
   "execution_count": 80,
   "id": "cc7e0a8b-90ac-4fec-8a62-4742b0ea493d",
   "metadata": {},
   "outputs": [],
   "source": [
    "scores = cosine_similarity([query_vector], para_vectors)[0]"
   ]
  },
  {
   "cell_type": "code",
   "execution_count": 81,
   "id": "c00fd59f-ad0c-4884-80d0-545db50e8600",
   "metadata": {},
   "outputs": [],
   "source": [
    "top_scores_ids = np.argsort(scores)[-5:][::-1]"
   ]
  },
  {
   "cell_type": "code",
   "execution_count": 83,
   "id": "548f3d84-ce10-4768-8c8a-dc509be8498d",
   "metadata": {},
   "outputs": [
    {
     "name": "stdout",
     "output_type": "stream",
     "text": [
      "New_story: \n",
      " give details on revenue for the last year by month\n",
      "-------------------------------------------------------------------------------------\n",
      "New_story: \n",
      " give details on revenue for last year by month\n",
      "-------------------------------------------------------------------------------------\n",
      "New_story: \n",
      " give details of revenue for the last year by month\n",
      "-------------------------------------------------------------------------------------\n",
      "New_story: \n",
      " provide details on revenue for the last year by month\n",
      "-------------------------------------------------------------------------------------\n",
      "New_story: \n",
      " provide details on revenue for last year by month\n",
      "-------------------------------------------------------------------------------------\n"
     ]
    }
   ],
   "source": [
    "for top_id in top_scores_ids:\n",
    "    print(\"New_story: \")\n",
    "    print(df2.iloc[top_id].paraphrase)\n",
    "    print(\"-------------------------------------------------------------------------------------\")"
   ]
  },
  {
   "cell_type": "code",
   "execution_count": 90,
   "id": "0391f756-1e51-48f8-a574-ec19418b1a52",
   "metadata": {},
   "outputs": [
    {
     "data": {
      "text/plain": [
       "array([1.0000001 , 0.9958489 , 0.9945643 , 0.9856138 , 0.97443086,\n",
       "       0.9501984 ], dtype=float32)"
      ]
     },
     "execution_count": 90,
     "metadata": {},
     "output_type": "execute_result"
    }
   ],
   "source": [
    "np.sort(scores)[::-1][:6]"
   ]
  },
  {
   "cell_type": "code",
   "execution_count": 85,
   "id": "4b6c6a9c-e5cf-4688-b0a9-2a8ec77a7619",
   "metadata": {},
   "outputs": [
    {
     "data": {
      "text/plain": [
       "array([12348, 12347, 12344, 12346, 12345])"
      ]
     },
     "execution_count": 85,
     "metadata": {},
     "output_type": "execute_result"
    }
   ],
   "source": [
    "np.argsort(scores)[-5:]"
   ]
  },
  {
   "cell_type": "code",
   "execution_count": null,
   "id": "ce2479cf-15ab-4a97-993a-e04a7c7e8761",
   "metadata": {},
   "outputs": [],
   "source": []
  },
  {
   "cell_type": "code",
   "execution_count": null,
   "id": "df76b5ec-7de9-42c1-8bcc-e8453d2b72c7",
   "metadata": {},
   "outputs": [],
   "source": []
  },
  {
   "cell_type": "code",
   "execution_count": null,
   "id": "9ba2deca-1b0d-423e-a65e-92777e3f4095",
   "metadata": {},
   "outputs": [],
   "source": []
  },
  {
   "cell_type": "code",
   "execution_count": null,
   "id": "ca097ffb-1495-4878-94a8-4259232f0a92",
   "metadata": {},
   "outputs": [],
   "source": []
  },
  {
   "cell_type": "code",
   "execution_count": null,
   "id": "412342c1-e753-4daf-9e05-4bab40ee9795",
   "metadata": {},
   "outputs": [],
   "source": []
  },
  {
   "cell_type": "code",
   "execution_count": null,
   "id": "402644d3-0809-42d9-bab7-addef2e27e28",
   "metadata": {},
   "outputs": [],
   "source": []
  },
  {
   "cell_type": "code",
   "execution_count": null,
   "id": "64e28d5f-6237-43e7-9f13-e5cd15a1eea8",
   "metadata": {},
   "outputs": [],
   "source": []
  },
  {
   "cell_type": "code",
   "execution_count": null,
   "id": "a1eee42d-359c-4589-83a8-c94f8ed2234f",
   "metadata": {},
   "outputs": [],
   "source": []
  },
  {
   "cell_type": "code",
   "execution_count": null,
   "id": "3d5def81-102a-40f4-a39d-d3cb83f119bd",
   "metadata": {},
   "outputs": [],
   "source": []
  },
  {
   "cell_type": "code",
   "execution_count": null,
   "id": "27638f3c-8b12-4f95-a84f-d989b5749e2c",
   "metadata": {},
   "outputs": [],
   "source": []
  },
  {
   "cell_type": "code",
   "execution_count": null,
   "id": "e565e8c6-3f2e-419b-9b46-0e5293fcb630",
   "metadata": {},
   "outputs": [],
   "source": []
  },
  {
   "cell_type": "code",
   "execution_count": null,
   "id": "5d720bdd-8fd3-45f6-8298-1d8116f143df",
   "metadata": {},
   "outputs": [],
   "source": []
  },
  {
   "cell_type": "code",
   "execution_count": null,
   "id": "d203e54d-6b5d-4e2b-8156-96df2de84ff5",
   "metadata": {},
   "outputs": [],
   "source": []
  },
  {
   "cell_type": "code",
   "execution_count": null,
   "id": "45fbe0c2-100a-4143-a15c-dde2f2cc3415",
   "metadata": {},
   "outputs": [],
   "source": []
  },
  {
   "cell_type": "code",
   "execution_count": null,
   "id": "1ef08715-c5ed-41a3-800f-34744d108bde",
   "metadata": {},
   "outputs": [],
   "source": []
  },
  {
   "cell_type": "code",
   "execution_count": null,
   "id": "0c555dde-7055-4ea9-8cb8-28eb7f56de3c",
   "metadata": {},
   "outputs": [],
   "source": []
  },
  {
   "cell_type": "code",
   "execution_count": null,
   "id": "5493a2df-8521-4d5c-8920-daa9287e0beb",
   "metadata": {},
   "outputs": [],
   "source": []
  },
  {
   "cell_type": "code",
   "execution_count": null,
   "id": "036f2446-b3a1-4c8c-b2e3-58350b2e22ae",
   "metadata": {},
   "outputs": [],
   "source": []
  },
  {
   "cell_type": "code",
   "execution_count": null,
   "id": "75b6937a-c3eb-449d-956a-52fcd755ec18",
   "metadata": {},
   "outputs": [],
   "source": []
  },
  {
   "cell_type": "code",
   "execution_count": null,
   "id": "9be201fc-fa90-4623-8655-4b28881ccf77",
   "metadata": {},
   "outputs": [],
   "source": []
  },
  {
   "cell_type": "code",
   "execution_count": null,
   "id": "b1b1a43d-ee67-4768-a5cb-d34e144ce8de",
   "metadata": {},
   "outputs": [],
   "source": []
  },
  {
   "cell_type": "code",
   "execution_count": null,
   "id": "afb7e26d-b0c6-48e7-8437-8003f0913f54",
   "metadata": {},
   "outputs": [],
   "source": []
  },
  {
   "cell_type": "code",
   "execution_count": null,
   "id": "44f728c5-cbf0-431c-bd1d-e07339417dfe",
   "metadata": {},
   "outputs": [],
   "source": []
  },
  {
   "cell_type": "code",
   "execution_count": null,
   "id": "9456ad06-4c81-4b3c-aebf-03b06134503c",
   "metadata": {},
   "outputs": [],
   "source": []
  },
  {
   "cell_type": "code",
   "execution_count": null,
   "id": "de008fa7-2719-45c2-b43a-96ffe16231ca",
   "metadata": {},
   "outputs": [],
   "source": []
  },
  {
   "cell_type": "code",
   "execution_count": null,
   "id": "6f5d6880-18c2-467e-8245-dc24e2f8f447",
   "metadata": {},
   "outputs": [],
   "source": []
  },
  {
   "cell_type": "code",
   "execution_count": null,
   "id": "b46d4f20-6e12-4aa0-84a8-2afeb023efcf",
   "metadata": {},
   "outputs": [],
   "source": []
  },
  {
   "cell_type": "code",
   "execution_count": null,
   "id": "fd4bef2a-d914-4bc4-b057-44c13df852a3",
   "metadata": {},
   "outputs": [],
   "source": []
  },
  {
   "cell_type": "code",
   "execution_count": null,
   "id": "e147cd8d-0a75-4079-9833-ee5351d90680",
   "metadata": {},
   "outputs": [],
   "source": []
  },
  {
   "cell_type": "code",
   "execution_count": null,
   "id": "15747919-e05e-4f87-906a-cf0a727baa91",
   "metadata": {},
   "outputs": [],
   "source": []
  },
  {
   "cell_type": "markdown",
   "id": "22d792c2-43a3-44a2-a980-27f9e6c49844",
   "metadata": {},
   "source": [
    "## Parrot"
   ]
  },
  {
   "cell_type": "code",
   "execution_count": null,
   "id": "f240d545-0fcf-4c5a-886c-bb00c30bc7c9",
   "metadata": {},
   "outputs": [],
   "source": [
    "from parrot import Parrot\n",
    "import torch\n",
    "import warnings\n",
    "warnings.filterwarnings(\"ignore\")"
   ]
  },
  {
   "cell_type": "code",
   "execution_count": null,
   "id": "6586dffc-bcec-4d93-85e8-5f63d122d065",
   "metadata": {},
   "outputs": [],
   "source": [
    "def random_state(seed):\n",
    "    np.random.seed(seed)\n",
    "    torch.manual_seed(seed)\n",
    "    if torch.cuda.is_available():\n",
    "        torch.cuda.manual_seed_all(seed)\n",
    "\n",
    "random_state(42)"
   ]
  },
  {
   "cell_type": "code",
   "execution_count": null,
   "id": "42baf81b-c8b6-45d1-b6f7-c1d152ee9e79",
   "metadata": {},
   "outputs": [],
   "source": [
    "parrot = Parrot(model_tag=\"prithivida/parrot_paraphraser_on_T5\", use_gpu=False)"
   ]
  },
  {
   "cell_type": "code",
   "execution_count": 10,
   "id": "55fd53c4-3c56-4dc3-9765-69e5c94734d3",
   "metadata": {},
   "outputs": [],
   "source": [
    "phrases = [\"totalprice\",\n",
    "           \"lines per day for last 3 months\",\n",
    "           \"ytd spend by vendor top 5\",\n",
    "           \"ytd totalprice\",\n",
    "           \"on_hand_qty customer product number product description uom code date\",\n",
    "           \"ytd spend this calendar year\"\n",
    "]"
   ]
  },
  {
   "cell_type": "code",
   "execution_count": 35,
   "id": "75d2d73a-e3df-4888-8d6c-0093780a556d",
   "metadata": {},
   "outputs": [],
   "source": [
    "# for phrase in phrases:\n",
    "#     print(\"Input_phrase: \", phrase)\n",
    "#     para_phrases = parrot.augment(input_phrase=phrase)\n",
    "#     for para_phrase in para_phrases:\n",
    "#         print(para_phrase)"
   ]
  },
  {
   "cell_type": "code",
   "execution_count": 11,
   "id": "a64742b1-6f50-4b95-a62c-9ba9e1af83f0",
   "metadata": {},
   "outputs": [
    {
     "name": "stdout",
     "output_type": "stream",
     "text": [
      "----------------------------------------------------------------------------------------------------\n",
      "Input_phrase:  totalprice\n",
      "----------------------------------------------------------------------------------------------------\n",
      "('total cost', 17)\n",
      "('the total cost', 14)\n",
      "('total price', 13)\n",
      "('totalprice', 12)\n",
      "('the total price', 10)\n",
      "----------------------------------------------------------------------------------------------------\n",
      "Input_phrase:  lines per day for last 3 months\n",
      "----------------------------------------------------------------------------------------------------\n",
      "('the last 3 months', 27)\n",
      "('for the last 3 months', 26)\n",
      "('lines per day for the last three months', 21)\n",
      "('1 line per day for the last 3 months', 16)\n",
      "----------------------------------------------------------------------------------------------------\n",
      "Input_phrase:  ytd spend by vendor top 5\n",
      "----------------------------------------------------------------------------------------------------\n",
      "('yearly sales by vendor the top 5', 20)\n",
      "('yearly sales by vendor top five', 20)\n",
      "('yearly sales by vendor top 5', 16)\n",
      "('spend by vendor top 5', 16)\n",
      "----------------------------------------------------------------------------------------------------\n",
      "Input_phrase:  ytd totalprice\n",
      "----------------------------------------------------------------------------------------------------\n",
      "('ytd', 23)\n",
      "('a total of ytd', 21)\n",
      "('total price', 17)\n",
      "('ytd total cost', 17)\n",
      "('ytd total', 17)\n",
      "('ytd total prices', 14)\n",
      "('the total price', 14)\n",
      "('ytd total price', 13)\n",
      "----------------------------------------------------------------------------------------------------\n",
      "Input_phrase:  on_hand_qty customer product number product description uom code date\n",
      "----------------------------------------------------------------------------------------------------\n",
      "('product number onhandqty date uom code description', 49)\n",
      "('product number onhandqty date uom code product description', 43)\n",
      "('onhandqty customer number product description uom code date', 20)\n",
      "('onhandqty customer product number product description code uom date', 18)\n",
      "('onhandqty customer product number product description uom code', 17)\n",
      "('onhandqty customer product number product description uom code date', 12)\n",
      "----------------------------------------------------------------------------------------------------\n",
      "Input_phrase:  ytd spend this calendar year\n",
      "----------------------------------------------------------------------------------------------------\n",
      "('this calendar year', 22)\n",
      "('ytd spend this year', 21)\n",
      "('ytd spends this calendar year', 13)\n",
      "('ytd spend this calendar year', 12)\n"
     ]
    }
   ],
   "source": [
    "for phrase in phrases:\n",
    "    print(\"-\"*100)\n",
    "    print(\"Input_phrase: \", phrase)\n",
    "    print(\"-\"*100)\n",
    "    para_phrases = parrot.augment(input_phrase=phrase,\n",
    "                                use_gpu=False,\n",
    "                                diversity_ranker=\"levenshtein\",\n",
    "                                do_diverse=True, \n",
    "                                max_return_phrases = 10, \n",
    "                                max_length=300, \n",
    "                                adequacy_threshold = 0.50, \n",
    "                                fluency_threshold = 0.50)\n",
    "    for paraphrase in para_phrases:                                  \n",
    "        print(paraphrase)"
   ]
  },
  {
   "cell_type": "code",
   "execution_count": null,
   "id": "c96407e4-b8ef-40e4-b95a-9fcd14919fe4",
   "metadata": {},
   "outputs": [],
   "source": []
  },
  {
   "cell_type": "code",
   "execution_count": 48,
   "id": "76e5dab2-f76f-497c-8f17-4c91d9e377f5",
   "metadata": {},
   "outputs": [
    {
     "name": "stdout",
     "output_type": "stream",
     "text": [
      "****************************************************************************************************\n",
      "Input_phrase:  What is the totalprice\n",
      "----------------------------------------------------------------------------------------------------\n",
      "('tell me the total price of the product?', 31)\n",
      "('tell me the total price of the goods?', 31)\n",
      "('tell me the total price of the item?', 30)\n",
      "('tell me the total cost?', 23)\n",
      "('is it a total price?', 21)\n",
      "('is there a total price?', 21)\n",
      "('tell me the total price?', 19)\n",
      "('tell me the total price', 18)\n",
      "(\"what's the total price?\", 16)\n",
      "('what is the total price?', 14)\n",
      "****************************************************************************************************\n",
      "Input_phrase:  Give me that lines per day for last 3 months\n",
      "----------------------------------------------------------------------------------------------------\n",
      "('what lines per day for the last 3 months?', 26)\n",
      "('give me those lines per day for the last 3 months', 19)\n",
      "****************************************************************************************************\n",
      "Input_phrase:  can you give me ytd spend by vendor top 5\n",
      "----------------------------------------------------------------------------------------------------\n",
      "('can you give me ytd spend by vendor top 5', 0)\n",
      "****************************************************************************************************\n",
      "Input_phrase:  Could you provide brief me ytd totalprice\n",
      "----------------------------------------------------------------------------------------------------\n",
      "(\"i'd like to know ytd total price\", 34)\n",
      "('can you give me a brief ytd total price?', 29)\n",
      "('can you give me a brief ytd total price', 28)\n",
      "('can you provide me a brief ytd total price', 25)\n",
      "('could you give me a brief ytd total price?', 25)\n",
      "('could you give me a brief ytd total price', 24)\n",
      "('could you give me a brief ytd totalprice', 23)\n",
      "****************************************************************************************************\n",
      "Input_phrase:  Could you provide me on_hand_qty customer product number product description uom code date\n",
      "----------------------------------------------------------------------------------------------------\n",
      "('is there a customer product number product description uom code date?', 37)\n",
      "('is there a customer product number product description uom code date', 36)\n",
      "('can you provide me onhandqty customer product number product description uom code date', 16)\n",
      "****************************************************************************************************\n",
      "Input_phrase:  Brief me on ytd spend this calendar year\n",
      "----------------------------------------------------------------------------------------------------\n",
      "('please explain how you spent this calendar year', 20)\n",
      "('please explain how you spend this calendar year', 19)\n",
      "('brief me on ytd this calendar year', 18)\n",
      "('please describe how you spend this calendar year', 18)\n"
     ]
    }
   ],
   "source": [
    "import numpy as np\n",
    "np.random.seed(0)\n",
    "q_langs = [\"can you give me\", \"can you get me\", \"give me\", \"Could you provide\", \"Get me\",\n",
    "           \"Give me that\", \"Provide details on\", \"Tell me about\", \"Share information about\", \"Update me the\",\n",
    "           \"Need info on\", \"Brief me on\", \"What is the\"]\n",
    "\n",
    "for phrase in phrases:\n",
    "    print(\"*\"*100)\n",
    "    contains_q_word = False\n",
    "    for q_word in q_langs:\n",
    "        if q_word in phrase:\n",
    "            contains_q_word = True\n",
    "            break\n",
    "    \n",
    "    if contains_q_word:\n",
    "        input_phrase = phrase\n",
    "    else:\n",
    "        # add a random question word to the phrase\n",
    "        q_word = np.random.choice(q_langs)\n",
    "        input_phrase = \" \".join([q_word, phrase])\n",
    "    \n",
    "    print(\"Input_phrase: \", input_phrase)\n",
    "    print(\"-\"*100)\n",
    "    para_phrases = parrot.augment(input_phrase= input_phrase,\n",
    "                                use_gpu=False,\n",
    "                                diversity_ranker=\"levenshtein\",\n",
    "                                do_diverse=True, \n",
    "                                max_return_phrases = 10, \n",
    "                                max_length=300, \n",
    "                                adequacy_threshold = 0.50, \n",
    "                                fluency_threshold = 0.50)\n",
    "    for paraphrase in para_phrases:                                  \n",
    "        print(paraphrase)"
   ]
  },
  {
   "cell_type": "code",
   "execution_count": 61,
   "id": "3a723318-73b6-4a54-b0fe-5aecac1f5d1e",
   "metadata": {},
   "outputs": [
    {
     "name": "stdout",
     "output_type": "stream",
     "text": [
      "****************************************************************************************************\n",
      "Input_phrase:  What is the totalprice\n",
      "----------------------------------------------------------------------------------------------------\n"
     ]
    },
    {
     "ename": "AttributeError",
     "evalue": "'NoneType' object has no attribute 'items'",
     "output_type": "error",
     "traceback": [
      "\u001b[0;31m---------------------------------------------------------------------------\u001b[0m",
      "\u001b[0;31mAttributeError\u001b[0m                            Traceback (most recent call last)",
      "Input \u001b[0;32mIn [61]\u001b[0m, in \u001b[0;36m<cell line: 7>\u001b[0;34m()\u001b[0m\n\u001b[1;32m     22\u001b[0m \u001b[38;5;28mprint\u001b[39m(\u001b[38;5;124m\"\u001b[39m\u001b[38;5;124mInput_phrase: \u001b[39m\u001b[38;5;124m\"\u001b[39m, input_phrase)\n\u001b[1;32m     23\u001b[0m \u001b[38;5;28mprint\u001b[39m(\u001b[38;5;124m\"\u001b[39m\u001b[38;5;124m-\u001b[39m\u001b[38;5;124m\"\u001b[39m\u001b[38;5;241m*\u001b[39m\u001b[38;5;241m100\u001b[39m)\n\u001b[0;32m---> 24\u001b[0m para_phrases \u001b[38;5;241m=\u001b[39m \u001b[43mparrot\u001b[49m\u001b[38;5;241;43m.\u001b[39;49m\u001b[43maugment\u001b[49m\u001b[43m(\u001b[49m\u001b[43minput_phrase\u001b[49m\u001b[38;5;241;43m=\u001b[39;49m\u001b[43m \u001b[49m\u001b[43minput_phrase\u001b[49m\u001b[43m,\u001b[49m\n\u001b[1;32m     25\u001b[0m \u001b[43m                            \u001b[49m\u001b[43muse_gpu\u001b[49m\u001b[38;5;241;43m=\u001b[39;49m\u001b[38;5;28;43;01mFalse\u001b[39;49;00m\u001b[43m,\u001b[49m\n\u001b[1;32m     26\u001b[0m \u001b[43m                            \u001b[49m\u001b[43mdiversity_ranker\u001b[49m\u001b[38;5;241;43m=\u001b[39;49m\u001b[38;5;124;43m\"\u001b[39;49m\u001b[38;5;124;43mjaccard\u001b[39;49m\u001b[38;5;124;43m\"\u001b[39;49m\u001b[43m,\u001b[49m\n\u001b[1;32m     27\u001b[0m \u001b[43m                            \u001b[49m\u001b[43mdo_diverse\u001b[49m\u001b[38;5;241;43m=\u001b[39;49m\u001b[38;5;28;43;01mTrue\u001b[39;49;00m\u001b[43m,\u001b[49m\u001b[43m \u001b[49m\n\u001b[1;32m     28\u001b[0m \u001b[43m                            \u001b[49m\u001b[43mmax_return_phrases\u001b[49m\u001b[43m \u001b[49m\u001b[38;5;241;43m=\u001b[39;49m\u001b[43m \u001b[49m\u001b[38;5;241;43m10\u001b[39;49m\u001b[43m,\u001b[49m\u001b[43m \u001b[49m\n\u001b[1;32m     29\u001b[0m \u001b[43m                            \u001b[49m\u001b[43mmax_length\u001b[49m\u001b[38;5;241;43m=\u001b[39;49m\u001b[38;5;241;43m300\u001b[39;49m\u001b[43m,\u001b[49m\u001b[43m \u001b[49m\n\u001b[1;32m     30\u001b[0m \u001b[43m                            \u001b[49m\u001b[43madequacy_threshold\u001b[49m\u001b[43m \u001b[49m\u001b[38;5;241;43m=\u001b[39;49m\u001b[43m \u001b[49m\u001b[38;5;241;43m0.30\u001b[39;49m\u001b[43m,\u001b[49m\u001b[43m \u001b[49m\n\u001b[1;32m     31\u001b[0m \u001b[43m                            \u001b[49m\u001b[43mfluency_threshold\u001b[49m\u001b[43m \u001b[49m\u001b[38;5;241;43m=\u001b[39;49m\u001b[43m \u001b[49m\u001b[38;5;241;43m0.30\u001b[39;49m\u001b[43m)\u001b[49m\n\u001b[1;32m     32\u001b[0m \u001b[38;5;28;01mfor\u001b[39;00m paraphrase \u001b[38;5;129;01min\u001b[39;00m para_phrases:                                  \n\u001b[1;32m     33\u001b[0m     \u001b[38;5;28mprint\u001b[39m(paraphrase)\n",
      "File \u001b[0;32m/opt/conda/lib/python3.9/site-packages/parrot/parrot.py:136\u001b[0m, in \u001b[0;36mParrot.augment\u001b[0;34m(self, input_phrase, use_gpu, diversity_ranker, do_diverse, max_return_phrases, max_length, adequacy_threshold, fluency_threshold)\u001b[0m\n\u001b[1;32m    134\u001b[0m diversity_scored_phrases \u001b[38;5;241m=\u001b[39m \u001b[38;5;28mself\u001b[39m\u001b[38;5;241m.\u001b[39mdiversity_score\u001b[38;5;241m.\u001b[39mrank(input_phrase, fluency_filtered_phrases, diversity_ranker)\n\u001b[1;32m    135\u001b[0m para_phrases \u001b[38;5;241m=\u001b[39m []\n\u001b[0;32m--> 136\u001b[0m \u001b[38;5;28;01mfor\u001b[39;00m para_phrase, diversity_score \u001b[38;5;129;01min\u001b[39;00m \u001b[43mdiversity_scored_phrases\u001b[49m\u001b[38;5;241;43m.\u001b[39;49m\u001b[43mitems\u001b[49m():\n\u001b[1;32m    137\u001b[0m     para_phrases\u001b[38;5;241m.\u001b[39mappend((para_phrase, diversity_score))\n\u001b[1;32m    138\u001b[0m para_phrases\u001b[38;5;241m.\u001b[39msort(key\u001b[38;5;241m=\u001b[39m\u001b[38;5;28;01mlambda\u001b[39;00m x:x[\u001b[38;5;241m1\u001b[39m], reverse\u001b[38;5;241m=\u001b[39m\u001b[38;5;28;01mTrue\u001b[39;00m)\n",
      "\u001b[0;31mAttributeError\u001b[0m: 'NoneType' object has no attribute 'items'"
     ]
    }
   ],
   "source": [
    "import numpy as np\n",
    "np.random.seed(0)\n",
    "q_langs = [\"can you give me\", \"can you get me\", \"give me\", \"Could you provide\", \"Get me\",\n",
    "           \"Give me that\", \"Provide details on\", \"Tell me about\", \"Share information about\", \"Update me the\",\n",
    "           \"Need info on\", \"Brief me on\", \"What is the\"]\n",
    "\n",
    "for phrase in phrases:\n",
    "    print(\"*\"*100)\n",
    "    contains_q_word = False\n",
    "    for q_word in q_langs:\n",
    "        if q_word in phrase:\n",
    "            contains_q_word = True\n",
    "            break\n",
    "    \n",
    "    if contains_q_word:\n",
    "        input_phrase = phrase\n",
    "    else:\n",
    "        # add a random question word to the phrase\n",
    "        q_word = np.random.choice(q_langs)\n",
    "        input_phrase = \" \".join([q_word, phrase])\n",
    "    \n",
    "    print(\"Input_phrase: \", input_phrase)\n",
    "    print(\"-\"*100)\n",
    "    para_phrases = parrot.augment(input_phrase= input_phrase,\n",
    "                                use_gpu=False,\n",
    "                                diversity_ranker=\"jaccard\",\n",
    "                                do_diverse=True, \n",
    "                                max_return_phrases = 10, \n",
    "                                max_length=300, \n",
    "                                adequacy_threshold = 0.30, \n",
    "                                fluency_threshold = 0.30)\n",
    "    for paraphrase in para_phrases:                                  \n",
    "        print(paraphrase)"
   ]
  },
  {
   "cell_type": "code",
   "execution_count": null,
   "id": "bfd47c09-8224-46ea-b9aa-df4f06969cda",
   "metadata": {},
   "outputs": [],
   "source": []
  },
  {
   "cell_type": "code",
   "execution_count": null,
   "id": "f90de3e4-910d-42b5-afc6-4ff3d72db387",
   "metadata": {},
   "outputs": [],
   "source": []
  },
  {
   "cell_type": "code",
   "execution_count": null,
   "id": "7c75e0a2-3333-4bb4-91de-515c7f1d2f52",
   "metadata": {},
   "outputs": [],
   "source": []
  },
  {
   "cell_type": "code",
   "execution_count": null,
   "id": "d12de301-cbc2-4de7-b7f5-79d0fbe84e3a",
   "metadata": {},
   "outputs": [],
   "source": []
  },
  {
   "cell_type": "code",
   "execution_count": null,
   "id": "35449c9f-7fcd-4e96-8b26-f3d5db366bba",
   "metadata": {},
   "outputs": [],
   "source": []
  },
  {
   "cell_type": "code",
   "execution_count": null,
   "id": "bfc21805-88ac-4297-8141-9197b0feb191",
   "metadata": {},
   "outputs": [],
   "source": []
  },
  {
   "cell_type": "code",
   "execution_count": null,
   "id": "b6277788-6792-46ff-b28d-67d98da3a526",
   "metadata": {},
   "outputs": [],
   "source": []
  },
  {
   "cell_type": "code",
   "execution_count": null,
   "id": "cbe25d23-ce35-4760-9e27-89982f24d4ea",
   "metadata": {},
   "outputs": [],
   "source": []
  },
  {
   "cell_type": "code",
   "execution_count": null,
   "id": "bf80190e-f83f-40af-8eba-a2f5eeec99dc",
   "metadata": {},
   "outputs": [],
   "source": []
  },
  {
   "cell_type": "code",
   "execution_count": null,
   "id": "3fbe514a-ec3c-4636-8eba-f38eb85a276c",
   "metadata": {},
   "outputs": [],
   "source": []
  },
  {
   "cell_type": "markdown",
   "id": "0cc1d523-d74f-4b7b-8b5d-348fc230bdc8",
   "metadata": {},
   "source": [
    "## Test"
   ]
  },
  {
   "cell_type": "code",
   "execution_count": 3,
   "id": "289b5ac8-7cef-4d55-9f93-1f4f5575b8e3",
   "metadata": {},
   "outputs": [],
   "source": [
    "# import torch\n",
    "# from transformers import PegasusForConditionalGeneration, PegasusTokenizer"
   ]
  },
  {
   "cell_type": "code",
   "execution_count": null,
   "id": "e385d4b4-d396-4aa2-a23c-2e575b2d8143",
   "metadata": {},
   "outputs": [],
   "source": [
    "# model_name = 'tuner007/pegasus_paraphrase'\n",
    "# torch_device = 'cuda' if torch.cuda.is_available() else 'cpu'\n",
    "# tokenizer = PegasusTokenizer.from_pretrained(model_name)\n",
    "# model = PegasusForConditionalGeneration.from_pretrained(model_name).to(torch_device)"
   ]
  },
  {
   "cell_type": "code",
   "execution_count": null,
   "id": "d90fc665-7c0c-49b1-9eac-41d1235344bf",
   "metadata": {},
   "outputs": [],
   "source": [
    "# def get_response(input_text,num_return_sequences,num_beams):\n",
    "#     batch = tokenizer.prepare_seq2seq_batch([input_text],truncation=True,padding='longest',max_length=60).to(torch_device)\n",
    "#     translated = model.generate(**batch,max_length=60,num_beams=num_beams, num_return_sequences=num_return_sequences, temperature=1.5)\n",
    "#     tgt_text = tokenizer.batch_decode(translated, skip_special_tokens=True)\n",
    "#     return tgt_text\n",
    "\n",
    "# context = \"on_hand_qty customer product number product description uom code date\"\n",
    "# num_return_sequences = 5\n",
    "# num_beams = 10\n",
    "# get_response(context, num_return_sequences, num_beams)"
   ]
  },
  {
   "cell_type": "code",
   "execution_count": null,
   "id": "2d190f03-d06e-4b6e-9fc1-17e608347a4f",
   "metadata": {},
   "outputs": [],
   "source": [
    "# def get_response(input_text, num_return_sequences, num_beams):\n",
    "#     input_tensor = torch.tensor(tokenizer.encode(input_text)).unsqueeze(0).to(torch_device)\n",
    "#     batch = {\"input_ids\": input_tensor, \"attention_mask\": torch.ones_like(input_tensor)}\n",
    "#     translated = model.generate(**batch, max_length=100, num_beams=num_beams, num_return_sequences=num_return_sequences, temperature=1.5)\n",
    "#     tgt_text = tokenizer.batch_decode(translated, skip_special_tokens=True)\n",
    "#     return tgt_text\n",
    "\n",
    "# context = \"on_hand_qty customer product number product description uom code date\"\n",
    "# num_return_sequences = 5\n",
    "# num_beams = 10\n",
    "# get_response(context, num_return_sequences, num_beams)\n"
   ]
  },
  {
   "cell_type": "code",
   "execution_count": 28,
   "id": "3b9fde08-d11a-4e38-b3fc-acd5c96d095a",
   "metadata": {},
   "outputs": [],
   "source": [
    "# model_name = 'tuner007/pegasus_paraphrase'\n",
    "# torch_device = 'cuda' if torch.cuda.is_available() else 'cpu'\n",
    "# tokenizer = PegasusTokenizer.from_pretrained(model_name)\n",
    "# model = PegasusForConditionalGeneration.from_pretrained(model_name).to(torch_device)\n",
    "\n",
    "# def get_response(input_text,num_return_sequences,num_beams):\n",
    "#     batch = tokenizer([input_text],truncation=True,padding='longest',max_length=60, return_tensors=\"pt\").to(torch_device)\n",
    "#     translated = model.generate(**batch,max_length=60,num_beams=num_beams, num_return_sequences=num_return_sequences, temperature=1.5)\n",
    "#     tgt_text = tokenizer.batch_decode(translated, skip_special_tokens=True)\n",
    "#     return tgt_text\n"
   ]
  },
  {
   "cell_type": "code",
   "execution_count": 29,
   "id": "20919ac9-18e9-417b-8ceb-ce5ae71e107f",
   "metadata": {},
   "outputs": [],
   "source": [
    "# num_beams = 10\n",
    "# num_return_sequences = 5\n",
    "# context = \"ytd spend this calendar year\"\n",
    "# get_response(context,num_return_sequences,num_beams)"
   ]
  },
  {
   "cell_type": "code",
   "execution_count": null,
   "id": "43df4d31-e689-458f-80d0-4810d1bb9dae",
   "metadata": {},
   "outputs": [],
   "source": []
  },
  {
   "cell_type": "markdown",
   "id": "89b1b178-e289-4295-bd29-008ade6f716b",
   "metadata": {},
   "source": [
    "## Pegasus"
   ]
  },
  {
   "cell_type": "code",
   "execution_count": 12,
   "id": "58c98f64-f1eb-472c-8aba-d21e5100756c",
   "metadata": {},
   "outputs": [],
   "source": [
    "from transformers import PegasusForConditionalGeneration, PegasusTokenizer, PegasusTokenizerFast, AutoTokenizer, AutoModelForSeq2SeqLM"
   ]
  },
  {
   "cell_type": "code",
   "execution_count": 13,
   "id": "6726971f-5381-4ef2-be45-2de2f1edaef6",
   "metadata": {},
   "outputs": [
    {
     "data": {
      "application/vnd.jupyter.widget-view+json": {
       "model_id": "f56afe04af4c48f4bc2d637e18d2df5c",
       "version_major": 2,
       "version_minor": 0
      },
      "text/plain": [
       "Downloading (…)lve/main/config.json:   0%|          | 0.00/1.14k [00:00<?, ?B/s]"
      ]
     },
     "metadata": {},
     "output_type": "display_data"
    },
    {
     "data": {
      "application/vnd.jupyter.widget-view+json": {
       "model_id": "467ca8ad07e44653b07b4c7e68d6ad7e",
       "version_major": 2,
       "version_minor": 0
      },
      "text/plain": [
       "Downloading pytorch_model.bin:   0%|          | 0.00/2.28G [00:00<?, ?B/s]"
      ]
     },
     "metadata": {},
     "output_type": "display_data"
    },
    {
     "data": {
      "application/vnd.jupyter.widget-view+json": {
       "model_id": "0a884e37f50748bda1ed49fe0786081b",
       "version_major": 2,
       "version_minor": 0
      },
      "text/plain": [
       "Downloading (…)okenizer_config.json:   0%|          | 0.00/86.0 [00:00<?, ?B/s]"
      ]
     },
     "metadata": {},
     "output_type": "display_data"
    },
    {
     "data": {
      "application/vnd.jupyter.widget-view+json": {
       "model_id": "87a14caadc6d4e2290e2048d9d2a2633",
       "version_major": 2,
       "version_minor": 0
      },
      "text/plain": [
       "Downloading (…)ve/main/spiece.model:   0%|          | 0.00/1.91M [00:00<?, ?B/s]"
      ]
     },
     "metadata": {},
     "output_type": "display_data"
    },
    {
     "data": {
      "application/vnd.jupyter.widget-view+json": {
       "model_id": "8e3ba2b187cc450fa6e92339e81e5310",
       "version_major": 2,
       "version_minor": 0
      },
      "text/plain": [
       "Downloading (…)cial_tokens_map.json:   0%|          | 0.00/65.0 [00:00<?, ?B/s]"
      ]
     },
     "metadata": {},
     "output_type": "display_data"
    }
   ],
   "source": [
    "model1 = PegasusForConditionalGeneration.from_pretrained(\"tuner007/pegasus_paraphrase\")\n",
    "tokenizer1 = PegasusTokenizerFast.from_pretrained(\"tuner007/pegasus_paraphrase\")"
   ]
  },
  {
   "cell_type": "code",
   "execution_count": 17,
   "id": "ed43c537-a6e7-458c-b60f-a1698a910f56",
   "metadata": {},
   "outputs": [],
   "source": [
    "def get_paraphrased_sentences(model_, tokenizer_, sentence, num_return_sequences=5, num_beams=5):\n",
    "    inputs = tokenizer_([sentence], truncation=True, padding=\"longest\", return_tensors=\"pt\")\n",
    "    outputs = model_.generate(\n",
    "        **inputs,\n",
    "        num_beams=num_beams,\n",
    "        num_return_sequences=num_return_sequences,\n",
    "      )\n",
    "    return tokenizer_.batch_decode(outputs, skip_special_tokens=True)"
   ]
  },
  {
   "cell_type": "code",
   "execution_count": 18,
   "id": "13e7587f-4cad-45c1-8aa6-fea79e88a2f5",
   "metadata": {},
   "outputs": [
    {
     "data": {
      "text/plain": [
       "['On_hand_qty customer product number',\n",
       " 'On_hand_qty customer product number.',\n",
       " 'The customer product number is on hand.',\n",
       " 'The customer product number and description is on hand.',\n",
       " 'The customer product number is described in the code date.']"
      ]
     },
     "execution_count": 18,
     "metadata": {},
     "output_type": "execute_result"
    }
   ],
   "source": [
    "sentence = \"on_hand_qty customer product number product description uom code date\"\n",
    "get_paraphrased_sentences(model1, tokenizer1, sentence, num_beams=10, num_return_sequences=5)"
   ]
  },
  {
   "cell_type": "code",
   "execution_count": 6,
   "id": "af2add11-966e-46f7-a000-0cfbc145009a",
   "metadata": {},
   "outputs": [
    {
     "data": {
      "text/plain": [
       "['There is a total price.',\n",
       " 'The total price.',\n",
       " 'The total price is.',\n",
       " 'The price is total.',\n",
       " 'The total price']"
      ]
     },
     "execution_count": 6,
     "metadata": {},
     "output_type": "execute_result"
    }
   ],
   "source": [
    "get_paraphrased_sentences(model1, tokenizer1, 'total price', num_beams=10, num_return_sequences=5)"
   ]
  },
  {
   "cell_type": "code",
   "execution_count": 20,
   "id": "7c70e28c-ca47-40df-8cff-eacd600994b2",
   "metadata": {},
   "outputs": [
    {
     "name": "stdout",
     "output_type": "stream",
     "text": [
      "Input Phrases : totalprice\n",
      "['total price', 'The total price.', 'There is a total price.', 'There is a totalprice.', 'total price.']\n",
      "Input Phrases : lines per day for last 3 months\n",
      "['There were lines per day for the last 3 months.', 'For the last 3 months, there were lines per day.', 'There were lines per day for 3 months.', 'There were lines per day for the last three months.', 'For the last 3 months, lines per day.']\n",
      "Input Phrases : ytd spend by vendor top 5\n",
      "['Spend by vendor top 5.', 'Spend by vendor top 5', 'Spending by vendor top 5', 'Spending by vendor top 5.', 'Spend by vendor top 5']\n",
      "Input Phrases : ytd totalprice\n",
      "['Total price.', 'Ytd total price.', 'The total price.', 'ytd total price', 'Total price']\n",
      "Input Phrases : on_hand_qty customer product number product description uom code date\n",
      "['On_hand_qty customer product number', 'On_hand_qty customer product number.', 'The customer product number is on hand.', 'The customer product number and description is on hand.', 'The customer product number is described in the code date.']\n",
      "Input Phrases : ytd spend this calendar year\n",
      "['This year is a calendar year.', 'This is the calendar year.', 'Spend this year.', 'This is a calendar year.', 'This calendar year is over.']\n"
     ]
    }
   ],
   "source": [
    "phrases = [\"totalprice\",\n",
    "           \"lines per day for last 3 months\",\n",
    "           \"ytd spend by vendor top 5\",\n",
    "           \"ytd totalprice\",\n",
    "           \"on_hand_qty customer product number product description uom code date\",\n",
    "           \"ytd spend this calendar year\"\n",
    "]\n",
    "for phas in phrases:\n",
    "    print('Input Phrases :', phas )\n",
    "    print(get_paraphrased_sentences(model1, tokenizer1, phas, num_beams=10, num_return_sequences=5))"
   ]
  },
  {
   "cell_type": "code",
   "execution_count": null,
   "id": "62d29c38-14a7-4f99-bc24-f387941bd450",
   "metadata": {},
   "outputs": [],
   "source": []
  },
  {
   "cell_type": "code",
   "execution_count": null,
   "id": "ab8e1b7c-7fcf-4c77-8ec4-f803b7ded8f9",
   "metadata": {},
   "outputs": [],
   "source": []
  },
  {
   "cell_type": "code",
   "execution_count": null,
   "id": "198aa795-1c38-4370-8f41-99020c2007ec",
   "metadata": {},
   "outputs": [],
   "source": []
  },
  {
   "cell_type": "code",
   "execution_count": null,
   "id": "e7423e56-666f-4ead-9a16-e52b9aa32f8e",
   "metadata": {},
   "outputs": [],
   "source": []
  },
  {
   "cell_type": "code",
   "execution_count": 21,
   "id": "abb97e77-d1e3-4852-ba09-ae3804b8bf38",
   "metadata": {},
   "outputs": [
    {
     "data": {
      "application/vnd.jupyter.widget-view+json": {
       "model_id": "b46640725ca64ac9bb4c1749a35b9f38",
       "version_major": 2,
       "version_minor": 0
      },
      "text/plain": [
       "Downloading (…)okenizer_config.json:   0%|          | 0.00/25.0 [00:00<?, ?B/s]"
      ]
     },
     "metadata": {},
     "output_type": "display_data"
    },
    {
     "data": {
      "application/vnd.jupyter.widget-view+json": {
       "model_id": "409c25ffad914631824e88658bbefd99",
       "version_major": 2,
       "version_minor": 0
      },
      "text/plain": [
       "Downloading (…)lve/main/config.json:   0%|          | 0.00/1.21k [00:00<?, ?B/s]"
      ]
     },
     "metadata": {},
     "output_type": "display_data"
    },
    {
     "data": {
      "application/vnd.jupyter.widget-view+json": {
       "model_id": "4489cff7c26b4d2eba8849166ef3ad94",
       "version_major": 2,
       "version_minor": 0
      },
      "text/plain": [
       "Downloading (…)ve/main/spiece.model:   0%|          | 0.00/792k [00:00<?, ?B/s]"
      ]
     },
     "metadata": {},
     "output_type": "display_data"
    },
    {
     "data": {
      "application/vnd.jupyter.widget-view+json": {
       "model_id": "1ddbb657d1654b58a36e3989ec6624db",
       "version_major": 2,
       "version_minor": 0
      },
      "text/plain": [
       "Downloading (…)cial_tokens_map.json:   0%|          | 0.00/1.79k [00:00<?, ?B/s]"
      ]
     },
     "metadata": {},
     "output_type": "display_data"
    },
    {
     "data": {
      "application/vnd.jupyter.widget-view+json": {
       "model_id": "d79c529a9de6417e8746562b142c76fa",
       "version_major": 2,
       "version_minor": 0
      },
      "text/plain": [
       "Downloading pytorch_model.bin:   0%|          | 0.00/892M [00:00<?, ?B/s]"
      ]
     },
     "metadata": {},
     "output_type": "display_data"
    }
   ],
   "source": [
    "tokenizer2 = AutoTokenizer.from_pretrained(\"Vamsi/T5_Paraphrase_Paws\")\n",
    "model2 = AutoModelForSeq2SeqLM.from_pretrained(\"Vamsi/T5_Paraphrase_Paws\")"
   ]
  },
  {
   "cell_type": "code",
   "execution_count": 34,
   "id": "78a66e80-b713-4676-abb2-5da246d13814",
   "metadata": {},
   "outputs": [
    {
     "data": {
      "text/plain": [
       "['ytd spend this calendar year',\n",
       " 'This calendar year ytd spend',\n",
       " 'ytd spent this calendar year',\n",
       " 'ytd spend this calendar year.',\n",
       " 'Ytd spend this calendar year']"
      ]
     },
     "execution_count": 34,
     "metadata": {},
     "output_type": "execute_result"
    }
   ],
   "source": [
    "sentence = \"ytd spend this calendar year\"\n",
    "get_paraphrased_sentences(model2, tokenizer2, \"paraphrase: \" + sentence, num_beams=10, num_return_sequences=5)"
   ]
  },
  {
   "cell_type": "code",
   "execution_count": 22,
   "id": "f2528ead-aa78-4deb-8b79-718426df436f",
   "metadata": {},
   "outputs": [
    {
     "name": "stdout",
     "output_type": "stream",
     "text": [
      "Input Phrases : totalprice\n",
      "['Totalprice totalprice totalprice totalprice totalprice totalprice total', 'Totalprice totalprice totalprice', 'Totalprice totalprice totalprice totalprice totalprice totalprice', 'Totalprice totalprice totalprice totalprice', 'Totalprice totalprice totalprice totalprice totalprice']\n",
      "Input Phrases : lines per day for last 3 months\n",
      "['Lines per day for last 3 months for last 3 months per day for last 3 months', 'Lines per day for the last 3 months for last 3 months per day for last 3 months', 'Lines per day for the last 3 months for last 3 months.', 'Lines per day for last 3 months for last 3 months.', 'Lines per day for last 3 months for last 3 months per day for last 3 months ']\n",
      "Input Phrases : ytd spend by vendor top 5\n",
      "['ytd spend by vendor top 5', 'ytd spend by vendor top 5 ytd spend by vendor', 'ytd spend by vendor top 5 top 5 ytd spend by vendor', 'ytd spend by vendor top 5 top 5 ytd spend by vendor ', 'ytd spend by vendor top 5 ytd spend by vendor.']\n",
      "Input Phrases : ytd totalprice\n",
      "['ytd totalprice ytd totalprice', 'ytd totalprice ytd totalprice ytd total', 'Totalprice ytd ytd ytd totalprice', 'ytd totalprice totalprice ytd totalprice', 'Totalprice ytd ytd totalprice']\n",
      "Input Phrases : on_hand_qty customer product number product description uom code date\n",
      "['On_hand_qty customer product number product description uom code date', 'On_hand_qty customer product number product description uom code date product', 'On_hand Qty customer product number product description uom code date', 'on_hand_qty customer product number product description uom code date', 'On_hand qty customer product number product description uom code date product']\n",
      "Input Phrases : ytd spend this calendar year\n",
      "['ytd spend this calendar year ytd this calendar year ytd', 'ytd spend this calendar year ytd spend this calendar year yt', 'ytd spend this calendar year ytd spend this calendar year', 'This calendar year ytd spend this calendar year ytd', 'ytd spend this calendar year ytd ytd this calendar year']\n"
     ]
    }
   ],
   "source": [
    "phrases = [\"totalprice\",\n",
    "           \"lines per day for last 3 months\",\n",
    "           \"ytd spend by vendor top 5\",\n",
    "           \"ytd totalprice\",\n",
    "           \"on_hand_qty customer product number product description uom code date\",\n",
    "           \"ytd spend this calendar year\"\n",
    "]\n",
    "for phas in phrases:\n",
    "    print('Input Phrases :', phas )\n",
    "    print(get_paraphrased_sentences(model2, tokenizer2, phas, num_beams=10, num_return_sequences=5))"
   ]
  },
  {
   "cell_type": "code",
   "execution_count": null,
   "id": "9aee1e02-98a3-43b8-8936-1b2f0f949042",
   "metadata": {},
   "outputs": [],
   "source": []
  },
  {
   "cell_type": "code",
   "execution_count": null,
   "id": "792a1c07-c462-4ab4-bc26-9b30c7fdd32d",
   "metadata": {},
   "outputs": [],
   "source": []
  },
  {
   "cell_type": "code",
   "execution_count": null,
   "id": "f9610893-6995-4f42-8f7d-1185938430b1",
   "metadata": {},
   "outputs": [],
   "source": []
  },
  {
   "cell_type": "code",
   "execution_count": null,
   "id": "3e8c18b1-4a0a-4c98-b497-48d4ecc2bfff",
   "metadata": {},
   "outputs": [],
   "source": []
  },
  {
   "cell_type": "code",
   "execution_count": 23,
   "id": "a18e3ef5-6357-44d6-bc8c-9ed19799a518",
   "metadata": {},
   "outputs": [
    {
     "data": {
      "application/vnd.jupyter.widget-view+json": {
       "model_id": "f05be4182eb44a9cadc0cddb9cbb54bb",
       "version_major": 2,
       "version_minor": 0
      },
      "text/plain": [
       "Downloading (…)okenizer_config.json:   0%|          | 0.00/2.32k [00:00<?, ?B/s]"
      ]
     },
     "metadata": {},
     "output_type": "display_data"
    },
    {
     "data": {
      "application/vnd.jupyter.widget-view+json": {
       "model_id": "363deef7035e4c76b39b23dfc747d715",
       "version_major": 2,
       "version_minor": 0
      },
      "text/plain": [
       "Downloading spiece.model:   0%|          | 0.00/792k [00:00<?, ?B/s]"
      ]
     },
     "metadata": {},
     "output_type": "display_data"
    },
    {
     "data": {
      "application/vnd.jupyter.widget-view+json": {
       "model_id": "1969225ef22643449fc65c8d1a288535",
       "version_major": 2,
       "version_minor": 0
      },
      "text/plain": [
       "Downloading (…)/main/tokenizer.json:   0%|          | 0.00/2.42M [00:00<?, ?B/s]"
      ]
     },
     "metadata": {},
     "output_type": "display_data"
    },
    {
     "data": {
      "application/vnd.jupyter.widget-view+json": {
       "model_id": "68ca47146c9249aea081b821164fde97",
       "version_major": 2,
       "version_minor": 0
      },
      "text/plain": [
       "Downloading (…)cial_tokens_map.json:   0%|          | 0.00/2.20k [00:00<?, ?B/s]"
      ]
     },
     "metadata": {},
     "output_type": "display_data"
    },
    {
     "data": {
      "application/vnd.jupyter.widget-view+json": {
       "model_id": "bb35fc2085184d7aa9f6670c4ee1fdfd",
       "version_major": 2,
       "version_minor": 0
      },
      "text/plain": [
       "Downloading (…)lve/main/config.json:   0%|          | 0.00/1.48k [00:00<?, ?B/s]"
      ]
     },
     "metadata": {},
     "output_type": "display_data"
    },
    {
     "data": {
      "application/vnd.jupyter.widget-view+json": {
       "model_id": "ceb99f490499494fbee075fd794bb994",
       "version_major": 2,
       "version_minor": 0
      },
      "text/plain": [
       "Downloading pytorch_model.bin:   0%|          | 0.00/892M [00:00<?, ?B/s]"
      ]
     },
     "metadata": {},
     "output_type": "display_data"
    },
    {
     "data": {
      "application/vnd.jupyter.widget-view+json": {
       "model_id": "a3b1a3398d06436785f31794470a61c8",
       "version_major": 2,
       "version_minor": 0
      },
      "text/plain": [
       "Downloading (…)neration_config.json:   0%|          | 0.00/147 [00:00<?, ?B/s]"
      ]
     },
     "metadata": {},
     "output_type": "display_data"
    }
   ],
   "source": [
    "from transformers import AutoTokenizer, AutoModelForSeq2SeqLM\n",
    "device = 'cuda' if torch.cuda.is_available() else 'cpu'\n",
    "tokenizer = AutoTokenizer.from_pretrained(\"humarin/chatgpt_paraphraser_on_T5_base\")\n",
    "model = AutoModelForSeq2SeqLM.from_pretrained(\"humarin/chatgpt_paraphraser_on_T5_base\").to(device)"
   ]
  },
  {
   "cell_type": "code",
   "execution_count": 24,
   "id": "6862f032-0d15-491a-8847-81519a0c8e00",
   "metadata": {},
   "outputs": [],
   "source": [
    "def paraphrase(\n",
    "    question,\n",
    "    num_beams=5,\n",
    "    num_beam_groups=5,\n",
    "    num_return_sequences=5,\n",
    "    repetition_penalty=10.0,\n",
    "    diversity_penalty=3.0,\n",
    "    no_repeat_ngram_size=2,\n",
    "    temperature=0.7,\n",
    "    max_length=300\n",
    "):\n",
    "    input_ids = tokenizer(\n",
    "        f'paraphrase: {question}',\n",
    "        return_tensors=\"pt\", padding=\"longest\",\n",
    "        max_length=max_length,\n",
    "        truncation=True,\n",
    "    ).input_ids\n",
    "    \n",
    "    outputs = model.generate(\n",
    "        input_ids, temperature=temperature, repetition_penalty=repetition_penalty,\n",
    "        num_return_sequences=num_return_sequences, no_repeat_ngram_size=no_repeat_ngram_size,\n",
    "        num_beams=num_beams, num_beam_groups=num_beam_groups,\n",
    "        max_length=max_length, diversity_penalty=diversity_penalty\n",
    "    )\n",
    "\n",
    "    res = tokenizer.batch_decode(outputs, skip_special_tokens=True)\n",
    "\n",
    "    return res\n"
   ]
  },
  {
   "cell_type": "code",
   "execution_count": 25,
   "id": "fdacd2d5-e302-446f-abc3-9e5eb1f153fa",
   "metadata": {},
   "outputs": [
    {
     "data": {
      "text/plain": [
       "['What is the aggregate cost?',\n",
       " 'Can you tell me the overall cost of living?',\n",
       " 'How much does it cost in total?',\n",
       " 'What is the overall value of the goods or services sold?',\n",
       " 'How much is the total cost?']"
      ]
     },
     "execution_count": 25,
     "metadata": {},
     "output_type": "execute_result"
    }
   ],
   "source": [
    "text = 'What is the totalprice'\n",
    "paraphrase(text)"
   ]
  },
  {
   "cell_type": "code",
   "execution_count": 26,
   "id": "fab6fb09-cc63-4594-bf98-ef4c6d36de8e",
   "metadata": {},
   "outputs": [
    {
     "name": "stdout",
     "output_type": "stream",
     "text": [
      "****************************************************************************************************\n",
      "Input_phrase:  Update me the totalprice\n",
      "----------------------------------------------------------------------------------------------------\n",
      "[\"Can you tell me the amount of money I'll receive?\", 'What is the total value of all items in your possession?', 'How much is the total cost?', 'Could you inform me of the total cost?', 'What is the total value of all items in your possession? Request']\n",
      "****************************************************************************************************\n",
      "Input_phrase:  Get me lines per day for last 3 months\n",
      "----------------------------------------------------------------------------------------------------\n",
      "['Have you been receiving daily lines for the past three months?', 'Give me daily lines for the past three months.', 'I have received daily lines for the past three months.', 'Have you been receiving daily lines for the past three months? Request', 'Give me daily lines for the past three months.?']\n",
      "****************************************************************************************************\n",
      "Input_phrase:  Provide details on ytd spend by vendor top 5\n",
      "----------------------------------------------------------------------------------------------------\n",
      "[\"Identify the top 5 vendors' ytd spend and provide details.\", 'Detail the ytd spending patterns of the top 5 vendors.', 'Provide a breakdown of the ytd spend for the top 5 vendors.', 'Enumerate the ytd spend of the top 5 vendors in question.', 'What is the data on YTD spend for the top 5 vendors?']\n",
      "****************************************************************************************************\n",
      "Input_phrase:  Share information about ytd totalprice\n",
      "----------------------------------------------------------------------------------------------------\n",
      "['Inform the public about the ytd totalprice.', 'Provide details about the ytd totalprice.', 'Can you provide details on the ytd totalprice?', 'YTDA TOTAL PRICE INFORMATION: Please share the latest information.', \"Provide details about the ytd totalprice.'\"]\n",
      "****************************************************************************************************\n",
      "Input_phrase:  Brief me on on_hand_qty customer product number product description uom code date\n",
      "----------------------------------------------------------------------------------------------------\n",
      "['Please provide me with the on_hand_qty customer product number, description, and uom code date.', 'Can you provide me with the on_hand_qty customer product number, description, and uom code date?', 'Could you give me details about the on_hand_qty customer product number, description, and uom code date?', 'What is the on_hand_______ customer product number, description, and uom code date?', 'What is the on_hand_______ customer product number, description, and uom code date? Please provide me with the details.']\n",
      "****************************************************************************************************\n",
      "Input_phrase:  Get me ytd spend this calendar year\n",
      "----------------------------------------------------------------------------------------------------\n",
      "['Can you suggest where I can spend my time this year?', \"I'm looking to spend some money this year.\", 'Please allow me to spend some money during the current calendar year.', 'Provide me with the resources to utilize this year.', \"I'm looking to spend some money this year. Any suggestions?\"]\n"
     ]
    }
   ],
   "source": [
    "phrases = [\"totalprice\",\n",
    "           \"lines per day for last 3 months\",\n",
    "           \"ytd spend by vendor top 5\",\n",
    "           \"ytd totalprice\",\n",
    "           \"on_hand_qty customer product number product description uom code date\",\n",
    "           \"ytd spend this calendar year\"\n",
    "]\n",
    "q_langs = [\"can you give me\", \"can you get me\", \"give me\", \"Could you provide\", \"Get me\",\n",
    "           \"Give me that\", \"Provide details on\", \"Tell me about\", \"Share information about\", \"Update me the\",\n",
    "           \"Need info on\", \"Brief me on\", \"What is the\"]\n",
    "\n",
    "for phrase in phrases:\n",
    "    print(\"*\"*100)\n",
    "    contains_q_word = False\n",
    "    for q_word in q_langs:\n",
    "        if q_word in phrase:\n",
    "            contains_q_word = True\n",
    "            break\n",
    "    \n",
    "    if contains_q_word:\n",
    "        input_phrase = phrase\n",
    "    else:\n",
    "        # add a random question word to the phrase\n",
    "        q_word = np.random.choice(q_langs)\n",
    "        input_phrase = \" \".join([q_word, phrase])\n",
    "    \n",
    "    print(\"Input_phrase: \", input_phrase)\n",
    "    print(\"-\"*100)                                  \n",
    "    print(paraphrase(input_phrase))"
   ]
  },
  {
   "cell_type": "code",
   "execution_count": null,
   "id": "31702c0d-e7ae-4b9e-9d80-dc4b92f8a1a2",
   "metadata": {},
   "outputs": [],
   "source": []
  },
  {
   "cell_type": "code",
   "execution_count": null,
   "id": "20544461-9e29-4e31-9d84-a1b7d5e989f3",
   "metadata": {},
   "outputs": [],
   "source": []
  },
  {
   "cell_type": "code",
   "execution_count": null,
   "id": "1e97d73a-0aec-4534-983b-d981d2e7026d",
   "metadata": {},
   "outputs": [],
   "source": []
  },
  {
   "cell_type": "code",
   "execution_count": null,
   "id": "78e9e330-4b1a-4732-baec-bd927224ff33",
   "metadata": {},
   "outputs": [],
   "source": []
  },
  {
   "cell_type": "code",
   "execution_count": null,
   "id": "d5c7fc4c-6614-4c6c-9f71-79b7696745c7",
   "metadata": {},
   "outputs": [],
   "source": [
    "from transformers import AutoTokenizer, AutoModel\n",
    "import torch\n",
    "\n",
    "#Mean Pooling - Take attention mask into account for correct averaging\n",
    "def mean_pooling(model_output, attention_mask):\n",
    "    token_embeddings = model_output[0] #First element of model_output contains all token embeddings\n",
    "    input_mask_expanded = attention_mask.unsqueeze(-1).expand(token_embeddings.size()).float()\n",
    "    return torch.sum(token_embeddings * input_mask_expanded, 1) / torch.clamp(input_mask_expanded.sum(1), min=1e-9)\n",
    "\n",
    "# Load model from HuggingFace Hub\n",
    "tokenizer = AutoTokenizer.from_pretrained('sentence-transformers/paraphrase-MiniLM-L6-v2')\n",
    "model = AutoModel.from_pretrained('sentence-transformers/paraphrase-MiniLM-L6-v2')\n"
   ]
  },
  {
   "cell_type": "code",
   "execution_count": null,
   "id": "4d6544a2-da32-4b6d-9d81-09b82d95c56b",
   "metadata": {},
   "outputs": [],
   "source": [
    "sentences = ['What is the totalprice']\n",
    "\n",
    "# Tokenize sentences\n",
    "encoded_input = tokenizer(sentences, padding=True, truncation=True, return_tensors='pt')\n",
    "\n",
    "# Compute token embeddings\n",
    "with torch.no_grad():\n",
    "    model_output = model(**encoded_input)\n",
    "\n",
    "# Perform pooling. In this case, max pooling.\n",
    "sentence_embeddings = mean_pooling(model_output, encoded_input['attention_mask'])\n",
    "\n",
    "print(\"Sentence embeddings:\")\n",
    "print(sentence_embeddings)"
   ]
  },
  {
   "cell_type": "code",
   "execution_count": null,
   "id": "24a36ba9-768b-4774-a7ae-acf5749a0c82",
   "metadata": {},
   "outputs": [],
   "source": []
  },
  {
   "cell_type": "code",
   "execution_count": null,
   "id": "316f26c7-8b8d-4f78-bfcc-239e7af6b7fb",
   "metadata": {},
   "outputs": [],
   "source": []
  },
  {
   "cell_type": "code",
   "execution_count": null,
   "id": "213c6858-519e-467c-a100-abea5372a5ca",
   "metadata": {},
   "outputs": [],
   "source": []
  },
  {
   "cell_type": "code",
   "execution_count": null,
   "id": "b630d224-b541-4cef-8188-488ffca54e4a",
   "metadata": {},
   "outputs": [],
   "source": []
  },
  {
   "cell_type": "code",
   "execution_count": null,
   "id": "decc96eb-9a3d-4be9-aa82-cbbd25bc4f97",
   "metadata": {},
   "outputs": [],
   "source": []
  },
  {
   "cell_type": "code",
   "execution_count": null,
   "id": "3576a6b1-9d9a-4ecc-87f2-4d90254cfd79",
   "metadata": {},
   "outputs": [],
   "source": []
  },
  {
   "cell_type": "code",
   "execution_count": null,
   "id": "90a71250-049c-4401-bc39-11d6a1845cde",
   "metadata": {},
   "outputs": [],
   "source": []
  },
  {
   "cell_type": "code",
   "execution_count": null,
   "id": "d715e7b9-ca0b-4b90-8733-30e299785723",
   "metadata": {},
   "outputs": [],
   "source": []
  },
  {
   "cell_type": "code",
   "execution_count": null,
   "id": "880e2b71-dcc5-4c3a-9bf7-269f3cd9fd25",
   "metadata": {},
   "outputs": [],
   "source": []
  },
  {
   "cell_type": "code",
   "execution_count": null,
   "id": "7db3152d-4fba-4e9d-9207-6c8147b5eb01",
   "metadata": {},
   "outputs": [],
   "source": []
  },
  {
   "cell_type": "code",
   "execution_count": null,
   "id": "1b888ef5-2e9a-4e6c-b52e-9e855ba804c5",
   "metadata": {},
   "outputs": [],
   "source": []
  },
  {
   "cell_type": "code",
   "execution_count": null,
   "id": "8ad261d1-9d26-4e3a-829f-f67ed8b4bb39",
   "metadata": {},
   "outputs": [],
   "source": []
  },
  {
   "cell_type": "code",
   "execution_count": 37,
   "id": "412edf8f-2413-469a-bce3-9d47e5e696e4",
   "metadata": {},
   "outputs": [],
   "source": [
    "def longest_substring(s):\n",
    "    if not s:\n",
    "        return 0\n",
    "    start = maxLength = 0\n",
    "    usedChars = {}\n",
    "    for i in range(len(s)):\n",
    "        if s[i] in usedChars and start <= usedChars[s[i]]:\n",
    "            start = usedChars[s[i]] + 1\n",
    "        else:\n",
    "            maxLength = max(maxLength, i - start + 1)\n",
    "        usedChars[s[i]] = i\n",
    "    return maxLength\n"
   ]
  },
  {
   "cell_type": "code",
   "execution_count": 40,
   "id": "369cac21-cf07-441d-a7c6-9b08bd0d45d1",
   "metadata": {},
   "outputs": [
    {
     "name": "stdout",
     "output_type": "stream",
     "text": [
      "5\n"
     ]
    }
   ],
   "source": [
    "s = \"pwwekdfff\"\n",
    "print(longest_substring(s))  # Output: 3\n"
   ]
  },
  {
   "cell_type": "code",
   "execution_count": 40,
   "id": "c9f65e6c-e736-4b45-a737-ea080ee8c2b9",
   "metadata": {},
   "outputs": [
    {
     "name": "stdout",
     "output_type": "stream",
     "text": [
      "----------------------------------------------------------------------------------------------------\n",
      "Input_phrase:  can you get me totalprice\n",
      "----------------------------------------------------------------------------------------------------\n",
      "Input_phrase:  Provide details on lines per day for last 3 months\n",
      "----------------------------------------------------------------------------------------------------\n",
      "Input_phrase:  Update me the ytd spend by vendor top 5\n",
      "----------------------------------------------------------------------------------------------------\n",
      "Input_phrase:  can you give me brief me ytd totalprice\n",
      "----------------------------------------------------------------------------------------------------\n",
      "Input_phrase:  Could you provide me on_hand_qty customer product number product description uom code date\n",
      "----------------------------------------------------------------------------------------------------\n",
      "Input_phrase:  Brief me on ytd spend this calendar year\n"
     ]
    }
   ],
   "source": [
    "import numpy as np \n",
    "\n",
    "q_langs = [\"can you give me\", \"can you get me\", \"give me\", \"Could you provide\", \"Get me\",           \"Give me that\", \"Provide details on\", \"Tell me about\", \"Share the data\", \"Update me the\",           \"Need info on\", \"Brief me on\", \"What is the\"]\n",
    "\n",
    "phrases = [\"totalprice\",           \"lines per day for last 3 months\",           \"ytd spend by vendor top 5\",           \"brief me ytd totalprice\",           \"Could you provide me on_hand_qty customer product number product description uom code date\",           \"ytd spend this calendar year\"]\n",
    "\n",
    "for phrase in phrases:\n",
    "    print(\"-\" * 100)\n",
    "    if any(q_word.lower() in phrase.lower() for q_word in q_langs):\n",
    "        full_phrase = phrase\n",
    "    else:\n",
    "        add_str = np.random.choice(q_langs)\n",
    "        full_phrase = \" \".join([add_str, phrase])\n",
    "    print(\"Input_phrase: \", full_phrase)\n"
   ]
  },
  {
   "cell_type": "code",
   "execution_count": 46,
   "id": "df604188-1ca0-40d3-8167-be557aecba5a",
   "metadata": {},
   "outputs": [
    {
     "name": "stdout",
     "output_type": "stream",
     "text": [
      "----------------------------------------------------------------------------------------------------\n",
      "Input_phrase:  What is the totalprice\n",
      "----------------------------------------------------------------------------------------------------\n",
      "Input_phrase:  Give me that lines per day for last 3 months\n",
      "----------------------------------------------------------------------------------------------------\n",
      "Input_phrase:  Update me the ytd spend by vendor top 5\n",
      "----------------------------------------------------------------------------------------------------\n",
      "Input_phrase:  Share the data brief me ytd totalprice\n",
      "----------------------------------------------------------------------------------------------------\n",
      "Input_phrase:  can you give me Could you provide me on_hand_qty customer product number product description uom code date\n",
      "----------------------------------------------------------------------------------------------------\n",
      "Input_phrase:  can you give me ytd spend this calendar year\n"
     ]
    }
   ],
   "source": [
    "import numpy as np \n",
    "\n",
    "q_langs = [\"can you give me\", \"can you get me\", \"give me\", \"Could you provide\", \"Get me\",           \"Give me that\", \"Provide details on\", \"Tell me about\", \"Share the data\", \"Update me the\",           \"Need info on\", \"Brief me on\", \"What is the\"]\n",
    "\n",
    "phrases = [\"totalprice\",           \"lines per day for last 3 months\",           \"ytd spend by vendor top 5\",           \"brief me ytd totalprice\",           \"Could you provide me on_hand_qty customer product number product description uom code date\",           \"ytd spend this calendar year\"]\n",
    "\n",
    "for phrase in phrases:\n",
    "    print(\"-\" * 100)\n",
    "    add_str = np.random.choice([q for q in q_langs if not phrase.lower().startswith(q.lower())])\n",
    "    full_phrase = f\"{add_str} {phrase}\"\n",
    "    print(\"Input_phrase: \", full_phrase)\n"
   ]
  },
  {
   "cell_type": "code",
   "execution_count": null,
   "id": "867c170a-f2a3-4eca-aead-388de789783e",
   "metadata": {},
   "outputs": [],
   "source": []
  },
  {
   "cell_type": "code",
   "execution_count": null,
   "id": "c0b0d18b-18b5-4a58-ba29-0b240d18b961",
   "metadata": {},
   "outputs": [],
   "source": []
  },
  {
   "cell_type": "code",
   "execution_count": null,
   "id": "8d4674c7-766a-4fe4-a49a-904ad1015275",
   "metadata": {},
   "outputs": [],
   "source": []
  }
 ],
 "metadata": {
  "kernelspec": {
   "display_name": "Python 3 (ipykernel)",
   "language": "python",
   "name": "python3"
  },
  "language_info": {
   "codemirror_mode": {
    "name": "ipython",
    "version": 3
   },
   "file_extension": ".py",
   "mimetype": "text/x-python",
   "name": "python",
   "nbconvert_exporter": "python",
   "pygments_lexer": "ipython3",
   "version": "3.9.12"
  }
 },
 "nbformat": 4,
 "nbformat_minor": 5
}
