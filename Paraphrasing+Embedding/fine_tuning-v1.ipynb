{
 "cells": [
  {
   "cell_type": "code",
   "execution_count": 1,
   "id": "cf836720-053e-4247-8386-2c933e9af3e5",
   "metadata": {},
   "outputs": [],
   "source": [
    "# !pip install openai"
   ]
  },
  {
   "cell_type": "code",
   "execution_count": 1,
   "id": "441b19c8-77ca-4cd5-abfd-c8fd78ca893c",
   "metadata": {},
   "outputs": [],
   "source": [
    "import pandas as pd\n",
    "import json\n",
    "import openai\n",
    "import numpy as np\n",
    "import re"
   ]
  },
  {
   "cell_type": "code",
   "execution_count": 2,
   "id": "4c2d0973-2927-4e36-9acb-cbf9cf8c4f2f",
   "metadata": {},
   "outputs": [],
   "source": [
    "import warnings\n",
    "warnings.filterwarnings(\"ignore\")"
   ]
  },
  {
   "cell_type": "code",
   "execution_count": 3,
   "id": "49cf6a5a-d658-4c56-bdfe-2a55228c5e2d",
   "metadata": {},
   "outputs": [],
   "source": [
    "pd.set_option('max_colwidth', None)\n",
    "pd.set_option('display.max_columns', None)"
   ]
  },
  {
   "cell_type": "code",
   "execution_count": 4,
   "id": "02ea5626-d9a6-4a36-a7f8-cd37956f61cc",
   "metadata": {},
   "outputs": [],
   "source": [
    "chat = pd.read_parquet('chat_history.parquet')"
   ]
  },
  {
   "cell_type": "code",
   "execution_count": 5,
   "id": "ad64c350-7c33-42bd-8286-f75184d91e82",
   "metadata": {},
   "outputs": [],
   "source": [
    "#pd.read_parquet('embedding.parquet')"
   ]
  },
  {
   "cell_type": "code",
   "execution_count": 6,
   "id": "0494f1b9-891e-417c-afc1-707a8d3572b4",
   "metadata": {},
   "outputs": [
    {
     "data": {
      "text/html": [
       "<div>\n",
       "<style scoped>\n",
       "    .dataframe tbody tr th:only-of-type {\n",
       "        vertical-align: middle;\n",
       "    }\n",
       "\n",
       "    .dataframe tbody tr th {\n",
       "        vertical-align: top;\n",
       "    }\n",
       "\n",
       "    .dataframe thead th {\n",
       "        text-align: right;\n",
       "    }\n",
       "</style>\n",
       "<table border=\"1\" class=\"dataframe\">\n",
       "  <thead>\n",
       "    <tr style=\"text-align: right;\">\n",
       "      <th></th>\n",
       "      <th>processedUtterance</th>\n",
       "      <th>utterance</th>\n",
       "      <th>semantics</th>\n",
       "      <th>sqlForm</th>\n",
       "      <th>status</th>\n",
       "      <th>dataset</th>\n",
       "      <th>tags</th>\n",
       "      <th>createdAt</th>\n",
       "      <th>length</th>\n",
       "    </tr>\n",
       "  </thead>\n",
       "  <tbody>\n",
       "    <tr>\n",
       "      <th>0</th>\n",
       "      <td>Customer_Monthly_Smart_View.totalprice</td>\n",
       "      <td>\"totalprice\"</td>\n",
       "      <td>{'domain': 'Metric', 'filter': [], 'columns': ['Customer_Monthly_Smart_View.totalprice'], 'type': None, 'select': [('sum', 'currency/metrics/Customer_Monthly_Smart_View.totalprice')]}</td>\n",
       "      <td>SELECT round(sum(coalesce(subquery.\"label_Customer_Monthly_Smart_View.totalprice\", 0)), 2) AS \"label_Customer_Monthly_Smart_View.totalprice\" \\nFROM (SELECT round(sum(coalesce(@Customer_Monthly_Smart_View.totalprice, 0)), 2) AS \"label_Customer_Monthly_Smart_View.totalprice\" \\nFROM (#)Customer_Monthly_Smart_View) AS subquery</td>\n",
       "      <td>success</td>\n",
       "      <td>3740fcb3-de4f-42cd-a14d-caba82b1cbcc</td>\n",
       "      <td>[[\"$Metrics\", [\"\\\"totalprice\\\"\"]]]</td>\n",
       "      <td>1675057540502</td>\n",
       "      <td>1</td>\n",
       "    </tr>\n",
       "  </tbody>\n",
       "</table>\n",
       "</div>"
      ],
      "text/plain": [
       "                       processedUtterance     utterance  \\\n",
       "0  Customer_Monthly_Smart_View.totalprice  \"totalprice\"   \n",
       "\n",
       "                                                                                                                                                                                 semantics  \\\n",
       "0  {'domain': 'Metric', 'filter': [], 'columns': ['Customer_Monthly_Smart_View.totalprice'], 'type': None, 'select': [('sum', 'currency/metrics/Customer_Monthly_Smart_View.totalprice')]}   \n",
       "\n",
       "                                                                                                                                                                                                                                                                                                                                sqlForm  \\\n",
       "0  SELECT round(sum(coalesce(subquery.\"label_Customer_Monthly_Smart_View.totalprice\", 0)), 2) AS \"label_Customer_Monthly_Smart_View.totalprice\" \\nFROM (SELECT round(sum(coalesce(@Customer_Monthly_Smart_View.totalprice, 0)), 2) AS \"label_Customer_Monthly_Smart_View.totalprice\" \\nFROM (#)Customer_Monthly_Smart_View) AS subquery   \n",
       "\n",
       "    status                               dataset  \\\n",
       "0  success  3740fcb3-de4f-42cd-a14d-caba82b1cbcc   \n",
       "\n",
       "                                 tags      createdAt  length  \n",
       "0  [[\"$Metrics\", [\"\\\"totalprice\\\"\"]]]  1675057540502       1  "
      ]
     },
     "execution_count": 6,
     "metadata": {},
     "output_type": "execute_result"
    }
   ],
   "source": [
    "chat.head(1)"
   ]
  },
  {
   "cell_type": "code",
   "execution_count": 7,
   "id": "aae3f7db-228b-4087-9359-b4c90939c0d0",
   "metadata": {},
   "outputs": [],
   "source": [
    "chat = chat[['utterance','tags']]"
   ]
  },
  {
   "cell_type": "code",
   "execution_count": 8,
   "id": "1e16a265-73c3-434d-ba3c-b7d66bea0b15",
   "metadata": {},
   "outputs": [
    {
     "data": {
      "text/html": [
       "<div>\n",
       "<style scoped>\n",
       "    .dataframe tbody tr th:only-of-type {\n",
       "        vertical-align: middle;\n",
       "    }\n",
       "\n",
       "    .dataframe tbody tr th {\n",
       "        vertical-align: top;\n",
       "    }\n",
       "\n",
       "    .dataframe thead th {\n",
       "        text-align: right;\n",
       "    }\n",
       "</style>\n",
       "<table border=\"1\" class=\"dataframe\">\n",
       "  <thead>\n",
       "    <tr style=\"text-align: right;\">\n",
       "      <th></th>\n",
       "      <th>utterance</th>\n",
       "      <th>tags</th>\n",
       "    </tr>\n",
       "  </thead>\n",
       "  <tbody>\n",
       "    <tr>\n",
       "      <th>0</th>\n",
       "      <td>\"totalprice\"</td>\n",
       "      <td>[[\"$Metrics\", [\"\\\"totalprice\\\"\"]]]</td>\n",
       "    </tr>\n",
       "    <tr>\n",
       "      <th>1</th>\n",
       "      <td>+ve revenue</td>\n",
       "      <td>[[\"$UOps\", [\"+ve\"]], [\"$Metrics\", [\"revenue\"]]]</td>\n",
       "    </tr>\n",
       "    <tr>\n",
       "      <th>2</th>\n",
       "      <td>, on_hand_qty, customer, product number, product description, uom code, date</td>\n",
       "      <td>[[\"$Metrics\", [\"on_hand_qty\"]], [\"$Dimensions\", [\"customer\"]], [\"$Dimensions\", [\"product number\"]], [\"$Dimensions\", [\"product description\"]], [\"$Dimensions\", [\"uom code\"]], [\"$Datum\", [\"date\"]]]</td>\n",
       "    </tr>\n",
       "    <tr>\n",
       "      <th>3</th>\n",
       "      <td>-ve revenue</td>\n",
       "      <td>[[\"$UOps\", [\"-ve\"]], [\"$Metrics\", [\"revenue\"]]]</td>\n",
       "    </tr>\n",
       "    <tr>\n",
       "      <th>4</th>\n",
       "      <td>1)\\tlines per day for last 3 months</td>\n",
       "      <td>[[\"$MultiTableDate\", [\"1)\"]], [\"$Dimensions\", [\"lines\"]], [\"$Per\", [\"per\"]], [\"$TrendPeriod\", [\"day\"]], [\"$Filter\", [\"for\"]], [\"$Period\", [\"last\", \"3\", \"months\"]]]</td>\n",
       "    </tr>\n",
       "    <tr>\n",
       "      <th>...</th>\n",
       "      <td>...</td>\n",
       "      <td>...</td>\n",
       "    </tr>\n",
       "    <tr>\n",
       "      <th>3868</th>\n",
       "      <td>ytd spend by vendor top 5</td>\n",
       "      <td>[[\"$Period\", [\"ytd\"]], [\"$Metrics\", [\"spend\"]], [\"$GroupBy\", [\"by\"]], [\"$Dimensions\", [\"vendor\"]], [\"$Super\", [\"top\"]], [\"$Number\", [\"5\"]]]</td>\n",
       "    </tr>\n",
       "    <tr>\n",
       "      <th>3869</th>\n",
       "      <td>ytd spend by week</td>\n",
       "      <td>[[\"$Period\", [\"ytd\"]], [\"$Metrics\", [\"spend\"]], [\"$GroupBy\", [\"by\"]], [\"$TrendPeriod\", [\"week\"]]]</td>\n",
       "    </tr>\n",
       "    <tr>\n",
       "      <th>3870</th>\n",
       "      <td>ytd spend this calendar year</td>\n",
       "      <td>[[\"$Period\", [\"ytd\"]], [\"$Metrics\", [\"spend\"]], [\"$Period\", [\"this\", \"calendar year\"]]]</td>\n",
       "    </tr>\n",
       "    <tr>\n",
       "      <th>3871</th>\n",
       "      <td>ytd spend top 5 vendors</td>\n",
       "      <td>[[\"$Period\", [\"ytd\"]], [\"$Metrics\", [\"spend\"]], [\"$Super\", [\"top\"]], [\"$Number\", [\"5\"]], [\"$Dimensions\", [\"vendors\"]]]</td>\n",
       "    </tr>\n",
       "    <tr>\n",
       "      <th>3872</th>\n",
       "      <td>ytd totalprice</td>\n",
       "      <td>[[\"$Period\", [\"ytd\"]], [\"$Metrics\", [\"totalprice\"]]]</td>\n",
       "    </tr>\n",
       "  </tbody>\n",
       "</table>\n",
       "<p>3873 rows × 2 columns</p>\n",
       "</div>"
      ],
      "text/plain": [
       "                                                                         utterance  \\\n",
       "0                                                                     \"totalprice\"   \n",
       "1                                                                      +ve revenue   \n",
       "2     , on_hand_qty, customer, product number, product description, uom code, date   \n",
       "3                                                                      -ve revenue   \n",
       "4                                              1)\\tlines per day for last 3 months   \n",
       "...                                                                            ...   \n",
       "3868                                                     ytd spend by vendor top 5   \n",
       "3869                                                             ytd spend by week   \n",
       "3870                                                  ytd spend this calendar year   \n",
       "3871                                                       ytd spend top 5 vendors   \n",
       "3872                                                                ytd totalprice   \n",
       "\n",
       "                                                                                                                                                                                                    tags  \n",
       "0                                                                                                                                                                     [[\"$Metrics\", [\"\\\"totalprice\\\"\"]]]  \n",
       "1                                                                                                                                                        [[\"$UOps\", [\"+ve\"]], [\"$Metrics\", [\"revenue\"]]]  \n",
       "2     [[\"$Metrics\", [\"on_hand_qty\"]], [\"$Dimensions\", [\"customer\"]], [\"$Dimensions\", [\"product number\"]], [\"$Dimensions\", [\"product description\"]], [\"$Dimensions\", [\"uom code\"]], [\"$Datum\", [\"date\"]]]  \n",
       "3                                                                                                                                                        [[\"$UOps\", [\"-ve\"]], [\"$Metrics\", [\"revenue\"]]]  \n",
       "4                                    [[\"$MultiTableDate\", [\"1)\"]], [\"$Dimensions\", [\"lines\"]], [\"$Per\", [\"per\"]], [\"$TrendPeriod\", [\"day\"]], [\"$Filter\", [\"for\"]], [\"$Period\", [\"last\", \"3\", \"months\"]]]  \n",
       "...                                                                                                                                                                                                  ...  \n",
       "3868                                                         [[\"$Period\", [\"ytd\"]], [\"$Metrics\", [\"spend\"]], [\"$GroupBy\", [\"by\"]], [\"$Dimensions\", [\"vendor\"]], [\"$Super\", [\"top\"]], [\"$Number\", [\"5\"]]]  \n",
       "3869                                                                                                   [[\"$Period\", [\"ytd\"]], [\"$Metrics\", [\"spend\"]], [\"$GroupBy\", [\"by\"]], [\"$TrendPeriod\", [\"week\"]]]  \n",
       "3870                                                                                                             [[\"$Period\", [\"ytd\"]], [\"$Metrics\", [\"spend\"]], [\"$Period\", [\"this\", \"calendar year\"]]]  \n",
       "3871                                                                              [[\"$Period\", [\"ytd\"]], [\"$Metrics\", [\"spend\"]], [\"$Super\", [\"top\"]], [\"$Number\", [\"5\"]], [\"$Dimensions\", [\"vendors\"]]]  \n",
       "3872                                                                                                                                                [[\"$Period\", [\"ytd\"]], [\"$Metrics\", [\"totalprice\"]]]  \n",
       "\n",
       "[3873 rows x 2 columns]"
      ]
     },
     "execution_count": 8,
     "metadata": {},
     "output_type": "execute_result"
    }
   ],
   "source": [
    "chat"
   ]
  },
  {
   "cell_type": "code",
   "execution_count": 9,
   "id": "932f4c91-1a73-4472-9430-d6c32b929604",
   "metadata": {},
   "outputs": [],
   "source": [
    "#chat['utterance'] = chat['utterance'].str.replace(r'\\d+\\)', '', regex=True).str.replace('\\t|\\\\\\\\', '', regex=True)\n",
    "chat['utterance'] = chat['utterance'].replace(', ', ' ', regex=True).replace('\"', '', regex=True).replace('\\t|\\\\\\\\', '', regex=True)\n",
    "chat['utterance'] = chat['utterance'].str.strip()"
   ]
  },
  {
   "cell_type": "code",
   "execution_count": 10,
   "id": "8afd5540-a93f-45f2-82ec-2efc6b295bab",
   "metadata": {},
   "outputs": [],
   "source": [
    "chat['tags'] = chat['tags'].str.replace('\" ', '\"')\n",
    "chat['tags'] = chat['tags'].str.strip()"
   ]
  },
  {
   "cell_type": "code",
   "execution_count": 11,
   "id": "7a3ac95e-55d4-4de6-9b8a-315ceb7a5a3c",
   "metadata": {},
   "outputs": [
    {
     "data": {
      "text/html": [
       "<div>\n",
       "<style scoped>\n",
       "    .dataframe tbody tr th:only-of-type {\n",
       "        vertical-align: middle;\n",
       "    }\n",
       "\n",
       "    .dataframe tbody tr th {\n",
       "        vertical-align: top;\n",
       "    }\n",
       "\n",
       "    .dataframe thead th {\n",
       "        text-align: right;\n",
       "    }\n",
       "</style>\n",
       "<table border=\"1\" class=\"dataframe\">\n",
       "  <thead>\n",
       "    <tr style=\"text-align: right;\">\n",
       "      <th></th>\n",
       "      <th>utterance</th>\n",
       "      <th>tags</th>\n",
       "    </tr>\n",
       "  </thead>\n",
       "  <tbody>\n",
       "    <tr>\n",
       "      <th>0</th>\n",
       "      <td>totalprice</td>\n",
       "      <td>[[\"$Metrics\", [\"\\\"totalprice\\\"\"]]]</td>\n",
       "    </tr>\n",
       "    <tr>\n",
       "      <th>1</th>\n",
       "      <td>+ve revenue</td>\n",
       "      <td>[[\"$UOps\", [\"+ve\"]], [\"$Metrics\", [\"revenue\"]]]</td>\n",
       "    </tr>\n",
       "    <tr>\n",
       "      <th>2</th>\n",
       "      <td>on_hand_qty customer product number product description uom code date</td>\n",
       "      <td>[[\"$Metrics\", [\"on_hand_qty\"]], [\"$Dimensions\", [\"customer\"]], [\"$Dimensions\", [\"product number\"]], [\"$Dimensions\", [\"product description\"]], [\"$Dimensions\", [\"uom code\"]], [\"$Datum\", [\"date\"]]]</td>\n",
       "    </tr>\n",
       "    <tr>\n",
       "      <th>3</th>\n",
       "      <td>-ve revenue</td>\n",
       "      <td>[[\"$UOps\", [\"-ve\"]], [\"$Metrics\", [\"revenue\"]]]</td>\n",
       "    </tr>\n",
       "    <tr>\n",
       "      <th>4</th>\n",
       "      <td>1)lines per day for last 3 months</td>\n",
       "      <td>[[\"$MultiTableDate\", [\"1)\"]], [\"$Dimensions\", [\"lines\"]], [\"$Per\", [\"per\"]], [\"$TrendPeriod\", [\"day\"]], [\"$Filter\", [\"for\"]], [\"$Period\", [\"last\", \"3\", \"months\"]]]</td>\n",
       "    </tr>\n",
       "    <tr>\n",
       "      <th>...</th>\n",
       "      <td>...</td>\n",
       "      <td>...</td>\n",
       "    </tr>\n",
       "    <tr>\n",
       "      <th>3868</th>\n",
       "      <td>ytd spend by vendor top 5</td>\n",
       "      <td>[[\"$Period\", [\"ytd\"]], [\"$Metrics\", [\"spend\"]], [\"$GroupBy\", [\"by\"]], [\"$Dimensions\", [\"vendor\"]], [\"$Super\", [\"top\"]], [\"$Number\", [\"5\"]]]</td>\n",
       "    </tr>\n",
       "    <tr>\n",
       "      <th>3869</th>\n",
       "      <td>ytd spend by week</td>\n",
       "      <td>[[\"$Period\", [\"ytd\"]], [\"$Metrics\", [\"spend\"]], [\"$GroupBy\", [\"by\"]], [\"$TrendPeriod\", [\"week\"]]]</td>\n",
       "    </tr>\n",
       "    <tr>\n",
       "      <th>3870</th>\n",
       "      <td>ytd spend this calendar year</td>\n",
       "      <td>[[\"$Period\", [\"ytd\"]], [\"$Metrics\", [\"spend\"]], [\"$Period\", [\"this\", \"calendar year\"]]]</td>\n",
       "    </tr>\n",
       "    <tr>\n",
       "      <th>3871</th>\n",
       "      <td>ytd spend top 5 vendors</td>\n",
       "      <td>[[\"$Period\", [\"ytd\"]], [\"$Metrics\", [\"spend\"]], [\"$Super\", [\"top\"]], [\"$Number\", [\"5\"]], [\"$Dimensions\", [\"vendors\"]]]</td>\n",
       "    </tr>\n",
       "    <tr>\n",
       "      <th>3872</th>\n",
       "      <td>ytd totalprice</td>\n",
       "      <td>[[\"$Period\", [\"ytd\"]], [\"$Metrics\", [\"totalprice\"]]]</td>\n",
       "    </tr>\n",
       "  </tbody>\n",
       "</table>\n",
       "<p>3873 rows × 2 columns</p>\n",
       "</div>"
      ],
      "text/plain": [
       "                                                                  utterance  \\\n",
       "0                                                                totalprice   \n",
       "1                                                               +ve revenue   \n",
       "2     on_hand_qty customer product number product description uom code date   \n",
       "3                                                               -ve revenue   \n",
       "4                                         1)lines per day for last 3 months   \n",
       "...                                                                     ...   \n",
       "3868                                              ytd spend by vendor top 5   \n",
       "3869                                                      ytd spend by week   \n",
       "3870                                           ytd spend this calendar year   \n",
       "3871                                                ytd spend top 5 vendors   \n",
       "3872                                                         ytd totalprice   \n",
       "\n",
       "                                                                                                                                                                                                    tags  \n",
       "0                                                                                                                                                                     [[\"$Metrics\", [\"\\\"totalprice\\\"\"]]]  \n",
       "1                                                                                                                                                        [[\"$UOps\", [\"+ve\"]], [\"$Metrics\", [\"revenue\"]]]  \n",
       "2     [[\"$Metrics\", [\"on_hand_qty\"]], [\"$Dimensions\", [\"customer\"]], [\"$Dimensions\", [\"product number\"]], [\"$Dimensions\", [\"product description\"]], [\"$Dimensions\", [\"uom code\"]], [\"$Datum\", [\"date\"]]]  \n",
       "3                                                                                                                                                        [[\"$UOps\", [\"-ve\"]], [\"$Metrics\", [\"revenue\"]]]  \n",
       "4                                    [[\"$MultiTableDate\", [\"1)\"]], [\"$Dimensions\", [\"lines\"]], [\"$Per\", [\"per\"]], [\"$TrendPeriod\", [\"day\"]], [\"$Filter\", [\"for\"]], [\"$Period\", [\"last\", \"3\", \"months\"]]]  \n",
       "...                                                                                                                                                                                                  ...  \n",
       "3868                                                         [[\"$Period\", [\"ytd\"]], [\"$Metrics\", [\"spend\"]], [\"$GroupBy\", [\"by\"]], [\"$Dimensions\", [\"vendor\"]], [\"$Super\", [\"top\"]], [\"$Number\", [\"5\"]]]  \n",
       "3869                                                                                                   [[\"$Period\", [\"ytd\"]], [\"$Metrics\", [\"spend\"]], [\"$GroupBy\", [\"by\"]], [\"$TrendPeriod\", [\"week\"]]]  \n",
       "3870                                                                                                             [[\"$Period\", [\"ytd\"]], [\"$Metrics\", [\"spend\"]], [\"$Period\", [\"this\", \"calendar year\"]]]  \n",
       "3871                                                                              [[\"$Period\", [\"ytd\"]], [\"$Metrics\", [\"spend\"]], [\"$Super\", [\"top\"]], [\"$Number\", [\"5\"]], [\"$Dimensions\", [\"vendors\"]]]  \n",
       "3872                                                                                                                                                [[\"$Period\", [\"ytd\"]], [\"$Metrics\", [\"totalprice\"]]]  \n",
       "\n",
       "[3873 rows x 2 columns]"
      ]
     },
     "execution_count": 11,
     "metadata": {},
     "output_type": "execute_result"
    }
   ],
   "source": [
    "chat"
   ]
  },
  {
   "cell_type": "code",
   "execution_count": null,
   "id": "d5226f93-1d7a-4651-b5e7-ff65cc41df03",
   "metadata": {},
   "outputs": [],
   "source": []
  },
  {
   "cell_type": "markdown",
   "id": "aee7dcf5-2814-4377-ada7-9da6a5873c37",
   "metadata": {},
   "source": [
    "#### creating prompt & completion"
   ]
  },
  {
   "cell_type": "code",
   "execution_count": null,
   "id": "349edc34-0e55-453c-81bd-00d6cb47a612",
   "metadata": {},
   "outputs": [],
   "source": [
    "z"
   ]
  },
  {
   "cell_type": "code",
   "execution_count": null,
   "id": "3666a399-b619-4d71-b307-93fa23943a08",
   "metadata": {},
   "outputs": [],
   "source": [
    "a = []\n",
    "for col in final_df.columns:\n",
    "    a.append(f'\"{col}\": \"{{ques[\"{col}\"]}}\" ')\n",
    "a = a[:-1]"
   ]
  },
  {
   "cell_type": "code",
   "execution_count": null,
   "id": "32e476f1-ccdb-4b12-951e-fb5ec2ced355",
   "metadata": {},
   "outputs": [],
   "source": [
    "print(', '.join(a))"
   ]
  },
  {
   "cell_type": "code",
   "execution_count": 78,
   "id": "b7b19d99-6f1b-4595-9f5a-9efe0c8e3f99",
   "metadata": {},
   "outputs": [],
   "source": [
    "# Create prompt and completion pairs\n",
    "pairs = []\n",
    "for index, ques in chat.iterrows():\n",
    "    prompt = f\"Question: {ques['utterance']}\"\n",
    "    completion = f\"Tags: {ques['tags']}\"\n",
    "    pairs.append({\"prompt\":prompt, \"completion\":completion})\n"
   ]
  },
  {
   "cell_type": "code",
   "execution_count": 80,
   "id": "04ed62e9-bb0b-43a1-87de-b78dfde20479",
   "metadata": {},
   "outputs": [],
   "source": [
    "# Export to JSON file\n",
    "with open('pc_pairs.json', 'w') as jf:\n",
    "    json.dump(pairs, jf, indent=1)"
   ]
  },
  {
   "cell_type": "code",
   "execution_count": 81,
   "id": "a46e89a6-c847-4db2-bb7f-4dd84efc1475",
   "metadata": {},
   "outputs": [],
   "source": [
    "with open('pc_pairs.jsonl', 'w') as f:\n",
    "    for pair in pairs:\n",
    "        f.write(json.dumps(pair) + '\\n')"
   ]
  },
  {
   "cell_type": "code",
   "execution_count": null,
   "id": "48354644-53c6-4630-a09a-cd2e291382c1",
   "metadata": {},
   "outputs": [],
   "source": []
  },
  {
   "cell_type": "code",
   "execution_count": null,
   "id": "1d29e8c1-f099-41fd-b8ca-5aefb9dba98e",
   "metadata": {},
   "outputs": [],
   "source": []
  },
  {
   "cell_type": "code",
   "execution_count": null,
   "id": "3bdaf091-9664-40f8-932e-a91adfb9b8c6",
   "metadata": {},
   "outputs": [],
   "source": []
  },
  {
   "cell_type": "code",
   "execution_count": null,
   "id": "1ef31b27-c9df-4b6a-9a99-ca01aac2bf1e",
   "metadata": {},
   "outputs": [],
   "source": []
  },
  {
   "cell_type": "markdown",
   "id": "36da1e42-733f-4ab9-80d9-80b73cb353b0",
   "metadata": {},
   "source": [
    "#### fitting model"
   ]
  },
  {
   "cell_type": "code",
   "execution_count": null,
   "id": "510f8c36-bbea-4c6e-b0f1-8a4e1862fcdf",
   "metadata": {},
   "outputs": [],
   "source": [
    "z"
   ]
  },
  {
   "cell_type": "code",
   "execution_count": null,
   "id": "ded3c8b6-f31c-4350-ba85-ac76f20afdd1",
   "metadata": {},
   "outputs": [],
   "source": []
  },
  {
   "cell_type": "code",
   "execution_count": null,
   "id": "5f5cf2b3-7f42-4ccf-90cd-a3a8b7737290",
   "metadata": {},
   "outputs": [],
   "source": [
    "# api_key =\"Your-openai-key\"\n",
    "# openai.api_key = api_key"
   ]
  },
  {
   "cell_type": "code",
   "execution_count": null,
   "id": "d6793972-2665-4129-b9ee-98db9567f9b2",
   "metadata": {},
   "outputs": [],
   "source": [
    "!openai tools fine_tunes.prepare_data -f 'pc_pairs.jsonl'"
   ]
  },
  {
   "cell_type": "code",
   "execution_count": null,
   "id": "3e91afde-c225-4819-afee-8f859661e3a7",
   "metadata": {},
   "outputs": [],
   "source": [
    "upload_response = openai.File.create(\n",
    "  file=open('pc_pairs.jsonl', \"rb\"),\n",
    "  purpose='fine-tune'\n",
    ")\n",
    "\n",
    "upload_response"
   ]
  },
  {
   "cell_type": "code",
   "execution_count": null,
   "id": "d1042cfc-2775-45ab-8a30-3c24293b8bac",
   "metadata": {},
   "outputs": [],
   "source": [
    "file_id = upload_response.id"
   ]
  },
  {
   "cell_type": "code",
   "execution_count": null,
   "id": "70e33bb8-8d53-41c9-af46-0a5281ec631c",
   "metadata": {},
   "outputs": [],
   "source": [
    "fine_tune_response = openai.FineTune.create(training_file=file_id, model=\"curie\")\n",
    "fine_tune_response"
   ]
  },
  {
   "cell_type": "code",
   "execution_count": null,
   "id": "5e67eb97-cd8c-4406-a2f7-0de4a17da982",
   "metadata": {},
   "outputs": [],
   "source": [
    "fine_tuned_model = fine_tune_response.fine_tuned_model\n",
    "fine_tuned_model"
   ]
  },
  {
   "cell_type": "code",
   "execution_count": null,
   "id": "b28eac08-ee7d-4a4d-a7f8-42b8e5279c8e",
   "metadata": {},
   "outputs": [],
   "source": [
    "new_prompt = \"\"\n",
    "answer = openai.Completion.create(\n",
    "  model=fine_tuned_model,\n",
    "  prompt=new_prompt,\n",
    "  max_tokens=100,\n",
    "  temperature=0\n",
    ")\n",
    "answer['choices'][0]['text']"
   ]
  },
  {
   "cell_type": "code",
   "execution_count": null,
   "id": "c2ef8cfb-5a91-4d8f-89d1-a5823b0b074f",
   "metadata": {},
   "outputs": [],
   "source": []
  },
  {
   "cell_type": "code",
   "execution_count": null,
   "id": "cf1f4094-0edc-4f37-a196-701b0320d20c",
   "metadata": {},
   "outputs": [],
   "source": []
  },
  {
   "cell_type": "code",
   "execution_count": null,
   "id": "d6d0f94c-81c2-4eeb-bbae-6e294a736c6e",
   "metadata": {},
   "outputs": [],
   "source": []
  },
  {
   "cell_type": "code",
   "execution_count": null,
   "id": "c8e9771b-2ede-467e-8b00-fa58d8bbbb7e",
   "metadata": {},
   "outputs": [],
   "source": []
  },
  {
   "cell_type": "code",
   "execution_count": null,
   "id": "50ab4df8-0eea-454a-a2c1-138ce0913f98",
   "metadata": {},
   "outputs": [],
   "source": []
  },
  {
   "cell_type": "code",
   "execution_count": null,
   "id": "d2105ae5-e68a-4d44-af19-085a41d9ba6e",
   "metadata": {},
   "outputs": [],
   "source": []
  },
  {
   "cell_type": "markdown",
   "id": "895c8fe6-b29a-4083-b098-051c34b722d3",
   "metadata": {},
   "source": [
    "## test"
   ]
  },
  {
   "cell_type": "code",
   "execution_count": 12,
   "id": "bdda2c54-beb4-47cf-aa84-03ef33da7365",
   "metadata": {},
   "outputs": [],
   "source": [
    "# api_key =\"Your-openai-key\"\n",
    "# openai.api_key = api_key\n",
    "# COMPLETIONS_MODEL = \"text-davinci-003\""
   ]
  },
  {
   "cell_type": "code",
   "execution_count": 24,
   "id": "4ecc4d91-df59-4d74-8388-6bea81cf6110",
   "metadata": {},
   "outputs": [
    {
     "data": {
      "text/plain": [
       "'[[\"$Period\", [\"2018\", \"2019\"]], [\"$Metrics\", [\"revenue\"]], [\"$GroupBy\", [\"by\"]], [\"$Dimensions\", [\"month\"]]]'"
      ]
     },
     "execution_count": 24,
     "metadata": {},
     "output_type": "execute_result"
    }
   ],
   "source": [
    "prompt = \"\"\"Tag the words given in Question and give response as tags. Don't try to answer and use the only words given in the Question. Keep order of words in Tags similar to Question\n",
    "Question: totalprice,\n",
    "Tags: [[\"$Metrics\", [\"totalprice\"]]]\n",
    "\n",
    "Question: revenue for this year\n",
    "Tags: [[\"$Metrics\", [\"revenue\"]], [\"$Filter\", [\"for\"]], [\"$Period\", [\"this\", \"year\"]]]\n",
    "\n",
    "Question: revenue for this year, last year\n",
    "Tags: [[\"$Metrics\", [\"revenue\"]], [\"$Filter\", [\"for\"]], [\"$Period\", [\"this\", \"year\"]], [\"$Period\", [\"last\", \"year\"]]]\n",
    "\n",
    "Question: 10% of top supplier by revenue\n",
    "Tags:  [[\\\"$MultiTableDate\\\", [\\\"10% of\\\"]], [\\\"$Super\\\", [\\\"top\\\"]], [\\\"$Dimensions\\\", [\\\"supplier\\\"]], [\\\"$GroupBy\\\", [\\\"by\\\"]], [\\\"$Metrics\\\", [\\\"revenue\\\"]]]\n",
    "\n",
    "Question: 2018 and 2019 revenue by month\n",
    "Tags:\"\"\"\n",
    "\n",
    "openai.Completion.create(\n",
    "    prompt=prompt,\n",
    "    temperature=0,\n",
    "    max_tokens=300,\n",
    "    top_p=1,\n",
    "    frequency_penalty=0,\n",
    "    presence_penalty=0,\n",
    "    model=COMPLETIONS_MODEL\n",
    ")[\"choices\"][0][\"text\"].strip(\" \\n\")"
   ]
  },
  {
   "cell_type": "code",
   "execution_count": 12,
   "id": "2a12eacd-a1ed-4996-a0f4-02431f091fea",
   "metadata": {},
   "outputs": [],
   "source": [
    "# ParaPhrased\n",
    "input_str = '10% of top supplier by revenue'\n",
    "prompt = f\"\"\" \n",
    "#Paraphrase the below query with more naturual language variations create as number of variations and add some words if needed like \"can you\", \"can you get me\", \"give me\"\n",
    "\n",
    "{input_str}\n",
    "\n",
    "Paraphrased:\n",
    "\"\"\"\n",
    "\n",
    "response = openai.Completion.create(\n",
    "  model=COMPLETIONS_MODEL,\n",
    "  prompt=prompt,\n",
    "  temperature=0.7,\n",
    "  max_tokens=256,\n",
    "  top_p=1,\n",
    "  frequency_penalty=0,\n",
    "  presence_penalty=0\n",
    ")\n"
   ]
  },
  {
   "cell_type": "code",
   "execution_count": 13,
   "id": "4caef89c-07d3-4d15-a525-5b08029960bd",
   "metadata": {},
   "outputs": [
    {
     "data": {
      "text/plain": [
       "'1. What are the top 10% of suppliers based on revenue?\\n2. Show me the suppliers with the highest revenue.\\n3. Can you provide me a list of the top 10% of suppliers based on revenue?\\n4. Give me the top suppliers that make up 10% of total revenue.\\n5. Can you get me a list of the suppliers that make up 10% of total revenue?\\n6. Who are the suppliers that account for 10% of total revenue?'"
      ]
     },
     "execution_count": 13,
     "metadata": {},
     "output_type": "execute_result"
    }
   ],
   "source": [
    "response[\"choices\"][0][\"text\"].strip(\" \\n\")"
   ]
  },
  {
   "cell_type": "code",
   "execution_count": null,
   "id": "0ceb3130-cc35-4390-8006-b2887c50aadd",
   "metadata": {},
   "outputs": [],
   "source": []
  },
  {
   "cell_type": "code",
   "execution_count": null,
   "id": "ac355b89-70eb-441a-b567-3a4f21694269",
   "metadata": {},
   "outputs": [],
   "source": []
  },
  {
   "cell_type": "code",
   "execution_count": 29,
   "id": "f206b710-1f36-4649-9eb9-6b2fea5a97dd",
   "metadata": {},
   "outputs": [],
   "source": [
    "# list1 = []\n",
    "# list2 = []\n",
    "# for input_str in questions[:5]:\n",
    "#     prompt = f\"\"\" \n",
    "#     #Paraphrase the below query with more naturual language variations create as number of variations and add some words if needed like \"can you\", \"can you get me\", \"give me\"\n",
    "#     {input_str}\n",
    "\n",
    "#     Paraphrased:\n",
    "#     \"\"\"\n",
    "\n",
    "#     response = openai.Completion.create(\n",
    "#       model=COMPLETIONS_MODEL,\n",
    "#       prompt=prompt,\n",
    "#       temperature=0.7,\n",
    "#       max_tokens=256,\n",
    "#       top_p=1,\n",
    "#       frequency_penalty=0,\n",
    "#       presence_penalty=0\n",
    "#     )[\"choices\"][0][\"text\"]\n",
    "#     list1.append(input_str)\n",
    "#     list2.append(response)"
   ]
  },
  {
   "cell_type": "code",
   "execution_count": 13,
   "id": "14e4f38a-16e2-40ff-91b1-75134a382ba9",
   "metadata": {},
   "outputs": [],
   "source": [
    "list1 = []\n",
    "list2 = []"
   ]
  },
  {
   "cell_type": "code",
   "execution_count": 14,
   "id": "c6e495bd-6b6a-4bd6-b683-6a5c96031e94",
   "metadata": {},
   "outputs": [
    {
     "name": "stdout",
     "output_type": "stream",
     "text": [
      "completed 100 items\n",
      "completed 200 items\n",
      "completed 300 items\n",
      "completed 400 items\n",
      "completed 500 items\n",
      "completed 600 items\n",
      "completed 700 items\n",
      "completed 800 items\n",
      "completed 900 items\n",
      "completed 1000 items\n",
      "CPU times: user 2.63 s, sys: 150 ms, total: 2.78 s\n",
      "Wall time: 1h 20min 55s\n"
     ]
    }
   ],
   "source": [
    "%%time\n",
    "import time\n",
    "import json\n",
    "\n",
    "questions = chat['utterance'].values\n",
    "\n",
    "chunked, n = questions[:1000], 100\n",
    "iter_ = 0\n",
    "\n",
    "for chunk in [chunked[i * n:(i + 1) * n] for i in range((len(chunked) + n - 1) // n )]:\n",
    "    for input_str in chunk:\n",
    "        prompt = f\"\"\" \n",
    "        #Paraphrase the below query with more naturual language variations create as number of variations and add some words if needed like \"can you\", \"can you get me\", \"give me\"\n",
    "        {input_str}\n",
    "\n",
    "        Paraphrased:\n",
    "        \"\"\"\n",
    "\n",
    "        try:\n",
    "            response = openai.Completion.create(\n",
    "                model=COMPLETIONS_MODEL,\n",
    "                prompt=prompt,\n",
    "                temperature=0.7,\n",
    "                max_tokens=256,\n",
    "                top_p=1,\n",
    "                frequency_penalty=0,\n",
    "                presence_penalty=0,\n",
    "                timeout=10\n",
    "            )[\"choices\"][0][\"text\"].strip(\" \\n\")\n",
    "            list1.append(input_str)\n",
    "            list2.append(response)\n",
    "            time.sleep(1)\n",
    "        except openai.error.APIConnectionError:\n",
    "            print(\"API request failed. Retrying in 5 seconds...\")\n",
    "            time.sleep(5)\n",
    "            continue\n",
    "            \n",
    "    \n",
    "    dict_ = []\n",
    "    for ut, para in zip(list1,list2):\n",
    "        dict_.append({\"utterance\":ut, \"paraphrase\":para})\n",
    "    with open(f'./paraphrase/paraphrased_batch_{iter_}.json', 'w') as jf:\n",
    "        json.dump(dict_, jf, indent=1)\n",
    "    iter_ = iter_+1\n",
    "    print(f\"completed {iter_*100} items\")\n",
    " "
   ]
  },
  {
   "cell_type": "code",
   "execution_count": 15,
   "id": "9ebe240c-1e2f-4f67-ae9a-9a869dcb499c",
   "metadata": {},
   "outputs": [
    {
     "data": {
      "text/plain": [
       "1000"
      ]
     },
     "execution_count": 15,
     "metadata": {},
     "output_type": "execute_result"
    }
   ],
   "source": [
    "len(list2)"
   ]
  },
  {
   "cell_type": "code",
   "execution_count": 27,
   "id": "f3fd9b72-5a87-42c3-8f08-10829ae914e5",
   "metadata": {},
   "outputs": [
    {
     "data": {
      "text/html": [
       "<div>\n",
       "<style scoped>\n",
       "    .dataframe tbody tr th:only-of-type {\n",
       "        vertical-align: middle;\n",
       "    }\n",
       "\n",
       "    .dataframe tbody tr th {\n",
       "        vertical-align: top;\n",
       "    }\n",
       "\n",
       "    .dataframe thead th {\n",
       "        text-align: right;\n",
       "    }\n",
       "</style>\n",
       "<table border=\"1\" class=\"dataframe\">\n",
       "  <thead>\n",
       "    <tr style=\"text-align: right;\">\n",
       "      <th></th>\n",
       "      <th>utterance</th>\n",
       "      <th>tags</th>\n",
       "      <th>paraphrase</th>\n",
       "    </tr>\n",
       "  </thead>\n",
       "  <tbody>\n",
       "    <tr>\n",
       "      <th>776</th>\n",
       "      <td>fulfilled the revenue</td>\n",
       "      <td>[[\"$Datum\", [\"fulfilled\"]], [\"$Optional\", [\"the\"]], [\"$Metrics\", [\"revenue\"]]]</td>\n",
       "      <td>1. Can you provide me with the revenue?\\n        2. Give me the revenue figures.\\n        3. Could you reveal the revenue?\\n        4. Do you have the revenue figures?\\n        5. What is the revenue total?</td>\n",
       "    </tr>\n",
       "  </tbody>\n",
       "</table>\n",
       "</div>"
      ],
      "text/plain": [
       "                 utterance  \\\n",
       "776  fulfilled the revenue   \n",
       "\n",
       "                                                                               tags  \\\n",
       "776  [[\"$Datum\", [\"fulfilled\"]], [\"$Optional\", [\"the\"]], [\"$Metrics\", [\"revenue\"]]]   \n",
       "\n",
       "                                                                                                                                                                                                         paraphrase  \n",
       "776  1. Can you provide me with the revenue?\\n        2. Give me the revenue figures.\\n        3. Could you reveal the revenue?\\n        4. Do you have the revenue figures?\\n        5. What is the revenue total?  "
      ]
     },
     "execution_count": 27,
     "metadata": {},
     "output_type": "execute_result"
    }
   ],
   "source": [
    "data = chat.head(len(list2))\n",
    "data['paraphrase'] = list2\n",
    "data.sample(1)"
   ]
  },
  {
   "cell_type": "code",
   "execution_count": 23,
   "id": "1c3c11c4-0eba-4f78-baf0-7271fb512835",
   "metadata": {},
   "outputs": [],
   "source": [
    "# chat['paraphrase'] = list2\n",
    "# chat.head(1)"
   ]
  },
  {
   "cell_type": "code",
   "execution_count": 19,
   "id": "1c54a418-290c-4af3-a3c6-a7aa01719a80",
   "metadata": {},
   "outputs": [],
   "source": [
    "# Create prompt and completion pairs\n",
    "pairs = []\n",
    "for index, ques in data.iterrows():\n",
    "    prompt = f\"Question: {ques['utterance']}, Paraphrase: {ques['paraphrase']}\"\n",
    "    completion = f\"Tags: {ques['tags']}\"\n",
    "    pairs.append({\"prompt\":prompt, \"completion\":completion})\n"
   ]
  },
  {
   "cell_type": "code",
   "execution_count": 20,
   "id": "5e662016-de45-44f4-ad70-41c4b5181321",
   "metadata": {},
   "outputs": [],
   "source": [
    "# Export to JSON file\n",
    "with open('pc_pairs.json', 'w') as jf:\n",
    "    json.dump(pairs, jf, indent=1)"
   ]
  },
  {
   "cell_type": "code",
   "execution_count": 21,
   "id": "03169932-3a9f-402f-b92b-465d20614468",
   "metadata": {},
   "outputs": [],
   "source": [
    "with open('pc_pairs.jsonl', 'w') as f:\n",
    "    for pair in pairs:\n",
    "        f.write(json.dumps(pair) + '\\n')"
   ]
  },
  {
   "cell_type": "code",
   "execution_count": null,
   "id": "95557263-e7d7-4790-a1bc-59f5fc55d56b",
   "metadata": {},
   "outputs": [],
   "source": []
  }
 ],
 "metadata": {
  "kernelspec": {
   "display_name": "Python 3 (ipykernel)",
   "language": "python",
   "name": "python3"
  },
  "language_info": {
   "codemirror_mode": {
    "name": "ipython",
    "version": 3
   },
   "file_extension": ".py",
   "mimetype": "text/x-python",
   "name": "python",
   "nbconvert_exporter": "python",
   "pygments_lexer": "ipython3",
   "version": "3.9.12"
  }
 },
 "nbformat": 4,
 "nbformat_minor": 5
}
